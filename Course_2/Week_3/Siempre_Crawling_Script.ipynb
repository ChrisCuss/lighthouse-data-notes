{
 "cells": [
  {
   "cell_type": "code",
   "execution_count": 3,
   "id": "53529a6a-175c-4b55-87e5-e9ea62dbb256",
   "metadata": {},
   "outputs": [],
   "source": [
    "import requests\n",
    "from bs4 import BeautifulSoup\n",
    "import pandas as pd\n",
    "\n",
    "def scrape_comments(url):\n",
    "    # Fetch the webpage content\n",
    "    response = requests.get(url)\n",
    "    soup = BeautifulSoup(response.content, 'html.parser')\n",
    "\n",
    "    # Find all comments & ratings\n",
    "    comments = soup.find_all('div', class_='comment-product-page')\n",
    "\n",
    "    # List to store comment & rating data\n",
    "    comment_data = []\n",
    "\n",
    "    for comment in comments:\n",
    "        # Extracting rating details\n",
    "        author = comment.find('div', class_='comment__user-name').get_text(strip=True)\n",
    "        rating = comment.find('meta', itemprop='ratingValue')['content']\n",
    "        description = comment.find('p', itemprop='description').get_text(strip=True)\n",
    "        recommend = 'Yes' if comment.find('div', class_='comment__recommend') else 'No'\n",
    "\n",
    "        # Append to the list\n",
    "        comment_data.append({\n",
    "            'Author': author,\n",
    "            'Rating': rating,\n",
    "            'Description': description,\n",
    "            'Recommend': recommend\n",
    "        })\n",
    "\n",
    "    # Create a DataFrame and save to a spreadsheet\n",
    "    df = pd.DataFrame(comment_data)\n",
    "    df.to_csv('repo_ratings.csv', index=False)\n",
    "\n",
    "# URL of the page to scrape\n",
    "url = 'https://www.tequilamatchmaker.com/tequilas/7138-siempre-tequila-reposado'\n",
    "scrape_comments(url)"
   ]
  },
  {
   "cell_type": "code",
   "execution_count": null,
   "id": "f2359b92-3e1f-4963-acb1-60f1dd1b96ed",
   "metadata": {},
   "outputs": [],
   "source": []
  }
 ],
 "metadata": {
  "kernelspec": {
   "display_name": "lighthouse_env",
   "language": "python",
   "name": "lighthouse_env"
  },
  "language_info": {
   "codemirror_mode": {
    "name": "ipython",
    "version": 3
   },
   "file_extension": ".py",
   "mimetype": "text/x-python",
   "name": "python",
   "nbconvert_exporter": "python",
   "pygments_lexer": "ipython3",
   "version": "3.9.18"
  }
 },
 "nbformat": 4,
 "nbformat_minor": 5
}
