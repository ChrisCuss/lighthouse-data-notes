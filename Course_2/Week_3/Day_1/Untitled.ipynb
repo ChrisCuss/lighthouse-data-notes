{
 "cells": [
  {
   "cell_type": "code",
   "execution_count": 18,
   "id": "93f92e8d-07bc-49be-8918-55a8f10d2488",
   "metadata": {},
   "outputs": [],
   "source": [
    "from collections import Counter\n",
    "\n",
    "my_list = [1, 2, 3, 4, 1, 2, 6, 7, 3, 8, 1]\n",
    "cnt = Counter({1: 3, 2: 4})"
   ]
  },
  {
   "cell_type": "code",
   "execution_count": 22,
   "id": "ac53ce48-e0e7-44d9-92f6-b0b0c3c61bac",
   "metadata": {},
   "outputs": [
    {
     "name": "stdout",
     "output_type": "stream",
     "text": [
      "<itertools.chain object at 0x1077a06a0>\n"
     ]
    }
   ],
   "source": [
    "print(cnt.elements())"
   ]
  },
  {
   "cell_type": "code",
   "execution_count": 21,
   "id": "eafe347b-3746-4b93-a5c5-55555be37d18",
   "metadata": {},
   "outputs": [
    {
     "name": "stdout",
     "output_type": "stream",
     "text": [
      "[(1, 3), (2, 2), (3, 2), (4, 1), (6, 1), (7, 1), (8, 1)]\n"
     ]
    }
   ],
   "source": [
    "list = [1,2,3,4,1,2,6,7,3,8,1]\n",
    "cnt = Counter(list)\n",
    "print(cnt.most_common())"
   ]
  },
  {
   "cell_type": "code",
   "execution_count": null,
   "id": "63589884-f223-4004-9da2-f0ee6fbaaeb4",
   "metadata": {},
   "outputs": [],
   "source": []
  }
 ],
 "metadata": {
  "kernelspec": {
   "display_name": "lighthouse_env",
   "language": "python",
   "name": "lighthouse_env"
  },
  "language_info": {
   "codemirror_mode": {
    "name": "ipython",
    "version": 3
   },
   "file_extension": ".py",
   "mimetype": "text/x-python",
   "name": "python",
   "nbconvert_exporter": "python",
   "pygments_lexer": "ipython3",
   "version": "3.9.18"
  }
 },
 "nbformat": 4,
 "nbformat_minor": 5
}
