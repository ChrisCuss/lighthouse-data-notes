{
 "cells": [
  {
   "cell_type": "code",
   "execution_count": 41,
   "id": "07f6f3dc-1f20-4db5-bd25-0d94bfd5aa44",
   "metadata": {},
   "outputs": [],
   "source": [
    "import requests\n",
    "import os"
   ]
  },
  {
   "cell_type": "code",
   "execution_count": 42,
   "id": "25073e39-9e1b-4f8b-92e6-d2dd239b41e7",
   "metadata": {},
   "outputs": [],
   "source": [
    "api_key = 'fsq3exRMkza2ej8ozSR+2ESAif4rgPxopvHti8dLV87FX08='"
   ]
  },
  {
   "cell_type": "code",
   "execution_count": 43,
   "id": "afffad47-d801-4959-8439-cad24d1e5623",
   "metadata": {
    "editable": true,
    "slideshow": {
     "slide_type": ""
    },
    "tags": []
   },
   "outputs": [],
   "source": [
    "location = \"Toronto,Canada\""
   ]
  },
  {
   "cell_type": "code",
   "execution_count": 44,
   "id": "7b429ef4-5767-4a4e-ada1-b0f103b526db",
   "metadata": {},
   "outputs": [],
   "source": [
    "url = \"https://api.foursquare.com/v3/places/search?near=\" + location"
   ]
  },
  {
   "cell_type": "code",
   "execution_count": 45,
   "id": "6d2c435b-8fd1-48a1-ac2b-d832372c10d7",
   "metadata": {},
   "outputs": [],
   "source": [
    "# Create dictionary for headers\n",
    "headers = {\"Accept\": \"application/json\"}\n",
    "# Add key with our API KEY\n",
    "headers['Authorization'] = api_key"
   ]
  },
  {
   "cell_type": "code",
   "execution_count": 46,
   "id": "50e42dbe-ed4b-4112-9dda-ba7827b3e07a",
   "metadata": {},
   "outputs": [],
   "source": [
    "result = requests.get(url, headers=headers)"
   ]
  },
  {
   "cell_type": "code",
   "execution_count": 47,
   "id": "8a39d008-fb21-4e7b-8100-16c3469fe8eb",
   "metadata": {},
   "outputs": [
    {
     "name": "stdout",
     "output_type": "stream",
     "text": [
      "<Response [200]>\n"
     ]
    }
   ],
   "source": [
    "print(result)"
   ]
  },
  {
   "cell_type": "code",
   "execution_count": 48,
   "id": "0bdcbe49-3fd4-4aa3-91ec-1aefd4188aaa",
   "metadata": {},
   "outputs": [
    {
     "name": "stdout",
     "output_type": "stream",
     "text": [
      "{'results': [{'fsq_id': '4fdc0e98e4b05197cd14912b', 'categories': [{'id': 13003, 'name': 'Bar', 'short_name': 'Bar', 'plural_name': 'Bars', 'icon': {'prefix': 'https://ss3.4sqi.net/img/categories_v2/nightlife/pub_', 'suffix': '.png'}}, {'id': 13051, 'name': 'Fish and Chips Shop', 'short_name': 'Fish and Chips Shop', 'plural_name': 'Fish and Chips Shops', 'icon': {'prefix': 'https://ss3.4sqi.net/img/categories_v2/food/fishandchips_', 'suffix': '.png'}}, {'id': 13057, 'name': 'Gastropub', 'short_name': 'Gastropub', 'plural_name': 'Gastropubs', 'icon': {'prefix': 'https://ss3.4sqi.net/img/categories_v2/food/gastropub_', 'suffix': '.png'}}], 'chains': [], 'closed_bucket': 'VeryLikelyOpen', 'distance': 457, 'geocodes': {'main': {'latitude': 43.703712, 'longitude': -79.413464}, 'roof': {'latitude': 43.703712, 'longitude': -79.413464}}, 'link': '/v3/places/4fdc0e98e4b05197cd14912b', 'location': {'address': '508 Eglinton Ave W', 'country': 'CA', 'cross_street': 'Heddington Ave', 'formatted_address': '508 Eglinton Ave W (Heddington Ave), Toronto ON M5N 1A5', 'locality': 'Toronto', 'postcode': 'M5N 1A5', 'region': 'ON'}, 'name': 'The Abbot on Eglinton', 'related_places': {}, 'timezone': 'America/Toronto'}, {'fsq_id': '4b0afc19f964a520212b23e3', 'categories': [{'id': 16000, 'name': 'Landmarks and Outdoors', 'short_name': 'Landmarks and Outdoors', 'plural_name': 'Landmarks and Outdoors', 'icon': {'prefix': 'https://ss3.4sqi.net/img/categories_v2/parks_outdoors/default_', 'suffix': '.png'}}, {'id': 18000, 'name': 'Sports and Recreation', 'short_name': 'Sports and Recreation', 'plural_name': 'Sports and Recreation', 'icon': {'prefix': 'https://ss3.4sqi.net/img/categories_v2/shops/sports_outdoors_', 'suffix': '.png'}}], 'chains': [], 'closed_bucket': 'VeryLikelyOpen', 'distance': 1304, 'geocodes': {'main': {'latitude': 43.678243, 'longitude': -79.375198}, 'roof': {'latitude': 43.678243, 'longitude': -79.375198}}, 'link': '/v3/places/4b0afc19f964a520212b23e3', 'location': {'address': '100 Glen Rd', 'country': 'CA', 'cross_street': 'Strathearn', 'formatted_address': '100 Glen Rd (Strathearn), Toronto ON', 'locality': 'Toronto', 'region': 'ON'}, 'name': 'Cedarvale Park', 'related_places': {'children': [{'fsq_id': '63ed3f67ddccfe65fcbe65de', 'categories': [{'id': 16019, 'name': 'Hiking Trail', 'short_name': 'Trail', 'plural_name': 'Hiking Trails', 'icon': {'prefix': 'https://ss3.4sqi.net/img/categories_v2/parks_outdoors/hikingtrail_', 'suffix': '.png'}}], 'name': 'Cedarvale Trail'}, {'fsq_id': '4c24abfcf7ced13aa425236d', 'categories': [{'id': 16000, 'name': 'Landmarks and Outdoors', 'short_name': 'Landmarks and Outdoors', 'plural_name': 'Landmarks and Outdoors', 'icon': {'prefix': 'https://ss3.4sqi.net/img/categories_v2/parks_outdoors/default_', 'suffix': '.png'}}], 'name': 'Cedarvale Ravine'}, {'fsq_id': '61c4f0b4e565fe05c7572a44', 'categories': [{'id': 16000, 'name': 'Landmarks and Outdoors', 'short_name': 'Landmarks and Outdoors', 'plural_name': 'Landmarks and Outdoors', 'icon': {'prefix': 'https://ss3.4sqi.net/img/categories_v2/parks_outdoors/default_', 'suffix': '.png'}}], 'name': 'Toboggan Hill'}, {'fsq_id': '5050f634e4b092c65b899303', 'categories': [{'id': 16033, 'name': 'Dog Park', 'short_name': 'Dog Park', 'plural_name': 'Dog Parks', 'icon': {'prefix': 'https://ss3.4sqi.net/img/categories_v2/parks_outdoors/dogrun_', 'suffix': '.png'}}], 'name': 'Cedarvale Dog Park'}]}, 'timezone': 'America/Toronto'}, {'fsq_id': '4aea405ef964a52082ba21e3', 'categories': [{'id': 17058, 'name': 'Beer Store', 'short_name': 'Beer Store', 'plural_name': 'Beer Stores', 'icon': {'prefix': 'https://ss3.4sqi.net/img/categories_v2/nightlife/beergarden_', 'suffix': '.png'}}, {'id': 17069, 'name': 'Grocery Store', 'short_name': 'Grocery Store', 'plural_name': 'Grocery Stores', 'icon': {'prefix': 'https://ss3.4sqi.net/img/categories_v2/shops/food_grocery_', 'suffix': '.png'}}, {'id': 17076, 'name': 'Liquor Store', 'short_name': 'Liquor Store', 'plural_name': 'Liquor Stores', 'icon': {'prefix': 'https://ss3.4sqi.net/img/categories_v2/shops/food_liquor_', 'suffix': '.png'}}], 'chains': [], 'closed_bucket': 'VeryLikelyOpen', 'distance': 2885, 'geocodes': {'main': {'latitude': 43.680997, 'longitude': -79.390653}, 'roof': {'latitude': 43.680997, 'longitude': -79.390653}}, 'link': '/v3/places/4aea405ef964a52082ba21e3', 'location': {'address': '10 Scrivener Sq', 'country': 'CA', 'cross_street': 'at Yonge St.', 'formatted_address': '10 Scrivener Sq (at Yonge St.), Toronto ON M4W 3Y9', 'locality': 'Toronto', 'postcode': 'M4W 3Y9', 'region': 'ON'}, 'name': 'Lcbo', 'related_places': {}, 'timezone': 'America/Toronto'}, {'fsq_id': '4adcfd7cf964a5203e6321e3', 'categories': [{'id': 17069, 'name': 'Grocery Store', 'short_name': 'Grocery Store', 'plural_name': 'Grocery Stores', 'icon': {'prefix': 'https://ss3.4sqi.net/img/categories_v2/shops/food_grocery_', 'suffix': '.png'}}], 'chains': [], 'closed_bucket': 'VeryLikelyOpen', 'distance': 3531, 'geocodes': {'main': {'latitude': 43.668694, 'longitude': -79.420868}, 'roof': {'latitude': 43.668694, 'longitude': -79.420868}}, 'link': '/v3/places/4adcfd7cf964a5203e6321e3', 'location': {'address': '200 Christie St', 'country': 'CA', 'cross_street': 'at Essex St', 'formatted_address': '200 Christie St (at Essex St), Toronto ON M6G 3B6', 'locality': 'Toronto', 'postcode': 'M6G 3B6', 'region': 'ON'}, 'name': 'Fiesta Farms', 'related_places': {}, 'timezone': 'America/Toronto'}, {'fsq_id': '5bd2379cbcbf7a0039a2d7b9', 'categories': [{'id': 13003, 'name': 'Bar', 'short_name': 'Bar', 'plural_name': 'Bars', 'icon': {'prefix': 'https://ss3.4sqi.net/img/categories_v2/nightlife/pub_', 'suffix': '.png'}}, {'id': 13354, 'name': 'Theme Restaurant', 'short_name': 'Theme Restaurant', 'plural_name': 'Theme Restaurants', 'icon': {'prefix': 'https://ss3.4sqi.net/img/categories_v2/food/default_', 'suffix': '.png'}}], 'chains': [], 'closed_bucket': 'VeryLikelyOpen', 'distance': 4631, 'geocodes': {'main': {'latitude': 43.666761, 'longitude': -79.38179}, 'roof': {'latitude': 43.666761, 'longitude': -79.38179}}, 'link': '/v3/places/5bd2379cbcbf7a0039a2d7b9', 'location': {'address': '580 Church St', 'country': 'CA', 'cross_street': '', 'formatted_address': '580 Church St, Toronto ON M4Y 2E5', 'locality': 'Toronto', 'postcode': 'M4Y 2E5', 'region': 'ON'}, 'name': 'Storm Crow Manor', 'related_places': {}, 'timezone': 'America/Toronto'}, {'fsq_id': '572e0547498ed619e59df508', 'categories': [{'id': 13035, 'name': 'Coffee Shop', 'short_name': 'Coffee Shop', 'plural_name': 'Coffee Shops', 'icon': {'prefix': 'https://ss3.4sqi.net/img/categories_v2/food/coffeeshop_', 'suffix': '.png'}}], 'chains': [], 'closed_bucket': 'VeryLikelyOpen', 'distance': 4698, 'geocodes': {'drop_off': {'latitude': 43.665639, 'longitude': -79.449889}, 'main': {'latitude': 43.665549, 'longitude': -79.450108}, 'roof': {'latitude': 43.665549, 'longitude': -79.450108}}, 'link': '/v3/places/572e0547498ed619e59df508', 'location': {'address': '300 Campbell St', 'country': 'CA', 'cross_street': 'Dupont St', 'formatted_address': '300 Campbell St (Dupont St), Toronto ON', 'locality': 'Toronto', 'region': 'ON'}, 'name': 'Hale Coffee', 'related_places': {}, 'timezone': 'America/Toronto'}, {'fsq_id': '5a81ae339deb7d369fa7f146', 'categories': [{'id': 13035, 'name': 'Coffee Shop', 'short_name': 'Coffee Shop', 'plural_name': 'Coffee Shops', 'icon': {'prefix': 'https://ss3.4sqi.net/img/categories_v2/food/coffeeshop_', 'suffix': '.png'}}], 'chains': [], 'closed_bucket': 'VeryLikelyOpen', 'distance': 5283, 'geocodes': {'drop_off': {'latitude': 43.658745, 'longitude': -79.383777}, 'main': {'latitude': 43.658979, 'longitude': -79.383825}, 'roof': {'latitude': 43.658979, 'longitude': -79.383825}}, 'link': '/v3/places/5a81ae339deb7d369fa7f146', 'location': {'address': '44 Gerrard St W', 'country': 'CA', 'cross_street': 'Yonge St', 'formatted_address': '44 Gerrard St W (Yonge St), Toronto ON M5G 2K2', 'locality': 'Toronto', 'postcode': 'M5G 2K2', 'region': 'ON'}, 'name': 'Hailed Coffee', 'related_places': {}, 'timezone': 'America/Toronto'}, {'fsq_id': '4bcb17a7cc8cd13a0ca5becf', 'categories': [{'id': 16032, 'name': 'Park', 'short_name': 'Park', 'plural_name': 'Parks', 'icon': {'prefix': 'https://ss3.4sqi.net/img/categories_v2/parks_outdoors/park_', 'suffix': '.png'}}], 'chains': [], 'closed_bucket': 'VeryLikelyOpen', 'distance': 5321, 'geocodes': {'main': {'latitude': 43.72335083905222, 'longitude': -79.35836791992188}}, 'link': '/v3/places/4bcb17a7cc8cd13a0ca5becf', 'location': {'address': 'Eglinton Ave E', 'country': 'CA', 'cross_street': 'at Leslie St', 'formatted_address': 'Eglinton Ave E (at Leslie St), Toronto ON', 'locality': 'Toronto', 'region': 'ON'}, 'name': 'Sunnybrook Park', 'related_places': {'children': [{'fsq_id': '4b6f2179f964a52020df2ce3', 'categories': [{'id': 16033, 'name': 'Dog Park', 'short_name': 'Dog Park', 'plural_name': 'Dog Parks', 'icon': {'prefix': 'https://ss3.4sqi.net/img/categories_v2/parks_outdoors/dogrun_', 'suffix': '.png'}}], 'name': 'Sunnybrook Dog Park'}]}, 'timezone': 'America/Toronto'}, {'fsq_id': '550dfcb6498e446e1eff9031', 'categories': [{'id': 13009, 'name': 'Cocktail Bar', 'short_name': 'Cocktail', 'plural_name': 'Cocktail Bars', 'icon': {'prefix': 'https://ss3.4sqi.net/img/categories_v2/nightlife/cocktails_', 'suffix': '.png'}}, {'id': 13034, 'name': 'Café', 'short_name': 'Café', 'plural_name': 'Cafés', 'icon': {'prefix': 'https://ss3.4sqi.net/img/categories_v2/food/cafe_', 'suffix': '.png'}}, {'id': 13065, 'name': 'Restaurant', 'short_name': 'Restaurant', 'plural_name': 'Restaurants', 'icon': {'prefix': 'https://ss3.4sqi.net/img/categories_v2/food/default_', 'suffix': '.png'}}], 'chains': [], 'closed_bucket': 'VeryLikelyOpen', 'distance': 5483, 'geocodes': {'main': {'latitude': 43.65083822543628, 'longitude': -79.41266119480133}}, 'link': '/v3/places/550dfcb6498e446e1eff9031', 'location': {'address': '913 Dundas St W', 'country': 'CA', 'cross_street': 'at Bellwoods Ave', 'formatted_address': '913 Dundas St W (at Bellwoods Ave), Toronto ON M6J 1V9', 'locality': 'Toronto', 'postcode': 'M6J 1V9', 'region': 'ON'}, 'name': 'Northern Belle', 'related_places': {}, 'timezone': 'America/Toronto'}, {'fsq_id': '4ad4c05ef964a520daf620e3', 'categories': [{'id': 10004, 'name': 'Art Gallery', 'short_name': 'Art Gallery', 'plural_name': 'Art Galleries', 'icon': {'prefix': 'https://ss3.4sqi.net/img/categories_v2/arts_entertainment/artgallery_', 'suffix': '.png'}}], 'chains': [], 'closed_bucket': 'VeryLikelyOpen', 'distance': 5457, 'geocodes': {'main': {'latitude': 43.653538, 'longitude': -79.392624}, 'roof': {'latitude': 43.653685, 'longitude': -79.392566}}, 'link': '/v3/places/4ad4c05ef964a520daf620e3', 'location': {'address': '317 Dundas St W', 'country': 'CA', 'cross_street': 'at Beverley St', 'formatted_address': '317 Dundas St W (at Beverley St), Toronto ON M5T 1G4', 'locality': 'Toronto', 'postcode': 'M5T 1G4', 'region': 'ON'}, 'name': 'Art Gallery of Ontario', 'related_places': {'children': [{'fsq_id': '4d13cab06d103704a15d1bbd', 'categories': [{'id': 17089, 'name': 'Gift Store', 'short_name': 'Gift Store', 'plural_name': 'Gift Stores', 'icon': {'prefix': 'https://ss3.4sqi.net/img/categories_v2/shops/giftshop_', 'suffix': '.png'}}], 'name': 'Gift Shop'}, {'fsq_id': '5dab68b1e5f99900080adecf', 'categories': [{'id': 10004, 'name': 'Art Gallery', 'short_name': 'Art Gallery', 'plural_name': 'Art Galleries', 'icon': {'prefix': 'https://ss3.4sqi.net/img/categories_v2/arts_entertainment/artgallery_', 'suffix': '.png'}}], 'name': 'Murray Frum Gallery'}, {'fsq_id': '59ef7882345cbe36e4b44ace', 'categories': [{'id': 10004, 'name': 'Art Gallery', 'short_name': 'Art Gallery', 'plural_name': 'Art Galleries', 'icon': {'prefix': 'https://ss3.4sqi.net/img/categories_v2/arts_entertainment/artgallery_', 'suffix': '.png'}}], 'name': 'Henry Moore Sculpture Centre'}, {'fsq_id': '5abd69b4fe37406f05cdd2c2', 'categories': [{'id': 13027, 'name': 'Bistro', 'short_name': 'Bistro', 'plural_name': 'Bistros', 'icon': {'prefix': 'https://ss3.4sqi.net/img/categories_v2/food/default_', 'suffix': '.png'}}], 'name': 'The Shop AGO'}, {'fsq_id': '4ad4c060f964a52064f720e3', 'categories': [{'id': 13034, 'name': 'Café', 'short_name': 'Café', 'plural_name': 'Cafés', 'icon': {'prefix': 'https://ss3.4sqi.net/img/categories_v2/food/cafe_', 'suffix': '.png'}}], 'name': 'CafeAGO'}, {'fsq_id': '5e0a6342e72ebb0007055268', 'categories': [{'id': 11165, 'name': 'Storage Facility', 'short_name': 'Storage', 'plural_name': 'Storage Facilities', 'icon': {'prefix': 'https://ss3.4sqi.net/img/categories_v2/shops/storage_', 'suffix': '.png'}}], 'name': 'AGO Coat Check'}, {'fsq_id': '4d404a70915a370411f5137f', 'categories': [{'id': 10004, 'name': 'Art Gallery', 'short_name': 'Art Gallery', 'plural_name': 'Art Galleries', 'icon': {'prefix': 'https://ss3.4sqi.net/img/categories_v2/arts_entertainment/artgallery_', 'suffix': '.png'}}, {'id': 11007, 'name': 'Auditorium', 'short_name': 'Auditorium', 'plural_name': 'Auditoriums', 'icon': {'prefix': 'https://ss3.4sqi.net/img/categories_v2/building/auditorium_', 'suffix': '.png'}}, {'id': 11039, 'name': 'Event Space', 'short_name': 'Event Space', 'plural_name': 'Event Spaces', 'icon': {'prefix': 'https://ss3.4sqi.net/img/categories_v2/building/eventspace_', 'suffix': '.png'}}], 'name': 'Baillie Court'}, {'fsq_id': '50049244d86ca6e40253fcf2', 'categories': [{'id': 11039, 'name': 'Event Space', 'short_name': 'Event Space', 'plural_name': 'Event Spaces', 'icon': {'prefix': 'https://ss3.4sqi.net/img/categories_v2/building/eventspace_', 'suffix': '.png'}}], 'name': 'Step Up Revolution to'}, {'fsq_id': '4ae47067f964a520989a21e3', 'categories': [{'id': 17045, 'name': 'Jewelry Store', 'short_name': 'Jewelry', 'plural_name': 'Jewelry Stores', 'icon': {'prefix': 'https://ss3.4sqi.net/img/categories_v2/shops/jewelry_', 'suffix': '.png'}}], 'name': 'Art Square Cafe'}, {'fsq_id': '4ad4c062f964a520bef720e3', 'categories': [{'id': 10024, 'name': 'Movie Theater', 'short_name': 'Movie Theater', 'plural_name': 'Movie Theaters', 'icon': {'prefix': 'https://ss3.4sqi.net/img/categories_v2/arts_entertainment/movietheater_', 'suffix': '.png'}}], 'name': 'Jackman Hall'}, {'fsq_id': '4ae9f5b9f964a52002b821e3', 'categories': [{'id': 13034, 'name': 'Café', 'short_name': 'Café', 'plural_name': 'Cafés', 'icon': {'prefix': 'https://ss3.4sqi.net/img/categories_v2/food/cafe_', 'suffix': '.png'}}], 'name': 'AGO Espresso Bar'}, {'fsq_id': '5d1f232238c7d60024b7b790', 'categories': [{'id': 10016, 'name': 'Exhibit', 'short_name': 'Exhibit', 'plural_name': 'Exhibits', 'icon': {'prefix': 'https://ss3.4sqi.net/img/categories_v2/arts_entertainment/default_', 'suffix': '.png'}}], 'name': \"Yayoi Kusama: Infinity Mirrored Room — Let's Survive Forever\"}, {'fsq_id': '4ba64e69f964a520794439e3', 'categories': [{'id': 10004, 'name': 'Art Gallery', 'short_name': 'Art Gallery', 'plural_name': 'Art Galleries', 'icon': {'prefix': 'https://ss3.4sqi.net/img/categories_v2/arts_entertainment/artgallery_', 'suffix': '.png'}}], 'name': 'Norma Ridley Members’ Lounge'}, {'fsq_id': '4f06065b02d5265073806d8f', 'categories': [{'id': 12080, 'name': 'Library', 'short_name': 'Library', 'plural_name': 'Libraries', 'icon': {'prefix': 'https://ss3.4sqi.net/img/categories_v2/building/library_', 'suffix': '.png'}}], 'name': 'E.P. Taylor Research Library & Archives'}]}, 'timezone': 'America/Toronto'}], 'context': {'geo_bounds': {'circle': {'center': {'latitude': 43.70011, 'longitude': -79.4163}, 'radius': 16290}}}}\n"
     ]
    }
   ],
   "source": [
    "print(result.json())"
   ]
  },
  {
   "cell_type": "code",
   "execution_count": 50,
   "id": "6d64024d-bb1b-48d0-b65f-7158a38d256c",
   "metadata": {
    "editable": true,
    "slideshow": {
     "slide_type": ""
    },
    "tags": []
   },
   "outputs": [],
   "source": [
    "response = requests.get('https://api.github.com')"
   ]
  },
  {
   "cell_type": "code",
   "execution_count": 51,
   "id": "b2804c3b-15d8-4721-8b6a-a3b811852853",
   "metadata": {},
   "outputs": [
    {
     "data": {
      "text/plain": [
       "200"
      ]
     },
     "execution_count": 51,
     "metadata": {},
     "output_type": "execute_result"
    }
   ],
   "source": [
    "response.status_code"
   ]
  },
  {
   "cell_type": "code",
   "execution_count": 52,
   "id": "4fafcd6a-8309-4f1b-81ce-d7ff48792de8",
   "metadata": {},
   "outputs": [
    {
     "name": "stdout",
     "output_type": "stream",
     "text": [
      "Success!\n"
     ]
    }
   ],
   "source": [
    "if response.status_code == 200:\n",
    "    print('Success!')\n",
    "elif response.status_code == 404:\n",
    "    print('Not Found.')"
   ]
  },
  {
   "cell_type": "code",
   "execution_count": null,
   "id": "468a63ec-10f6-4090-9974-0d7c19f67958",
   "metadata": {},
   "outputs": [],
   "source": []
  }
 ],
 "metadata": {
  "kernelspec": {
   "display_name": "lighthouse_env",
   "language": "python",
   "name": "lighthouse_env"
  },
  "language_info": {
   "codemirror_mode": {
    "name": "ipython",
    "version": 3
   },
   "file_extension": ".py",
   "mimetype": "text/x-python",
   "name": "python",
   "nbconvert_exporter": "python",
   "pygments_lexer": "ipython3",
   "version": "3.9.18"
  }
 },
 "nbformat": 4,
 "nbformat_minor": 5
}
