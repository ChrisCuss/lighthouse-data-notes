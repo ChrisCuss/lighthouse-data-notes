{
 "cells": [
  {
   "cell_type": "code",
   "execution_count": 1,
   "id": "cda04958-f216-416d-9b83-c2715b793153",
   "metadata": {},
   "outputs": [
    {
     "data": {
      "text/plain": [
       "''"
      ]
     },
     "execution_count": 1,
     "metadata": {},
     "output_type": "execute_result"
    }
   ],
   "source": [
    "s = \"foo\"\n",
    "s*-7"
   ]
  },
  {
   "cell_type": "code",
   "execution_count": 2,
   "id": "4f0aaddd-a61b-4abc-88f3-0401f3f9c9da",
   "metadata": {},
   "outputs": [
    {
     "data": {
      "text/plain": [
       "False"
      ]
     },
     "execution_count": 2,
     "metadata": {},
     "output_type": "execute_result"
    }
   ],
   "source": [
    "s not in \"That's good food for thought\""
   ]
  },
  {
   "cell_type": "code",
   "execution_count": 3,
   "id": "816c05a3-b3b7-40c6-8d5a-be339705125a",
   "metadata": {},
   "outputs": [
    {
     "data": {
      "text/plain": [
       "True"
      ]
     },
     "execution_count": 3,
     "metadata": {},
     "output_type": "execute_result"
    }
   ],
   "source": [
    "s not in \"Fuck you Bradley\""
   ]
  },
  {
   "cell_type": "code",
   "execution_count": 4,
   "id": "c2f807f7-7734-47b6-9561-720f7abff7fc",
   "metadata": {},
   "outputs": [
    {
     "data": {
      "text/plain": [
       "3"
      ]
     },
     "execution_count": 4,
     "metadata": {},
     "output_type": "execute_result"
    }
   ],
   "source": [
    "len(s)"
   ]
  },
  {
   "cell_type": "code",
   "execution_count": 5,
   "id": "5893eea3-8ae1-42f4-81a4-43dd8960b3a5",
   "metadata": {},
   "outputs": [
    {
     "data": {
      "text/plain": [
       "'foo'"
      ]
     },
     "execution_count": 5,
     "metadata": {},
     "output_type": "execute_result"
    }
   ],
   "source": [
    "str(s)"
   ]
  },
  {
   "cell_type": "code",
   "execution_count": 6,
   "id": "76f276a1-a036-450d-ad07-240e3a9904a2",
   "metadata": {},
   "outputs": [
    {
     "ename": "TypeError",
     "evalue": "an integer is required (got type str)",
     "output_type": "error",
     "traceback": [
      "\u001b[0;31m---------------------------------------------------------------------------\u001b[0m",
      "\u001b[0;31mTypeError\u001b[0m                                 Traceback (most recent call last)",
      "Cell \u001b[0;32mIn[6], line 1\u001b[0m\n\u001b[0;32m----> 1\u001b[0m \u001b[38;5;28;43mchr\u001b[39;49m\u001b[43m(\u001b[49m\u001b[43ms\u001b[49m\u001b[43m)\u001b[49m\n",
      "\u001b[0;31mTypeError\u001b[0m: an integer is required (got type str)"
     ]
    }
   ],
   "source": [
    "chr(s)"
   ]
  },
  {
   "cell_type": "code",
   "execution_count": null,
   "id": "7b517a1a-30be-4e7a-8677-3a1b40c4bbc8",
   "metadata": {},
   "outputs": [],
   "source": [
    "ord(s)"
   ]
  },
  {
   "cell_type": "code",
   "execution_count": null,
   "id": "320bdc7d-7a85-47e9-b140-c423032ce58b",
   "metadata": {},
   "outputs": [],
   "source": [
    "ord('a')"
   ]
  },
  {
   "cell_type": "code",
   "execution_count": null,
   "id": "90e21b17-00c3-460c-864d-e2021cb79d95",
   "metadata": {},
   "outputs": [],
   "source": [
    "customer_order = {\n",
    "    'toppings': ['Pepperoni', 'Black Olives', 'Bacon'],\n",
    "    'address': '67 Prom Crescent'\n",
    "}\n",
    "\n",
    "customer_order['toppings']\n"
   ]
  },
  {
   "cell_type": "code",
   "execution_count": null,
   "id": "7a423252-34ce-4cc5-84ad-a7004f820ea3",
   "metadata": {},
   "outputs": [],
   "source": [
    "title('fubar fubar dubar')"
   ]
  },
  {
   "cell_type": "code",
   "execution_count": null,
   "id": "c114928b-27fc-4d1a-9c0c-4a162c70e7f5",
   "metadata": {},
   "outputs": [],
   "source": [
    "f = 'fubar fubar fubar'\n",
    "f.title()"
   ]
  },
  {
   "cell_type": "code",
   "execution_count": null,
   "id": "3dcd5c0c-03cb-462c-afde-71496e4cf5e7",
   "metadata": {},
   "outputs": [],
   "source": [
    "f.replace('b','x')"
   ]
  },
  {
   "cell_type": "code",
   "execution_count": null,
   "id": "d5ca9eb2-c6e0-416b-b05b-0d54ea548a47",
   "metadata": {},
   "outputs": [],
   "source": [
    "float(56)"
   ]
  },
  {
   "cell_type": "code",
   "execution_count": null,
   "id": "6ffc2126-fb66-4db2-bc2a-fa04b25e7721",
   "metadata": {},
   "outputs": [],
   "source": [
    "Car = 45\n",
    "float(Car)"
   ]
  },
  {
   "cell_type": "code",
   "execution_count": null,
   "id": "107e0fb7-0ba9-4f81-8334-3d3ae0be81c6",
   "metadata": {},
   "outputs": [],
   "source": [
    "x = 1\n",
    "x = x + 1"
   ]
  },
  {
   "cell_type": "code",
   "execution_count": null,
   "id": "5faa5ca7-7bf9-49d5-8454-16c6246ec640",
   "metadata": {},
   "outputs": [],
   "source": [
    "x"
   ]
  },
  {
   "cell_type": "code",
   "execution_count": null,
   "id": "d53a2ed9-75db-4026-9c1c-944eda68afc5",
   "metadata": {},
   "outputs": [],
   "source": [
    "any_num = int(20)\n",
    "any_num -= 5\n",
    "any_num"
   ]
  },
  {
   "cell_type": "code",
   "execution_count": 7,
   "id": "75d897dd-fd00-4a06-8113-108cda2480b1",
   "metadata": {},
   "outputs": [
    {
     "name": "stdout",
     "output_type": "stream",
     "text": [
      "7\n"
     ]
    }
   ],
   "source": [
    "a = 4\n",
    "b = 3\n",
    "c = a + b\n",
    "print(c)"
   ]
  },
  {
   "cell_type": "code",
   "execution_count": 8,
   "id": "96f25b68-2dc0-403f-8b64-8dde76a637e4",
   "metadata": {},
   "outputs": [
    {
     "name": "stdout",
     "output_type": "stream",
     "text": [
      "3.5\n"
     ]
    }
   ],
   "source": [
    "print( c / 2 )"
   ]
  },
  {
   "cell_type": "code",
   "execution_count": 9,
   "id": "0bf2dbcb-ddf4-4254-9a39-7d733e90935b",
   "metadata": {},
   "outputs": [
    {
     "name": "stdout",
     "output_type": "stream",
     "text": [
      "1024\n"
     ]
    }
   ],
   "source": [
    "print (2 ** 10)"
   ]
  },
  {
   "cell_type": "code",
   "execution_count": 10,
   "id": "ccdc439d-5946-40f7-809f-113b7e354a37",
   "metadata": {},
   "outputs": [
    {
     "data": {
      "text/plain": [
       "4.0"
      ]
     },
     "execution_count": 10,
     "metadata": {},
     "output_type": "execute_result"
    }
   ],
   "source": [
    "100 / 25"
   ]
  },
  {
   "cell_type": "code",
   "execution_count": 11,
   "id": "ede6504e-3a47-4d97-b009-a7153cc96e9e",
   "metadata": {},
   "outputs": [
    {
     "name": "stdout",
     "output_type": "stream",
     "text": [
      "True\n"
     ]
    }
   ],
   "source": [
    "s = 'foo'\n",
    "t= 'bar'\n",
    "print('barf' in 2 * (s + t))"
   ]
  },
  {
   "cell_type": "code",
   "execution_count": 13,
   "id": "b7005dcb-9396-42cb-a2eb-7885dcc5bf0f",
   "metadata": {},
   "outputs": [],
   "source": [
    "s = 'foobar'"
   ]
  },
  {
   "cell_type": "code",
   "execution_count": 14,
   "id": "34db1a65-5b7a-4d86-a0ce-d55c7c95fde5",
   "metadata": {},
   "outputs": [
    {
     "data": {
      "text/plain": [
       "'fr'"
      ]
     },
     "execution_count": 14,
     "metadata": {},
     "output_type": "execute_result"
    }
   ],
   "source": [
    "s[::5]"
   ]
  },
  {
   "cell_type": "code",
   "execution_count": 15,
   "id": "e3af6c06-f2d7-4ca4-92f5-bd0854cf4e0d",
   "metadata": {},
   "outputs": [
    {
     "data": {
      "text/plain": [
       "'fr'"
      ]
     },
     "execution_count": 15,
     "metadata": {},
     "output_type": "execute_result"
    }
   ],
   "source": [
    "s[::-1][::-5]"
   ]
  },
  {
   "cell_type": "code",
   "execution_count": 16,
   "id": "d94e645d-620e-4dff-ba94-18d85ebb49fe",
   "metadata": {},
   "outputs": [
    {
     "data": {
      "text/plain": [
       "'rf'"
      ]
     },
     "execution_count": 16,
     "metadata": {},
     "output_type": "execute_result"
    }
   ],
   "source": [
    "s[::-5]"
   ]
  },
  {
   "cell_type": "code",
   "execution_count": 17,
   "id": "2938313c-0339-403c-87d7-4e92a6fb6f9c",
   "metadata": {},
   "outputs": [
    {
     "data": {
      "text/plain": [
       "'fr'"
      ]
     },
     "execution_count": 17,
     "metadata": {},
     "output_type": "execute_result"
    }
   ],
   "source": [
    "s[::-1][-1] + s[len(s)-1]"
   ]
  },
  {
   "cell_type": "code",
   "execution_count": 18,
   "id": "446f6cec-1a12-42ba-8741-9a5ab177cdd5",
   "metadata": {},
   "outputs": [
    {
     "data": {
      "text/plain": [
       "'fr'"
      ]
     },
     "execution_count": 18,
     "metadata": {},
     "output_type": "execute_result"
    }
   ],
   "source": [
    "s[0] + s[-1]"
   ]
  },
  {
   "cell_type": "code",
   "execution_count": 19,
   "id": "c30909c9-bf57-44ef-9c56-da4bedc5806c",
   "metadata": {},
   "outputs": [
    {
     "data": {
      "text/plain": [
       "['Foo', 'Fighters']"
      ]
     },
     "execution_count": 19,
     "metadata": {},
     "output_type": "execute_result"
    }
   ],
   "source": [
    "a = ['Foo', 'Fighters']\n",
    "a"
   ]
  },
  {
   "cell_type": "code",
   "execution_count": 21,
   "id": "31fd9d7a-79d1-45e8-90a9-2517cb7c2ff4",
   "metadata": {},
   "outputs": [],
   "source": [
    "a[1] = 20"
   ]
  },
  {
   "cell_type": "code",
   "execution_count": 22,
   "id": "7fb6af04-7892-4376-94ba-ea3708de147a",
   "metadata": {},
   "outputs": [
    {
     "data": {
      "text/plain": [
       "['Foo', 20]"
      ]
     },
     "execution_count": 22,
     "metadata": {},
     "output_type": "execute_result"
    }
   ],
   "source": [
    "a"
   ]
  },
  {
   "cell_type": "code",
   "execution_count": 23,
   "id": "a6a4d489-6b9a-4f2f-8492-1b0dfb681c92",
   "metadata": {},
   "outputs": [
    {
     "data": {
      "text/plain": [
       "['Foo']"
      ]
     },
     "execution_count": 23,
     "metadata": {},
     "output_type": "execute_result"
    }
   ],
   "source": [
    "del a[1]\n",
    "a"
   ]
  },
  {
   "cell_type": "code",
   "execution_count": 24,
   "id": "42499604-08a1-4b31-9b60-60d5ceab9050",
   "metadata": {},
   "outputs": [
    {
     "data": {
      "text/plain": [
       "[1, [2.1, 2.2, 2.3], 3]"
      ]
     },
     "execution_count": 24,
     "metadata": {},
     "output_type": "execute_result"
    }
   ],
   "source": [
    "A = [1,2,3]\n",
    "A[1] = [2.1, 2.2, 2.3]\n",
    "A"
   ]
  },
  {
   "cell_type": "code",
   "execution_count": 25,
   "id": "a973e8ac-3a12-4a99-9922-2f35c07fe44c",
   "metadata": {},
   "outputs": [
    {
     "data": {
      "text/plain": [
       "[1, [2.1, 2.2, 2.3], 3, 'NASTY']"
      ]
     },
     "execution_count": 25,
     "metadata": {},
     "output_type": "execute_result"
    }
   ],
   "source": [
    "A += ['NASTY']\n",
    "A"
   ]
  },
  {
   "cell_type": "code",
   "execution_count": 26,
   "id": "c37b68ce-113b-4316-a913-cb5f541c02c6",
   "metadata": {},
   "outputs": [],
   "source": [
    "del a"
   ]
  },
  {
   "cell_type": "code",
   "execution_count": 27,
   "id": "c2d1562f-051a-4895-814c-32251e8b3f9b",
   "metadata": {},
   "outputs": [
    {
     "ename": "NameError",
     "evalue": "name 'A' is not defined",
     "output_type": "error",
     "traceback": [
      "\u001b[0;31m---------------------------------------------------------------------------\u001b[0m",
      "\u001b[0;31mNameError\u001b[0m                                 Traceback (most recent call last)",
      "Cell \u001b[0;32mIn[27], line 2\u001b[0m\n\u001b[1;32m      1\u001b[0m \u001b[38;5;28;01mdel\u001b[39;00m A\n\u001b[0;32m----> 2\u001b[0m \u001b[43mA\u001b[49m\n",
      "\u001b[0;31mNameError\u001b[0m: name 'A' is not defined"
     ]
    }
   ],
   "source": [
    "del A\n",
    "A"
   ]
  },
  {
   "cell_type": "code",
   "execution_count": null,
   "id": "656c8a71-cea2-48fc-b1e5-6947910f42b1",
   "metadata": {},
   "outputs": [],
   "source": []
  }
 ],
 "metadata": {
  "kernelspec": {
   "display_name": "Python 3 (ipykernel)",
   "language": "python",
   "name": "python3"
  },
  "language_info": {
   "codemirror_mode": {
    "name": "ipython",
    "version": 3
   },
   "file_extension": ".py",
   "mimetype": "text/x-python",
   "name": "python",
   "nbconvert_exporter": "python",
   "pygments_lexer": "ipython3",
   "version": "3.8.18"
  }
 },
 "nbformat": 4,
 "nbformat_minor": 5
}
