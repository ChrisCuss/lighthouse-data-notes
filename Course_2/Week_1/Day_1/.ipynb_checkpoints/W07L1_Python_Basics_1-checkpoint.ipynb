{
 "cells": [
  {
   "cell_type": "markdown",
   "id": "721e8e09",
   "metadata": {
    "id": "721e8e09"
   },
   "source": [
    "# Lighthouse Labs\n",
    "## W07L1 Python Basics 1\n"
   ]
  },
  {
   "cell_type": "markdown",
   "id": "f3b9ef84",
   "metadata": {
    "id": "f3b9ef84"
   },
   "source": [
    "## Agenda\n",
    "\n",
    "In this notebook we will cover some of the basics of python. The topics we will cover listed below.\n",
    "- Syntax\n",
    "- Data Types\n",
    "- For Loops\n",
    "- While Loops\n",
    "- Control Flow (If and Else Statements)\n",
    "\n",
    "We're mainly going to focus on the core operations, the ones that you will use most often. There is much, much more that you can do with all of the different data types in Python.\n",
    "\n",
    "There's a lot here so it may seem pretty dry, but it will be useful for you going forward as a quick Python cheatsheet.\n"
   ]
  },
  {
   "cell_type": "markdown",
   "id": "c8d5f940",
   "metadata": {
    "id": "c8d5f940"
   },
   "source": [
    "### Whitespace\n",
    "- Python programs are organized with one statement per line.\n",
    "- Each statement occupies one line, and is separated by a line break\n",
    "- Some code blocks (loops, functions, etc) are created with indents\n"
   ]
  },
  {
   "cell_type": "markdown",
   "id": "d0076afb",
   "metadata": {
    "id": "d0076afb"
   },
   "source": [
    "#### Separating statements\n",
    "\n",
    "rust uses semicolons:\n",
    "```rust\n",
    "// addition\n",
    "add = 5 + 6;\n",
    "// subtraction\n",
    "sub = 1 - 2;\n",
    "```\n",
    "\n",
    "lisp uses parentheses:\n",
    "```lisp\n",
    ";addition\n",
    "(setq add (+ 5 6))\n",
    ";subtraction\n",
    "(setq sub (- 1 2))\n",
    "```\n",
    "\n",
    "python uses **line breaks**:\n",
    "```python\n",
    "# addition\n",
    "add = 5 + 6\n",
    "# subtraction\n",
    "sub = 1 - 2\n",
    "```\n",
    "\n",
    "```MySQL\n",
    "SELECT *\n",
    "FROM order_details\n",
    "```"
   ]
  },
  {
   "cell_type": "markdown",
   "id": "f7476cc8",
   "metadata": {
    "id": "f7476cc8"
   },
   "source": [
    "#### Code blocks/functions\n",
    "javascript uses braces (curly brackets):\n",
    "```javascript\n",
    "function mult(num1, num2) {\n",
    "  return num1 * num2;\n",
    "}\n",
    "```\n",
    "\n",
    "python uses **indents**:\n",
    "```python\n",
    "def mult(num1, num2):\n",
    "    return num1 * num2\n",
    "```"
   ]
  },
  {
   "cell_type": "markdown",
   "id": "55f2aa64",
   "metadata": {
    "id": "55f2aa64"
   },
   "source": [
    "### Variables\n",
    "\n",
    "- Variables are names that we give to objects.\n",
    "\n",
    "**Why use Variables?**\n",
    "- Helps organize our code\n",
    "- Store Data\n",
    "- Reuse data again and again"
   ]
  },
  {
   "cell_type": "code",
   "execution_count": null,
   "id": "b6f98cf0",
   "metadata": {
    "id": "b6f98cf0"
   },
   "outputs": [],
   "source": [
    "var_info = 'variables hold data. assign them with the = sign'\n"
   ]
  },
  {
   "cell_type": "markdown",
   "id": "c30a22ad",
   "metadata": {
    "id": "c30a22ad"
   },
   "source": [
    "### Built in Data Types - Values and Objects\n",
    "\n",
    "We will been working with values, which are pieces of data that a computer program works with, such as a number or text.\n",
    "We will assign a lot of these values to objects (variables) with the assignment operator `=`.\n",
    "These values will always belong to a data type\n",
    "\n",
    "\n",
    "Here are some data types built-in to the Python language:\n",
    "\n",
    "* Integers - `int`\n",
    "* Floating-point numbers - `float`\n",
    "* Strings - `str`\n",
    "* Booleans - `bool` - two values: True and False.\n",
    "* Lists - `list`\n",
    "* Tuples - `tuple`\n",
    "* Sets - `set`\n",
    "* Dictionaries - `dict`\n",
    "\n",
    "\n",
    "\n"
   ]
  },
  {
   "cell_type": "markdown",
   "id": "7863f294",
   "metadata": {
    "id": "7863f294"
   },
   "source": [
    "### Integers & Floats"
   ]
  },
  {
   "cell_type": "code",
   "execution_count": 61,
   "id": "56fe21d7",
   "metadata": {
    "id": "56fe21d7"
   },
   "outputs": [],
   "source": [
    "a = 4"
   ]
  },
  {
   "cell_type": "code",
   "execution_count": 62,
   "id": "dc736a8f",
   "metadata": {
    "id": "dc736a8f"
   },
   "outputs": [
    {
     "data": {
      "text/plain": [
       "4"
      ]
     },
     "execution_count": 62,
     "metadata": {},
     "output_type": "execute_result"
    }
   ],
   "source": [
    "a"
   ]
  },
  {
   "cell_type": "code",
   "execution_count": 63,
   "id": "b3c89d8a",
   "metadata": {
    "id": "b3c89d8a"
   },
   "outputs": [],
   "source": [
    "b = 4.0"
   ]
  },
  {
   "cell_type": "code",
   "execution_count": 64,
   "id": "46a3089f",
   "metadata": {
    "id": "46a3089f"
   },
   "outputs": [
    {
     "data": {
      "text/plain": [
       "4.0"
      ]
     },
     "execution_count": 64,
     "metadata": {},
     "output_type": "execute_result"
    }
   ],
   "source": [
    "b"
   ]
  },
  {
   "cell_type": "code",
   "execution_count": 65,
   "id": "d43e9c0e-a13f-4261-9ec8-bc6fd2202d96",
   "metadata": {},
   "outputs": [
    {
     "data": {
      "text/plain": [
       "float"
      ]
     },
     "execution_count": 65,
     "metadata": {},
     "output_type": "execute_result"
    }
   ],
   "source": [
    "type(b)"
   ]
  },
  {
   "cell_type": "code",
   "execution_count": 66,
   "id": "48a5a75f-cb89-453d-b900-2a1834a0c986",
   "metadata": {},
   "outputs": [
    {
     "data": {
      "text/plain": [
       "int"
      ]
     },
     "execution_count": 66,
     "metadata": {},
     "output_type": "execute_result"
    }
   ],
   "source": [
    "type(a)"
   ]
  },
  {
   "cell_type": "code",
   "execution_count": 67,
   "id": "ad4bfe44-03ab-4825-8d2b-4bacaa3a2e62",
   "metadata": {},
   "outputs": [
    {
     "name": "stdout",
     "output_type": "stream",
     "text": [
      "4.0\n"
     ]
    }
   ],
   "source": [
    "print(b)"
   ]
  },
  {
   "cell_type": "code",
   "execution_count": 70,
   "id": "4c672a28-4d19-4762-b605-81310a4a4b14",
   "metadata": {},
   "outputs": [
    {
     "data": {
      "text/plain": [
       "4.0"
      ]
     },
     "execution_count": 70,
     "metadata": {},
     "output_type": "execute_result"
    }
   ],
   "source": [
    "b"
   ]
  },
  {
   "cell_type": "markdown",
   "id": "0b0c5b2c",
   "metadata": {
    "id": "0b0c5b2c"
   },
   "source": [
    "### Arithmetic with variables"
   ]
  },
  {
   "cell_type": "code",
   "execution_count": null,
   "id": "0f7087ff",
   "metadata": {
    "id": "0f7087ff"
   },
   "outputs": [],
   "source": [
    "a = -2\n",
    "b = 12.9\n",
    "\n",
    "# Arithmetic\n",
    "c = a + 1    # Arithmetic with literals and variables\n",
    "c = a + b    # Arithmetic with just variables\n",
    "c = c + a    # c becomes its old value + a\n",
    "c = a - b    # Subtraction\n",
    "c = a * b    # Multiplication\n",
    "c = b / a    # Division\n",
    "c = (a + b) * 2 - a    # Compound calculations - PEMDAS\n",
    "c = b // a   # floor division\n",
    "c = a ** b   # exponents\n",
    "\n",
    "# Functions on numbers\n",
    "c = round(8.187, 2)    # Round up to the second decimal point"
   ]
  },
  {
   "cell_type": "markdown",
   "id": "996dd237",
   "metadata": {
    "id": "996dd237"
   },
   "source": [
    "#### Type Casting ints and floats"
   ]
  },
  {
   "cell_type": "code",
   "execution_count": null,
   "id": "63d07b45",
   "metadata": {
    "id": "63d07b45"
   },
   "outputs": [],
   "source": [
    "# cast int to float\n",
    "\n",
    "# cast float to int"
   ]
  },
  {
   "cell_type": "markdown",
   "id": "8085d0da",
   "metadata": {
    "id": "8085d0da"
   },
   "source": [
    "### Strings"
   ]
  },
  {
   "cell_type": "code",
   "execution_count": null,
   "id": "3f5d27bb",
   "metadata": {
    "id": "3f5d27bb"
   },
   "outputs": [],
   "source": [
    "# Strings are a sequence of symbols in quotes\n",
    "# Without the quotes, Python tries to interpret text as variable names\n",
    "a = \"IMAGINATION is more important than knowledge\"\n",
    "\n",
    "\n",
    "# Strings can contain any symbols, not just letters\n",
    "b = 'The Meaning of Life is 42.'\n",
    "\n",
    "c = '''this\n",
    "is a\n",
    "multiline'''\n",
    "\n",
    "# single, double, triple single, and triple double quotes\n",
    "\n",
    "# Concatenation (combining)\n",
    "d = a + \", but not as important as learning to code\"\n",
    "\n",
    "\n",
    "# Functions on strings\n",
    "# Note: these functions don't change the original variables.\n",
    "# They return copies with the function applied\n",
    "e = b.upper()\n",
    "f = b.lower()\n",
    "g = c.capitalize()\n",
    "\n",
    "print(a)"
   ]
  },
  {
   "cell_type": "markdown",
   "id": "318f5756",
   "metadata": {
    "id": "318f5756"
   },
   "source": [
    "#### Type casting with strings"
   ]
  },
  {
   "cell_type": "code",
   "execution_count": null,
   "id": "d88d0075",
   "metadata": {
    "id": "d88d0075"
   },
   "outputs": [],
   "source": [
    "# anything can be cast TO a string, but not the other way around\n",
    "# cast a numeric type to a string\n",
    "\n",
    "# cast a string to a numeric type"
   ]
  },
  {
   "cell_type": "markdown",
   "id": "3141cab4",
   "metadata": {
    "id": "3141cab4"
   },
   "source": [
    "***"
   ]
  },
  {
   "cell_type": "markdown",
   "id": "d43abbee",
   "metadata": {
    "id": "d43abbee"
   },
   "source": [
    "## Advanced Data Types\n"
   ]
  },
  {
   "cell_type": "markdown",
   "id": "5bb9ec4f",
   "metadata": {
    "id": "5bb9ec4f"
   },
   "source": [
    "### Lists\n",
    "\n",
    "- **Mutable** and **ordered** sequence of objects\n",
    "- Can be indexed, sliced, and changed\n",
    "- Lists can be used for any type of object, from numbers and strings to more lists."
   ]
  },
  {
   "cell_type": "code",
   "execution_count": null,
   "id": "8cf4cf8b",
   "metadata": {
    "id": "8cf4cf8b"
   },
   "outputs": [],
   "source": [
    "# Without lists, individual and unrelated variables\n",
    "# (imagine if you had hundreds of names)\n",
    "person1 = 'Mal'\n",
    "person2 = 'Zoe'\n",
    "person3 = 'Wash'\n",
    "person4 = 'Jayne'\n",
    "person5 = 'Kaylee'\n",
    "\n",
    "# Using lists, a data structure that contains many values\n",
    "people = ['Mal', 'Zoe', 'Wash', 'Jayne', 'Kaylee']\n",
    "\n",
    "# List creation\n",
    "empty_list = [] # brackets (square brackets)\n",
    "small_list = [2.3, 1.0] # List elements separated by commas\n"
   ]
  },
  {
   "cell_type": "code",
   "execution_count": null,
   "id": "feee18ba",
   "metadata": {
    "id": "feee18ba"
   },
   "outputs": [],
   "source": [
    "large_animals = ['African Elephant', 'Asian Elephant', 'White Rhinoceros',\n",
    "                 'Hippopotamus', 'Gaur', 'Giraffe', 'Walrus', 'Black Rhinoceros',\n",
    "                 'Saltwater Crocodile', 'Water Buffalo']"
   ]
  },
  {
   "cell_type": "code",
   "execution_count": null,
   "id": "f5ce53fe",
   "metadata": {
    "id": "f5ce53fe"
   },
   "outputs": [],
   "source": [
    "# Access elements in a list using index\n"
   ]
  },
  {
   "cell_type": "code",
   "execution_count": null,
   "id": "f-U_-f4xnyXg",
   "metadata": {
    "id": "f-U_-f4xnyXg"
   },
   "outputs": [],
   "source": [
    "# Finding index of an item in a list\n"
   ]
  },
  {
   "cell_type": "code",
   "execution_count": null,
   "id": "60d3ccdf",
   "metadata": {
    "id": "60d3ccdf"
   },
   "outputs": [],
   "source": [
    "# Slicing [start:stop:step]\n"
   ]
  },
  {
   "cell_type": "code",
   "execution_count": null,
   "id": "f7b7c16e",
   "metadata": {
    "id": "f7b7c16e"
   },
   "outputs": [],
   "source": [
    "# changing values\n"
   ]
  },
  {
   "cell_type": "code",
   "execution_count": null,
   "id": "doz1IIYicrJ_",
   "metadata": {
    "id": "doz1IIYicrJ_"
   },
   "outputs": [],
   "source": [
    "# changing values - be careful with slices\n"
   ]
  },
  {
   "cell_type": "code",
   "execution_count": null,
   "id": "e9c689a9",
   "metadata": {
    "id": "e9c689a9"
   },
   "outputs": [],
   "source": [
    "# deleting\n"
   ]
  },
  {
   "cell_type": "code",
   "execution_count": null,
   "id": "b9d4cb27",
   "metadata": {
    "id": "b9d4cb27"
   },
   "outputs": [],
   "source": [
    "# extending via .append()\n"
   ]
  },
  {
   "cell_type": "code",
   "execution_count": null,
   "id": "c14337da",
   "metadata": {
    "id": "c14337da"
   },
   "outputs": [],
   "source": [
    "# extending via concatenation\n"
   ]
  },
  {
   "cell_type": "code",
   "execution_count": null,
   "id": "780a9cb8",
   "metadata": {
    "id": "780a9cb8"
   },
   "outputs": [],
   "source": [
    "# Lists within lists\n",
    "animal_kingdom = [\n",
    "  ['Elephant', 'Tiger', 'Dog', ['Cat', 'Big Cat']],\n",
    "  ['Whale', 'Dolphin', 'Shark', 'Eel'],\n",
    "  ['Eagle', 'Robin']\n",
    "]\n",
    "\n",
    "# indexing practice\n"
   ]
  },
  {
   "cell_type": "markdown",
   "id": "b8e5061a",
   "metadata": {
    "id": "b8e5061a"
   },
   "source": [
    "#### String and List similarities"
   ]
  },
  {
   "cell_type": "code",
   "execution_count": null,
   "id": "0d6000e9",
   "metadata": {
    "id": "0d6000e9"
   },
   "outputs": [],
   "source": [
    "# slices can be returned from strings the same as lists\n",
    "a = 'this is really symbols just a list of symbols called characters'\n",
    "\n",
    "# access a character\n",
    "\n",
    "# access a slice\n",
    "\n",
    "# Splitting strings into lists\n",
    "\n",
    "# Splitting by a substring\n"
   ]
  },
  {
   "cell_type": "markdown",
   "id": "fd0d5ea9",
   "metadata": {
    "id": "fd0d5ea9"
   },
   "source": [
    "***"
   ]
  },
  {
   "cell_type": "markdown",
   "id": "cb2a2ca0",
   "metadata": {
    "id": "cb2a2ca0"
   },
   "source": [
    "## Tuple\n",
    "- **immutable** and **ordered** objects\n",
    "- Similar to a list, but without some funcitonalities.\n",
    "- indexing and splitting similar to lists\n",
    "- More efficient"
   ]
  },
  {
   "cell_type": "code",
   "execution_count": null,
   "id": "f8939ab8",
   "metadata": {
    "id": "f8939ab8"
   },
   "outputs": [],
   "source": [
    "# Definition - parentheses (round brackets) and elements separated by commas\n",
    "x = ('Alibek', 'python', 'Canada')\n",
    "\n",
    "# Getting the size of a tuple (or list)\n",
    "len(x)\n",
    "\n",
    "# Accessing one element\n",
    "y = x[0]\n",
    "# >>> 'Alibek'\n",
    "x[1]\n",
    "# >>> 'python'\n",
    "\n",
    "# Accessing a sequence of entries\n",
    "y = x[1:3]\n",
    "# >>> ('python', 'Canada')\n",
    "\n",
    "# \"Unpacking\" tuples (or lists)\n",
    "name, language, country = x\n",
    "# name = 'Alibek', language = 'python', and country = 'Canada'\n",
    "\n",
    "# Combining tuples\n",
    "y = (8, 2) + x\n",
    "# (8, 2, 'Alibek', 'python', 'Canada')\n",
    "\n",
    "# Checking membership - this is faster with tuples\n",
    "y = 12 in x    # False (x does not contain the value 12)\n",
    "print(y)\n",
    "\n",
    "# You cannot modify tuple objects\n",
    "# They are 'immutable' (this is the essential difference from lists)"
   ]
  },
  {
   "cell_type": "code",
   "execution_count": null,
   "id": "t38utf8qrnTD",
   "metadata": {
    "id": "t38utf8qrnTD"
   },
   "outputs": [],
   "source": [
    "# unpacking example\n"
   ]
  },
  {
   "cell_type": "code",
   "execution_count": null,
   "id": "5j9woY9LYZny",
   "metadata": {
    "id": "5j9woY9LYZny"
   },
   "outputs": [],
   "source": []
  },
  {
   "cell_type": "markdown",
   "id": "997d7a83",
   "metadata": {
    "id": "997d7a83"
   },
   "source": [
    "\n",
    "\n",
    "It might seem weird that tuples are essentially just lists that can't be modified. What are they good for?  When performance isn't an issue (small amounts of data), it's all about code readability.\n",
    "\n",
    "When you use a tuple, you're telling the people who read your code \"this variable will not change\".\n",
    "In practice, people use lists for \"homogeneous\" data (i.e. a list of strings), whereas the elements in tuples are often \"heterogeneous\" and might include different data types and/or concepts.\n",
    "\n",
    "In the example above, the first entry represents my name, the second entry represents the programming language I'm using, and the third entry represents the country I live in. It would be **conceptually** strange to define these different concepts in the same list - since lists are usually homogeneous data. Tuples can be used as \"keys\" in dictionary data structures (which we'll see below), whereas lists cannot.\n",
    "\n",
    "These differences communicate the objects's function, and helps make your code more understandable.\n"
   ]
  },
  {
   "cell_type": "markdown",
   "id": "aaeab8d7",
   "metadata": {
    "id": "aaeab8d7"
   },
   "source": [
    "***"
   ]
  },
  {
   "cell_type": "markdown",
   "id": "140ee287",
   "metadata": {
    "id": "140ee287"
   },
   "source": [
    "## Dictionary (dict)\n",
    "\n",
    "- Similar to lists, but elements are accessed using 'keys' rather than order.\n",
    "- 'keys' can take on numerous data types (str, int, floats, tuples)\n",
    "    - as long as the data type is ['hashable'](https://towardsdatascience.com/iterable-ordered-mutable-and-hashable-python-objects-explained-1254c9b9e421#:~:text=In%20particular%2C%20all%20the%20primitive,sets%2C%20and%20bytearrays%20are%20unhashable.)"
   ]
  },
  {
   "cell_type": "code",
   "execution_count": null,
   "id": "25c88531",
   "metadata": {
    "id": "25c88531"
   },
   "outputs": [],
   "source": [
    "# definition - braces, keys and values separated by colons,\n",
    "# commas between key and value pairs\n",
    "x = {'Student_ID': [1,2,3],\n",
    "    'Student_Name': 42,\n",
    "    'degree': ['marketing', 'computer science', 'snake studies']}"
   ]
  },
  {
   "cell_type": "code",
   "execution_count": null,
   "id": "Fm2z_LaNYvd0",
   "metadata": {
    "id": "Fm2z_LaNYvd0"
   },
   "outputs": [],
   "source": [
    "# access a value\n"
   ]
  },
  {
   "cell_type": "code",
   "execution_count": null,
   "id": "0537aba9",
   "metadata": {
    "id": "0537aba9"
   },
   "outputs": [],
   "source": [
    "# modifying values\n"
   ]
  },
  {
   "cell_type": "code",
   "execution_count": null,
   "id": "9dWElYMFtiCl",
   "metadata": {
    "id": "9dWElYMFtiCl"
   },
   "outputs": [],
   "source": [
    "# adding keys and values\n"
   ]
  },
  {
   "cell_type": "code",
   "execution_count": null,
   "id": "c1f5fa7e",
   "metadata": {
    "id": "c1f5fa7e"
   },
   "outputs": [],
   "source": [
    "# retrieving keys\n"
   ]
  },
  {
   "cell_type": "code",
   "execution_count": null,
   "id": "1f423d28",
   "metadata": {
    "id": "1f423d28"
   },
   "outputs": [],
   "source": [
    "# retrieving values\n"
   ]
  },
  {
   "cell_type": "code",
   "execution_count": null,
   "id": "3f2a4650",
   "metadata": {
    "id": "3f2a4650"
   },
   "outputs": [],
   "source": [
    "# retrieving keys and values (items)\n"
   ]
  },
  {
   "cell_type": "markdown",
   "id": "d8ca1111",
   "metadata": {
    "id": "d8ca1111"
   },
   "source": [
    "Note: Dictionaries should not be used as 'ordered' data types like lists, and it is dangerous to write your code in a way that uses the order of a dictionary.\n",
    "\n",
    "It makes no sense to say that the 'student_name'th entry comes before the 'degree'th entry, even though this is how we have written it above."
   ]
  },
  {
   "cell_type": "markdown",
   "id": "95be87ab",
   "metadata": {
    "id": "95be87ab"
   },
   "source": [
    "***"
   ]
  },
  {
   "cell_type": "markdown",
   "id": "882f5149",
   "metadata": {
    "id": "882f5149"
   },
   "source": [
    "### Sets\n",
    "\n",
    "Data structure that:\n",
    "- are unordered, meaning there is no element 0 and element 1, and\n",
    "- The values contained are unique - meaning there are no duplicate entries."
   ]
  },
  {
   "cell_type": "code",
   "execution_count": null,
   "id": "91fd81ce",
   "metadata": {
    "id": "91fd81ce"
   },
   "outputs": [],
   "source": [
    "# definition - braces and commas between elements\n",
    "my_set = {2, 1.0, 'apple', 1.0, 'apPle'}\n",
    "\n",
    "my_set"
   ]
  },
  {
   "cell_type": "code",
   "execution_count": null,
   "id": "aZmxTAPAudCi",
   "metadata": {
    "id": "aZmxTAPAudCi"
   },
   "outputs": [],
   "source": [
    "# delete duplicates from a list using set()\n"
   ]
  },
  {
   "cell_type": "markdown",
   "id": "8e27bec4",
   "metadata": {
    "id": "8e27bec4",
    "jp-MarkdownHeadingCollapsed": true
   },
   "source": [
    "### Summary\n",
    "\n",
    "|Data Structure\t| Preserves order | Mutable | Symbol| Can contain duplicates | Can be sliced |\n",
    "|---------|------|------|------|------|------|\n",
    "|str\t|✓\t|☓\t|''  , \"\"|\t✓|✓|\n",
    "|list\t|✓\t|✓\t|[] |\t✓|✓|\n",
    "|tuple\t|✓\t|☓\t|() |\t✓|✓|\n",
    "|set\t|☓\t|✓\t|{} |\t☓|☓|\n",
    "|dict  |✓\t|✓\t|{ key : value} | \t☓| ☓|"
   ]
  },
  {
   "cell_type": "markdown",
   "id": "b846ecc8",
   "metadata": {
    "id": "b846ecc8"
   },
   "source": [
    "***"
   ]
  },
  {
   "cell_type": "markdown",
   "id": "8b304718",
   "metadata": {
    "id": "8b304718"
   },
   "source": [
    "### Booleans and Comparison"
   ]
  },
  {
   "cell_type": "code",
   "execution_count": null,
   "id": "85f2d40f",
   "metadata": {
    "id": "85f2d40f"
   },
   "outputs": [],
   "source": [
    "a = True\n",
    "b = False\n",
    "\n",
    "# ---------------------------------\n",
    "# Comparison Operators\n",
    "a = 14\n",
    "b = 5\n"
   ]
  },
  {
   "cell_type": "code",
   "execution_count": null,
   "id": "9uITERrAbGfJ",
   "metadata": {
    "id": "9uITERrAbGfJ"
   },
   "outputs": [],
   "source": [
    "# Equal\n",
    "a == b # False"
   ]
  },
  {
   "cell_type": "code",
   "execution_count": null,
   "id": "iE7BSJ0Wa9Uo",
   "metadata": {
    "id": "iE7BSJ0Wa9Uo"
   },
   "outputs": [],
   "source": [
    "# Not equal\n",
    "a != b"
   ]
  },
  {
   "cell_type": "code",
   "execution_count": null,
   "id": "ctrdTv6LbBhi",
   "metadata": {
    "id": "ctrdTv6LbBhi"
   },
   "outputs": [],
   "source": [
    "# Greater than\n",
    "a > b"
   ]
  },
  {
   "cell_type": "code",
   "execution_count": null,
   "id": "pLxg9olkbETZ",
   "metadata": {
    "id": "pLxg9olkbETZ"
   },
   "outputs": [],
   "source": [
    "# Greater than or equal to\n",
    "a >= b"
   ]
  },
  {
   "cell_type": "code",
   "execution_count": null,
   "id": "YhH4hDq4bMh1",
   "metadata": {
    "id": "YhH4hDq4bMh1"
   },
   "outputs": [],
   "source": [
    "# Less than\n",
    "a < b"
   ]
  },
  {
   "cell_type": "code",
   "execution_count": null,
   "id": "PPkTK9avbN4w",
   "metadata": {
    "id": "PPkTK9avbN4w"
   },
   "outputs": [],
   "source": [
    "# Less than or equal to\n",
    "a <= b"
   ]
  },
  {
   "cell_type": "code",
   "execution_count": null,
   "id": "1an7nCiGbLdZ",
   "metadata": {
    "id": "1an7nCiGbLdZ"
   },
   "outputs": [],
   "source": [
    "# Equality with strings\n",
    "a = '1 2 3'\n",
    "b = 'one two 3'"
   ]
  },
  {
   "cell_type": "code",
   "execution_count": null,
   "id": "4yHRGKkXbQf1",
   "metadata": {
    "id": "4yHRGKkXbQf1"
   },
   "outputs": [],
   "source": []
  },
  {
   "cell_type": "code",
   "execution_count": null,
   "id": "Pa5lhz6Va1iS",
   "metadata": {
    "id": "Pa5lhz6Va1iS"
   },
   "outputs": [],
   "source": [
    "# Logic operators (compound boolean expressions)\n",
    "\n",
    "# and - both must be True\n",
    "snow = False\n",
    "temperature = 28\n",
    "camping = temperature > 25 and snow == False\n",
    "print(camping)\n",
    "# >>> True\n",
    "\n",
    "snow = True\n",
    "camping = temperature > 25 and snow == False\n",
    "print(camping)\n",
    "# >>> False"
   ]
  },
  {
   "cell_type": "code",
   "execution_count": null,
   "id": "UiCaA96YbhdY",
   "metadata": {
    "id": "UiCaA96YbhdY"
   },
   "outputs": [],
   "source": [
    "# or - either must be True\n",
    "has_coffee = True\n",
    "has_beer = True\n",
    "print(has_coffee or has_beer)\n",
    "# >>> True\n",
    "has_coffee = False\n",
    "print(has_coffee or has_beer)\n",
    "# >>> True"
   ]
  },
  {
   "cell_type": "markdown",
   "id": "63c2dd62",
   "metadata": {
    "id": "63c2dd62"
   },
   "source": [
    "### Control structure (also refered to **control flow**): if/elif/else statements\n",
    "\n",
    "**if statements** are one of the most essential concepts in any programming language because they allow the code to execute differently depending on external values. The format of an if statement is as follows:\n",
    "\n",
    "- Essential Programming Concept, in any langauge. Allows the code to 'react' to circumstances.\n",
    "- Executes code only if a certain condition is met\n",
    "\n",
    "```python\n",
    "if [boolean expression]: # starts with if keyword then test condition\n",
    "    [what to do when the boolean expression evaluates to True]\n",
    "else:   # optional\n",
    "    [what to do when the boolean expression evaluates to False]\n",
    "```"
   ]
  },
  {
   "cell_type": "code",
   "execution_count": null,
   "id": "d328d9c2",
   "metadata": {
    "id": "d328d9c2"
   },
   "outputs": [],
   "source": [
    "# Using the data structure above, let's output something different depending on\n",
    "# whether or not someone passed the course\n",
    "course_marks = {'Linda': 84, 'Andrew': 100, 'Jasmine': 12}\n",
    "pass_mark = 85\n",
    "\n",
    "\n",
    "if course_marks['Linda'] >= pass_mark:\n",
    "  print(\"Linda has passed her course\")\n",
    "\n",
    "else:\n",
    "  print(\"Linda has not passed\")"
   ]
  },
  {
   "cell_type": "markdown",
   "id": "b26415b9",
   "metadata": {
    "id": "b26415b9"
   },
   "source": [
    "#### IFs and ELIFS\n",
    "```python\n",
    "if [boolean expression]: #starts with if keyword then test condition\n",
    "    [what to do when the boolean expression evaluates to True]\n",
    "elif: [boolean expression]\n",
    "    [what to do when the boolean expression evaluates to True]\n",
    "else:   # optional\n",
    "    [what to do when the boolean expression evaluates to False]\n",
    "```\n",
    "\n"
   ]
  },
  {
   "cell_type": "code",
   "execution_count": null,
   "id": "13725f32",
   "metadata": {
    "id": "13725f32"
   },
   "outputs": [],
   "source": [
    "course_marks = {'Linda': 82, 'Andrew': 100, 'Jasmine': 12}\n",
    "\n",
    "if course_marks['Linda'] >= 90:\n",
    "    print(\"A\")\n",
    "\n",
    "elif course_marks['Linda'] >= 80:\n",
    "    print(\"B\")\n",
    "\n",
    "elif course_marks['Linda'] >= 70:\n",
    "    print(\"C\")\n",
    "\n",
    "else:\n",
    "    print('Fail')\n",
    "\n"
   ]
  },
  {
   "cell_type": "markdown",
   "id": "2977b6a1",
   "metadata": {
    "id": "2977b6a1"
   },
   "source": [
    "### Nested Ifs"
   ]
  },
  {
   "cell_type": "code",
   "execution_count": null,
   "id": "60fbe6e1",
   "metadata": {
    "id": "60fbe6e1"
   },
   "outputs": [],
   "source": [
    "a = 1\n",
    "if a > 0:\n",
    "    print('positive')\n",
    "elif a == 0:\n",
    "    print('zero')\n",
    "else:\n",
    "    print('negative')"
   ]
  },
  {
   "cell_type": "code",
   "execution_count": null,
   "id": "27237130",
   "metadata": {
    "id": "27237130"
   },
   "outputs": [],
   "source": [
    "a = 0\n",
    "\n",
    "if a >= 0:\n",
    "    if a == 0:\n",
    "        print('zero')\n",
    "    else:\n",
    "        print('Positive Number')\n",
    "\n",
    "else:\n",
    "    print(\"negative Number\")"
   ]
  },
  {
   "cell_type": "markdown",
   "id": "cd0bb7c5",
   "metadata": {
    "id": "cd0bb7c5"
   },
   "source": [
    "## Control Flow: For Loops (definite iterations)\n",
    "\n",
    "If all we were able to do with lists, tuples, and dictionaries was store data in them, they would essentially\n",
    "just be useful for organizing our code and nothing else.\n",
    "Luckily, we can iterate through them using \"for\" loops. The \"for\" loop\n",
    "has the following format:\n",
    "```python\n",
    "for [loop variable] in [iterable object]:\n",
    "    [code to execute using loop variable]\n",
    "```"
   ]
  },
  {
   "cell_type": "code",
   "execution_count": null,
   "id": "56b0d31c",
   "metadata": {
    "id": "56b0d31c"
   },
   "outputs": [],
   "source": [
    "# simple for loop\n",
    "\n",
    "my_name = \"Alibek\"\n",
    "\n",
    "for char in my_name:\n",
    "  print(char)"
   ]
  },
  {
   "cell_type": "code",
   "execution_count": null,
   "id": "3R5BrSlA1_b8",
   "metadata": {
    "id": "3R5BrSlA1_b8"
   },
   "outputs": [],
   "source": [
    "course_marks = {'Linda': 84, 'Andrew': 100, 'Jasmine': 12}\n",
    "\n",
    "students = course_marks.keys()\n",
    "marks = course_marks.values()\n",
    "pass_mark = 85\n",
    "\n",
    "for student in students:\n",
    "    print(course_marks[student])"
   ]
  },
  {
   "cell_type": "code",
   "execution_count": null,
   "id": "75d025b6",
   "metadata": {
    "id": "75d025b6"
   },
   "outputs": [],
   "source": [
    "course_marks = {'Linda': 84, 'Andrew': 100, 'Jasmine': 12}\n",
    "\n",
    "student_names = course_marks.keys()\n",
    "marks = course_marks.values()\n",
    "pass_mark = 85\n",
    "\n",
    "for student in student_names:\n",
    "    if course_marks[student] >= pass_mark:\n",
    "        print(student + \" has passed their course\")\n",
    "\n",
    "    else:\n",
    "        print(student + \" has not passed\")\n",
    "marks_list = list(marks)\n",
    "marks_list"
   ]
  },
  {
   "cell_type": "code",
   "execution_count": null,
   "id": "3d61ea3f",
   "metadata": {
    "id": "3d61ea3f"
   },
   "outputs": [],
   "source": [
    "animal_kingdom = [\n",
    "  ['Elephant', 'Tiger', 'Dog', ['Cat', 'Big Cat']],\n",
    "  ['Whale', 'Dolphin', 'Shark', 'Eel'],\n",
    "  ['Eagle', 'Robin']\n",
    "]\n",
    "\n",
    "\n",
    "# how can we print all animals one by one?\n"
   ]
  },
  {
   "cell_type": "code",
   "execution_count": null,
   "id": "8dada10b",
   "metadata": {
    "id": "8dada10b"
   },
   "outputs": [],
   "source": [
    "# summing lists\n",
    "course_marks = [100, 90, 95, 80, 70]\n",
    "marks_sum = 0 # accumulator\n",
    "\n",
    "# add them all up with a loop"
   ]
  },
  {
   "cell_type": "code",
   "execution_count": null,
   "id": "12593187",
   "metadata": {
    "id": "12593187"
   },
   "outputs": [],
   "source": [
    "# Iterating through lists (or tuples) by their index\n",
    "# this is necessary to change values in a list\n",
    "course_marks = [82, 100, 12]\n",
    "\n",
    "for index in range(len(course_marks)):\n",
    "  course_marks[index] -= 10\n",
    "\n",
    "print(course_marks)"
   ]
  },
  {
   "cell_type": "code",
   "execution_count": null,
   "id": "126a3a0d",
   "metadata": {
    "id": "126a3a0d"
   },
   "outputs": [],
   "source": [
    "course_marks = {'Linda': 72, 'Andrew': 100, 'Jasmine': 12}\n",
    "\n",
    "# iterating through dictionary keys\n"
   ]
  },
  {
   "cell_type": "code",
   "execution_count": null,
   "id": "CSiJZ7mAegKx",
   "metadata": {
    "id": "CSiJZ7mAegKx"
   },
   "outputs": [],
   "source": [
    "# iterating through dictionary values\n"
   ]
  },
  {
   "cell_type": "code",
   "execution_count": null,
   "id": "R8qbYlFnedF4",
   "metadata": {
    "id": "R8qbYlFnedF4"
   },
   "outputs": [],
   "source": [
    "# what about iterating through a dictionary itself?\n"
   ]
  },
  {
   "cell_type": "markdown",
   "id": "3b6d075b",
   "metadata": {
    "id": "3b6d075b"
   },
   "source": [
    "## Control Flow: While Loops (aka. indefinite iterations)\n",
    "\n",
    "Sometimes, we don't want our loop to iteratate through the values of some data structure, but\n",
    "instead want it to execute until some condition is no longer met. For this, we use a \"while\" loop, which has the\n",
    "following format:\n",
    "\n",
    "```python\n",
    "while [boolean expression]: #starts with a while keyword, followed by a test condition, ends with a colon :\n",
    "    [what you want to do each iteration] #loop body contains code that gets repeated. Must be indented 4 spaces.\n",
    "```"
   ]
  },
  {
   "cell_type": "code",
   "execution_count": null,
   "id": "2d8e76d0",
   "metadata": {
    "id": "2d8e76d0"
   },
   "outputs": [],
   "source": [
    "# Simple\n",
    "n = 10\n",
    "\n",
    "# print all numbers from n to 0\n"
   ]
  },
  {
   "cell_type": "code",
   "execution_count": null,
   "id": "4a10355d",
   "metadata": {
    "id": "4a10355d"
   },
   "outputs": [],
   "source": [
    "# BE CAREFUL with INFINITE LOOPS, you'll break the matrix\n",
    "# Can be useful, for example with code that interacts with hardware\n",
    "# may use an infinite loop to constantly check whether a button or\n",
    "# switch has been activated\n",
    "\n",
    "# CTRL + C forces a command line process to quit"
   ]
  },
  {
   "cell_type": "markdown",
   "id": "642ce2a5",
   "metadata": {
    "id": "642ce2a5"
   },
   "source": [
    "***"
   ]
  },
  {
   "cell_type": "markdown",
   "id": "f0b96613",
   "metadata": {
    "id": "f0b96613"
   },
   "source": [
    "## Cooking Challenge\n",
    "\n",
    "Alberto is making spaghetti tonight and he needs to make sure that if he doesn't have enough of the ingredients in his pantry, he adds them to his shopping list.\n",
    "\n",
    "- For each item in the recipe, check if the ingredient is in Alberto's pantry.\n",
    "\n",
    "- If the recipe ingredient is in the pantry, check if the recipe requires more of the ingredient than what Alberto has in storage. If so, add the name and the quantity he needs to purchase as key-value pairs in the dictionary shopping_list.\n",
    "\n",
    "- If the recipe item is not in the pantry, add the ingredient and the quantity as **key-value pairs in the dictionary** shopping_list."
   ]
  },
  {
   "cell_type": "code",
   "execution_count": null,
   "id": "26551f64",
   "metadata": {
    "id": "26551f64"
   },
   "outputs": [],
   "source": [
    "pantry = {'pasta': 3, 'garlic': 4,'sauce': 2,\n",
    "          'basil': 2, 'salt': 3, 'olive oil': 3,\n",
    "          'rice': 3, 'bread': 3, 'peanut butter': 1,\n",
    "          'flour': 1, 'eggs': 1, 'onions': 1, 'mushrooms': 3,\n",
    "          'broccoli': 2, 'butter': 2,'pickles': 6, 'milk': 2,\n",
    "          'chia seeds': 5}\n",
    "\n",
    "meal_recipe = {'pasta': 2, 'garlic': 2, 'sauce': 3,\n",
    "          'basil': 4, 'salt': 1, 'pepper': 2,\n",
    "          'olive oil': 2, 'onions': 2, 'mushrooms': 6}\n",
    "\n",
    "\n",
    "shopping_list = dict()"
   ]
  },
  {
   "cell_type": "markdown",
   "id": "f30f530f",
   "metadata": {
    "id": "f30f530f"
   },
   "source": [
    "```\n",
    "1. You have a meal recipe and you have a pantry.\n",
    "2. You read item by item in the meal recipe.\n",
    "3. FOR each item, you verify IF you have the item in your pantry.\n",
    "    3a. If you meet the previous condition, you verify IF you have enough of that item.\n",
    "4. ELSE you add the whole ingredient quantity to your shopping list.\n",
    "\n",
    "```"
   ]
  },
  {
   "cell_type": "code",
   "execution_count": null,
   "id": "550469b1",
   "metadata": {
    "id": "550469b1"
   },
   "outputs": [],
   "source": [
    "### Solution\n"
   ]
  },
  {
   "cell_type": "code",
   "execution_count": null,
   "id": "B_lx0NeNV3OQ",
   "metadata": {
    "id": "B_lx0NeNV3OQ"
   },
   "outputs": [],
   "source": []
  }
 ],
 "metadata": {
  "colab": {
   "provenance": []
  },
  "kernelspec": {
   "display_name": "Python 3 (ipykernel)",
   "language": "python",
   "name": "python3"
  },
  "language_info": {
   "codemirror_mode": {
    "name": "ipython",
    "version": 3
   },
   "file_extension": ".py",
   "mimetype": "text/x-python",
   "name": "python",
   "nbconvert_exporter": "python",
   "pygments_lexer": "ipython3",
   "version": "3.8.18"
  }
 },
 "nbformat": 4,
 "nbformat_minor": 5
}
