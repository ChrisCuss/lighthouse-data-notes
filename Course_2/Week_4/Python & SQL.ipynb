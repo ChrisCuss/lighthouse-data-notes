{
 "cells": [
  {
   "cell_type": "code",
   "execution_count": 1,
   "id": "558866fd-1952-48d9-90c5-57e57b00562b",
   "metadata": {},
   "outputs": [],
   "source": [
    "import sqlite3\n",
    "from sqlite3 import Error\n",
    "\n",
    "def create_connection(path):\n",
    "    connection = None\n",
    "    try:\n",
    "        connection = sqlite3.connect(path)\n",
    "        print(\"Connection to SQLite DB successful\")\n",
    "\n",
    "    except Error as e:\n",
    "        print(f\"The error '{e} occured\")\n",
    "\n",
    "    return connection"
   ]
  },
  {
   "cell_type": "code",
   "execution_count": 2,
   "id": "6abdd3ae-a6a9-426c-84ec-646b9dfca4eb",
   "metadata": {},
   "outputs": [
    {
     "name": "stdout",
     "output_type": "stream",
     "text": [
      "Connection to SQLite DB successful\n"
     ]
    }
   ],
   "source": [
    "connection = create_connection(\"E:\\\\sm_app.sqlite\")"
   ]
  },
  {
   "cell_type": "code",
   "execution_count": 3,
   "id": "08b5f331-fe05-4eb0-9f5f-536924ebfff9",
   "metadata": {},
   "outputs": [],
   "source": [
    "def execute_query(connection, query):\n",
    "    cursor = connection.cursor()\n",
    "    try:\n",
    "        cursor.execute(query)\n",
    "        connection.commit()\n",
    "        print(\"Query executed succesfully\")\n",
    "\n",
    "    except Error as e:\n",
    "        print(f\"The error '{e}' occured\")"
   ]
  },
  {
   "cell_type": "code",
   "execution_count": 4,
   "id": "acf4960a-d724-4520-95d8-98f782a7b312",
   "metadata": {},
   "outputs": [],
   "source": [
    "create_users_table = \"\"\"\n",
    "CREATE TABLE IF NOT EXISTS users (\n",
    "  id INTEGER PRIMARY KEY AUTOINCREMENT,\n",
    "  name TEXT NOT NULL,\n",
    "  age INTEGER,\n",
    "  gender TEXT,\n",
    "  nationality TEXT\n",
    ");\n",
    "\"\"\""
   ]
  },
  {
   "cell_type": "code",
   "execution_count": 5,
   "id": "1439d790-4e41-422c-9987-67a2a86d93ac",
   "metadata": {},
   "outputs": [
    {
     "name": "stdout",
     "output_type": "stream",
     "text": [
      "Query executed succesfully\n"
     ]
    }
   ],
   "source": [
    "execute_query(connection, create_users_table) "
   ]
  },
  {
   "cell_type": "code",
   "execution_count": 6,
   "id": "f56990d2-54c6-41c7-8dc4-67dfb0bb035f",
   "metadata": {},
   "outputs": [],
   "source": [
    "create_posts_table = \"\"\"\n",
    "CREATE TABLE IF NOT EXISTS posts(\n",
    "  id INTEGER PRIMARY KEY AUTOINCREMENT, \n",
    "  title TEXT NOT NULL, \n",
    "  description TEXT NOT NULL, \n",
    "  user_id INTEGER NOT NULL, \n",
    "  FOREIGN KEY (user_id) REFERENCES users (id)\n",
    ");\n",
    "\"\"\""
   ]
  },
  {
   "cell_type": "code",
   "execution_count": 7,
   "id": "0ea10777-fadc-4e2f-8b2b-307cd9a60491",
   "metadata": {},
   "outputs": [
    {
     "name": "stdout",
     "output_type": "stream",
     "text": [
      "Query executed succesfully\n"
     ]
    }
   ],
   "source": [
    "execute_query(connection, create_posts_table)"
   ]
  },
  {
   "cell_type": "code",
   "execution_count": 8,
   "id": "3d7621db-556e-47db-9403-25f7a32ef208",
   "metadata": {},
   "outputs": [
    {
     "name": "stdout",
     "output_type": "stream",
     "text": [
      "Query executed succesfully\n",
      "Query executed succesfully\n"
     ]
    }
   ],
   "source": [
    "create_comments_table = \"\"\"\n",
    "CREATE TABLE IF NOT EXISTS comments (\n",
    "  id INTEGER PRIMARY KEY AUTOINCREMENT, \n",
    "  text TEXT NOT NULL, \n",
    "  user_id INTEGER NOT NULL, \n",
    "  post_id INTEGER NOT NULL, \n",
    "  FOREIGN KEY (user_id) REFERENCES users (id) FOREIGN KEY (post_id) REFERENCES posts (id)\n",
    ");\n",
    "\"\"\"\n",
    "\n",
    "create_likes_table = \"\"\"\n",
    "CREATE TABLE IF NOT EXISTS likes (\n",
    "  id INTEGER PRIMARY KEY AUTOINCREMENT, \n",
    "  user_id INTEGER NOT NULL, \n",
    "  post_id integer NOT NULL, \n",
    "  FOREIGN KEY (user_id) REFERENCES users (id) FOREIGN KEY (post_id) REFERENCES posts (id)\n",
    ");\n",
    "\"\"\"\n",
    "\n",
    "execute_query(connection, create_comments_table)  \n",
    "execute_query(connection, create_likes_table) "
   ]
  },
  {
   "cell_type": "code",
   "execution_count": null,
   "id": "3e942fc5-adc1-4bd1-bbab-247b4036d162",
   "metadata": {},
   "outputs": [],
   "source": []
  }
 ],
 "metadata": {
  "kernelspec": {
   "display_name": "lighthouse_env",
   "language": "python",
   "name": "lighthouse_env"
  },
  "language_info": {
   "codemirror_mode": {
    "name": "ipython",
    "version": 3
   },
   "file_extension": ".py",
   "mimetype": "text/x-python",
   "name": "python",
   "nbconvert_exporter": "python",
   "pygments_lexer": "ipython3",
   "version": "3.9.18"
  }
 },
 "nbformat": 4,
 "nbformat_minor": 5
}
