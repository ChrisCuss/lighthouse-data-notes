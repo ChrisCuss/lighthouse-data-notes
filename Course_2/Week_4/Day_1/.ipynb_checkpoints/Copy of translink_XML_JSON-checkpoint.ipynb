{
 "cells": [
  {
   "cell_type": "code",
   "execution_count": null,
   "metadata": {
    "id": "L1CA3lSnUzFm"
   },
   "outputs": [],
   "source": [
    "# pip/conda 'magic' commands % in Jupyter\n",
    "# pip install bs4\n",
    "# %conda install requests"
   ]
  },
  {
   "cell_type": "code",
   "execution_count": null,
   "metadata": {
    "cellView": "form",
    "executionInfo": {
     "elapsed": 143,
     "status": "ok",
     "timestamp": 1692146955554,
     "user": {
      "displayName": "Alibek Kruglikov",
      "userId": "12107629968185180200"
     },
     "user_tz": 240
    },
    "id": "TM9S2p7bLiJ4"
   },
   "outputs": [],
   "source": [
    "# colab only\n",
    "\n",
    "# apikey = '' #@param {type:\"string\"}"
   ]
  },
  {
   "cell_type": "code",
   "execution_count": 1,
   "metadata": {
    "id": "ePYJMvlDUzFi"
   },
   "outputs": [],
   "source": [
    "import requests\n",
    "import os\n",
    "from bs4 import BeautifulSoup"
   ]
  },
  {
   "cell_type": "code",
   "execution_count": 2,
   "metadata": {
    "id": "oAVFNcInsroz"
   },
   "outputs": [],
   "source": [
    "# for Jupyter / VSCode\n",
    "apikey = os.environ['TRANSLINK_API']"
   ]
  },
  {
   "cell_type": "code",
   "execution_count": 3,
   "metadata": {
    "id": "MwD0rtbxsbWd"
   },
   "outputs": [
    {
     "data": {
      "text/plain": [
       "'TlreqUNs9Zwl243wrE95'"
      ]
     },
     "execution_count": 3,
     "metadata": {},
     "output_type": "execute_result"
    }
   ],
   "source": [
    "############# DO NOT DO THIS ################\n",
    "# store your API key(s) in environment variables\n",
    "apikey"
   ]
  },
  {
   "cell_type": "markdown",
   "metadata": {
    "id": "MNPZ21RbUzFn"
   },
   "source": [
    "**Documentation:** <br>\n",
    "https://www.translink.ca/about-us/doing-business-with-translink/app-developer-resources/rtti"
   ]
  },
  {
   "cell_type": "markdown",
   "metadata": {
    "id": "HdcEKSSnUzFp"
   },
   "source": [
    "## Basic Response from API"
   ]
  },
  {
   "cell_type": "code",
   "execution_count": null,
   "metadata": {
    "executionInfo": {
     "elapsed": 166,
     "status": "ok",
     "timestamp": 1692147117368,
     "user": {
      "displayName": "Alibek Kruglikov",
      "userId": "12107629968185180200"
     },
     "user_tz": 240
    },
    "id": "zvHNhZrJ0-AF"
   },
   "outputs": [],
   "source": [
    "# name = 'siphu'"
   ]
  },
  {
   "cell_type": "code",
   "execution_count": 4,
   "metadata": {
    "executionInfo": {
     "elapsed": 604,
     "status": "ok",
     "timestamp": 1692147137641,
     "user": {
      "displayName": "Alibek Kruglikov",
      "userId": "12107629968185180200"
     },
     "user_tz": 240
    },
    "id": "9S0Ak26-UzFp"
   },
   "outputs": [],
   "source": [
    "URL = f'http://api.translink.ca/rttiapi/v1/routes/003?apikey={apikey}'\n",
    "response = requests.get(URL)"
   ]
  },
  {
   "cell_type": "markdown",
   "metadata": {
    "id": "8dikixkUUzFq"
   },
   "source": [
    "### Parsing XML"
   ]
  },
  {
   "cell_type": "markdown",
   "metadata": {
    "id": "qny0osXvUzFr"
   },
   "source": [
    "`pip install lxml` <br>\n",
    "`conda install lxml`\n"
   ]
  },
  {
   "cell_type": "code",
   "execution_count": 5,
   "metadata": {
    "colab": {
     "base_uri": "https://localhost:8080/"
    },
    "executionInfo": {
     "elapsed": 156,
     "status": "ok",
     "timestamp": 1692147340415,
     "user": {
      "displayName": "Alibek Kruglikov",
      "userId": "12107629968185180200"
     },
     "user_tz": 240
    },
    "id": "4ukaJaT5UzFs",
    "outputId": "2b8e334c-01e4-4b12-c500-c9e919ac39aa"
   },
   "outputs": [
    {
     "name": "stdout",
     "output_type": "stream",
     "text": [
      "<html>\n",
      " <body>\n",
      "  <route xmlns:i=\"http://www.w3.org/2001/XMLSchema-instance\">\n",
      "   <routeno>\n",
      "    003\n",
      "   </routeno>\n",
      "   <name>\n",
      "    MAIN/WATERFRONT STN\n",
      "   </name>\n",
      "   <operatingcompany>\n",
      "    CMBC\n",
      "   </operatingcompany>\n",
      "   <patterns>\n",
      "    <pattern>\n",
      "     <patternno>\n",
      "      N1\n",
      "     </patternno>\n",
      "     <destination>\n",
      "      MAIN/TO WATERFRONT STN\n",
      "     </destination>\n",
      "     <routemap>\n",
      "      <href>\n",
      "       https://nb.translink.ca/geodata/trip/003-N1.kmz\n",
      "      </href>\n",
      "     </routemap>\n",
      "     <direction>\n",
      "      NORTH\n",
      "     </direction>\n",
      "    </pattern>\n",
      "    <pattern>\n",
      "     <patternno>\n",
      "      S1\n",
      "     </patternno>\n",
      "     <destination>\n",
      "      MAIN/TO MARINE DR STN\n",
      "     </destination>\n",
      "     <routemap>\n",
      "      <href>\n",
      "       https://nb.translink.ca/geodata/trip/003-S1.kmz\n",
      "      </href>\n",
      "     </routemap>\n",
      "     <direction>\n",
      "      SOUTH\n",
      "     </direction>\n",
      "    </pattern>\n",
      "   </patterns>\n",
      "  </route>\n",
      " </body>\n",
      "</html>\n",
      "\n"
     ]
    }
   ],
   "source": [
    "soup = BeautifulSoup(response.text, 'lxml')\n",
    "print(soup.prettify())\n",
    "# soup"
   ]
  },
  {
   "cell_type": "code",
   "execution_count": 6,
   "metadata": {
    "colab": {
     "base_uri": "https://localhost:8080/"
    },
    "executionInfo": {
     "elapsed": 152,
     "status": "ok",
     "timestamp": 1692147329213,
     "user": {
      "displayName": "Alibek Kruglikov",
      "userId": "12107629968185180200"
     },
     "user_tz": 240
    },
    "id": "fVBpvqOr1x9u",
    "outputId": "0930bf94-426f-4054-aae7-ab1a0c7cf235"
   },
   "outputs": [
    {
     "data": {
      "text/plain": [
       "<html><body><route xmlns:i=\"http://www.w3.org/2001/XMLSchema-instance\"><routeno>003</routeno><name>MAIN/WATERFRONT STN</name><operatingcompany>CMBC</operatingcompany><patterns><pattern><patternno>N1</patternno><destination>MAIN/TO WATERFRONT STN</destination><routemap><href>https://nb.translink.ca/geodata/trip/003-N1.kmz</href></routemap><direction>NORTH</direction></pattern><pattern><patternno>S1</patternno><destination>MAIN/TO MARINE DR STN</destination><routemap><href>https://nb.translink.ca/geodata/trip/003-S1.kmz</href></routemap><direction>SOUTH</direction></pattern></patterns></route></body></html>"
      ]
     },
     "execution_count": 6,
     "metadata": {},
     "output_type": "execute_result"
    }
   ],
   "source": [
    "soup"
   ]
  },
  {
   "cell_type": "code",
   "execution_count": 7,
   "metadata": {
    "colab": {
     "base_uri": "https://localhost:8080/"
    },
    "executionInfo": {
     "elapsed": 661,
     "status": "ok",
     "timestamp": 1692147478424,
     "user": {
      "displayName": "Alibek Kruglikov",
      "userId": "12107629968185180200"
     },
     "user_tz": 240
    },
    "id": "aqRvRPb2UzFt",
    "outputId": "e084b7cd-4d43-4c75-89c0-748bab81adcf"
   },
   "outputs": [
    {
     "name": "stdout",
     "output_type": "stream",
     "text": [
      "<html>\n",
      " <body>\n",
      "  <stop xmlns:i=\"http://www.w3.org/2001/XMLSchema-instance\">\n",
      "   <stopno>\n",
      "    61935\n",
      "   </stopno>\n",
      "   <name>\n",
      "    UBC EXCHANGE BAY 7\n",
      "   </name>\n",
      "   <bayno>\n",
      "    4\n",
      "   </bayno>\n",
      "   <city>\n",
      "    VANCOUVER\n",
      "   </city>\n",
      "   <onstreet>\n",
      "    UBC EXCHANGE\n",
      "   </onstreet>\n",
      "   <atstreet>\n",
      "    BAY 7\n",
      "   </atstreet>\n",
      "   <latitude>\n",
      "    49.267419\n",
      "   </latitude>\n",
      "   <longitude>\n",
      "    -123.246831\n",
      "   </longitude>\n",
      "   <wheelchairaccess>\n",
      "    1\n",
      "   </wheelchairaccess>\n",
      "   <distance>\n",
      "    -1\n",
      "   </distance>\n",
      "   <routes>\n",
      "    099\n",
      "   </routes>\n",
      "  </stop>\n",
      " </body>\n",
      "</html>\n",
      "\n"
     ]
    }
   ],
   "source": [
    "# Example 1: get information about a specific bus stop\n",
    "URL = f'http://api.translink.ca/rttiapi/v1/stops/61935?apikey={apikey}'\n",
    "\n",
    "response = requests.get(URL)\n",
    "soup = BeautifulSoup(response.text, 'lxml')\n",
    "print(soup.prettify())"
   ]
  },
  {
   "cell_type": "code",
   "execution_count": 8,
   "metadata": {
    "colab": {
     "base_uri": "https://localhost:8080/",
     "height": 36
    },
    "executionInfo": {
     "elapsed": 189,
     "status": "ok",
     "timestamp": 1692147633249,
     "user": {
      "displayName": "Alibek Kruglikov",
      "userId": "12107629968185180200"
     },
     "user_tz": 240
    },
    "id": "ga7VI6CRUzFt",
    "outputId": "8f95a8e2-f4fc-4cba-e342-ac28918393f7"
   },
   "outputs": [
    {
     "data": {
      "text/plain": [
       "'61935'"
      ]
     },
     "execution_count": 8,
     "metadata": {},
     "output_type": "execute_result"
    }
   ],
   "source": [
    "# extract the stop number\n",
    "stop_number = soup.find('stopno').text\n",
    "stop_number"
   ]
  },
  {
   "cell_type": "code",
   "execution_count": 9,
   "metadata": {
    "colab": {
     "base_uri": "https://localhost:8080/",
     "height": 36
    },
    "executionInfo": {
     "elapsed": 189,
     "status": "ok",
     "timestamp": 1692147645880,
     "user": {
      "displayName": "Alibek Kruglikov",
      "userId": "12107629968185180200"
     },
     "user_tz": 240
    },
    "id": "-TZn0DU4UzFu",
    "outputId": "7181608c-d13a-4013-8d23-12cbd3f58e44"
   },
   "outputs": [
    {
     "data": {
      "text/plain": [
       "'Vancouver'"
      ]
     },
     "execution_count": 9,
     "metadata": {},
     "output_type": "execute_result"
    }
   ],
   "source": [
    "# extract the city\n",
    "city = soup.find('city').text\n",
    "city.capitalize()"
   ]
  },
  {
   "cell_type": "code",
   "execution_count": 10,
   "metadata": {
    "colab": {
     "base_uri": "https://localhost:8080/",
     "height": 36
    },
    "executionInfo": {
     "elapsed": 175,
     "status": "ok",
     "timestamp": 1692147676085,
     "user": {
      "displayName": "Alibek Kruglikov",
      "userId": "12107629968185180200"
     },
     "user_tz": 240
    },
    "id": "g0j8Miq5UzFu",
    "outputId": "9c1c8503-2af7-49a9-e4cd-0b292822ef93"
   },
   "outputs": [
    {
     "data": {
      "text/plain": [
       "'UBC EXCHANGE'"
      ]
     },
     "execution_count": 10,
     "metadata": {},
     "output_type": "execute_result"
    }
   ],
   "source": [
    "# extract on street\n",
    "on_street = soup.find('onstreet')\n",
    "on_street.text"
   ]
  },
  {
   "cell_type": "code",
   "execution_count": 11,
   "metadata": {
    "colab": {
     "base_uri": "https://localhost:8080/"
    },
    "executionInfo": {
     "elapsed": 146,
     "status": "ok",
     "timestamp": 1692147731792,
     "user": {
      "displayName": "Alibek Kruglikov",
      "userId": "12107629968185180200"
     },
     "user_tz": 240
    },
    "id": "QDX4Y_8kUzFu",
    "outputId": "0d4c54b9-129f-4df8-d5da-2434f162d100"
   },
   "outputs": [
    {
     "data": {
      "text/plain": [
       "<stop xmlns:i=\"http://www.w3.org/2001/XMLSchema-instance\"><stopno>61935</stopno><name>UBC EXCHANGE BAY 7</name><bayno>4</bayno><city>VANCOUVER</city><onstreet>UBC EXCHANGE</onstreet><atstreet>BAY 7</atstreet><latitude>49.267419</latitude><longitude>-123.246831</longitude><wheelchairaccess>1</wheelchairaccess><distance>-1</distance><routes>099</routes></stop>"
      ]
     },
     "execution_count": 11,
     "metadata": {},
     "output_type": "execute_result"
    }
   ],
   "source": [
    "soup.find('stop')"
   ]
  },
  {
   "cell_type": "markdown",
   "metadata": {
    "id": "s8tKz6SjUzFu"
   },
   "source": [
    "### Parsing JSON"
   ]
  },
  {
   "cell_type": "code",
   "execution_count": 12,
   "metadata": {
    "executionInfo": {
     "elapsed": 663,
     "status": "ok",
     "timestamp": 1692147902402,
     "user": {
      "displayName": "Alibek Kruglikov",
      "userId": "12107629968185180200"
     },
     "user_tz": 240
    },
    "id": "GwnSBugrUzFu"
   },
   "outputs": [],
   "source": [
    "# Example 2: get estimates of bus schedules at a specific stop\n",
    "request_url = f'http://api.translink.ca/rttiapi/v1/stops/61935/estimates?apikey={apikey}'\n",
    "header_dict = {'accept': 'application/JSON'}\n",
    "response = requests.get(request_url, headers=header_dict)"
   ]
  },
  {
   "cell_type": "code",
   "execution_count": 13,
   "metadata": {
    "colab": {
     "base_uri": "https://localhost:8080/",
     "height": 162
    },
    "executionInfo": {
     "elapsed": 141,
     "status": "ok",
     "timestamp": 1692147903736,
     "user": {
      "displayName": "Alibek Kruglikov",
      "userId": "12107629968185180200"
     },
     "user_tz": 240
    },
    "id": "Zrzf0AkhQVTH",
    "outputId": "15daf3da-d0d9-4fa0-dc7a-2af82820c775"
   },
   "outputs": [
    {
     "data": {
      "text/plain": [
       "'[{\"RouteNo\":\"099\",\"RouteName\":\"COMMERCIAL-BROADWAY\\\\/UBC (B-LINE)\",\"Direction\":\"EAST\",\"RouteMap\":{\"Href\":\"https:\\\\/\\\\/nb.translink.ca\\\\/geodata\\\\/099.kmz\"},\"Schedules\":[{\"Pattern\":\"E1PM\",\"Destination\":\"COMM\\'L-BDWAY STN\",\"ExpectedLeaveTime\":\"4:17pm 2023-11-21\",\"ExpectedCountdown\":-2,\"ScheduleStatus\":\"-\",\"CancelledTrip\":false,\"CancelledStop\":false,\"AddedTrip\":false,\"AddedStop\":false,\"LastUpdate\":\"04:15:46 pm\"},{\"Pattern\":\"E1PM\",\"Destination\":\"COMM\\'L-BDWAY STN\",\"ExpectedLeaveTime\":\"4:18pm 2023-11-21\",\"ExpectedCountdown\":-1,\"ScheduleStatus\":\"-\",\"CancelledTrip\":false,\"CancelledStop\":false,\"AddedTrip\":false,\"AddedStop\":false,\"LastUpdate\":\"04:06:38 pm\"},{\"Pattern\":\"E1PM\",\"Destination\":\"COMM\\'L-BDWAY STN\",\"ExpectedLeaveTime\":\"4:19pm 2023-11-21\",\"ExpectedCountdown\":0,\"ScheduleStatus\":\" \",\"CancelledTrip\":false,\"CancelledStop\":false,\"AddedTrip\":false,\"AddedStop\":false,\"LastUpdate\":\"04:08:10 pm\"},{\"Pattern\":\"E1PM\",\"Destination\":\"COMM\\'L-BDWAY STN\",\"ExpectedLeaveTime\":\"4:25pm 2023-11-21\",\"ExpectedCountdown\":6,\"ScheduleStatus\":\"*\",\"CancelledTrip\":false,\"CancelledStop\":false,\"AddedTrip\":false,\"AddedStop\":false,\"LastUpdate\":\"03:25:53 pm\"},{\"Pattern\":\"E1PM\",\"Destination\":\"COMM\\'L-BDWAY STN\",\"ExpectedLeaveTime\":\"4:28pm 2023-11-21\",\"ExpectedCountdown\":9,\"ScheduleStatus\":\"*\",\"CancelledTrip\":false,\"CancelledStop\":false,\"AddedTrip\":false,\"AddedStop\":false,\"LastUpdate\":\"03:28:43 pm\"},{\"Pattern\":\"E8FL3\",\"Destination\":\"TO BOUNDARY B-LINE\",\"ExpectedLeaveTime\":\"4:28pm 2023-11-21\",\"ExpectedCountdown\":9,\"ScheduleStatus\":\"-\",\"CancelledTrip\":false,\"CancelledStop\":false,\"AddedTrip\":false,\"AddedStop\":false,\"LastUpdate\":\"04:07:01 pm\"}]}]'"
      ]
     },
     "execution_count": 13,
     "metadata": {},
     "output_type": "execute_result"
    }
   ],
   "source": [
    "response.text"
   ]
  },
  {
   "cell_type": "code",
   "execution_count": 14,
   "metadata": {
    "colab": {
     "base_uri": "https://localhost:8080/"
    },
    "executionInfo": {
     "elapsed": 153,
     "status": "ok",
     "timestamp": 1692147947572,
     "user": {
      "displayName": "Alibek Kruglikov",
      "userId": "12107629968185180200"
     },
     "user_tz": 240
    },
    "id": "fNdoNaSNQXhO",
    "outputId": "00d4f872-5781-4333-98f9-d455e5330fc9"
   },
   "outputs": [
    {
     "data": {
      "text/plain": [
       "{'RouteNo': '099',\n",
       " 'RouteName': 'COMMERCIAL-BROADWAY/UBC (B-LINE)',\n",
       " 'Direction': 'EAST',\n",
       " 'RouteMap': {'Href': 'https://nb.translink.ca/geodata/099.kmz'},\n",
       " 'Schedules': [{'Pattern': 'E1PM',\n",
       "   'Destination': \"COMM'L-BDWAY STN\",\n",
       "   'ExpectedLeaveTime': '4:17pm 2023-11-21',\n",
       "   'ExpectedCountdown': -2,\n",
       "   'ScheduleStatus': '-',\n",
       "   'CancelledTrip': False,\n",
       "   'CancelledStop': False,\n",
       "   'AddedTrip': False,\n",
       "   'AddedStop': False,\n",
       "   'LastUpdate': '04:15:46 pm'},\n",
       "  {'Pattern': 'E1PM',\n",
       "   'Destination': \"COMM'L-BDWAY STN\",\n",
       "   'ExpectedLeaveTime': '4:18pm 2023-11-21',\n",
       "   'ExpectedCountdown': -1,\n",
       "   'ScheduleStatus': '-',\n",
       "   'CancelledTrip': False,\n",
       "   'CancelledStop': False,\n",
       "   'AddedTrip': False,\n",
       "   'AddedStop': False,\n",
       "   'LastUpdate': '04:06:38 pm'},\n",
       "  {'Pattern': 'E1PM',\n",
       "   'Destination': \"COMM'L-BDWAY STN\",\n",
       "   'ExpectedLeaveTime': '4:19pm 2023-11-21',\n",
       "   'ExpectedCountdown': 0,\n",
       "   'ScheduleStatus': ' ',\n",
       "   'CancelledTrip': False,\n",
       "   'CancelledStop': False,\n",
       "   'AddedTrip': False,\n",
       "   'AddedStop': False,\n",
       "   'LastUpdate': '04:08:10 pm'},\n",
       "  {'Pattern': 'E1PM',\n",
       "   'Destination': \"COMM'L-BDWAY STN\",\n",
       "   'ExpectedLeaveTime': '4:25pm 2023-11-21',\n",
       "   'ExpectedCountdown': 6,\n",
       "   'ScheduleStatus': '*',\n",
       "   'CancelledTrip': False,\n",
       "   'CancelledStop': False,\n",
       "   'AddedTrip': False,\n",
       "   'AddedStop': False,\n",
       "   'LastUpdate': '03:25:53 pm'},\n",
       "  {'Pattern': 'E1PM',\n",
       "   'Destination': \"COMM'L-BDWAY STN\",\n",
       "   'ExpectedLeaveTime': '4:28pm 2023-11-21',\n",
       "   'ExpectedCountdown': 9,\n",
       "   'ScheduleStatus': '*',\n",
       "   'CancelledTrip': False,\n",
       "   'CancelledStop': False,\n",
       "   'AddedTrip': False,\n",
       "   'AddedStop': False,\n",
       "   'LastUpdate': '03:28:43 pm'},\n",
       "  {'Pattern': 'E8FL3',\n",
       "   'Destination': 'TO BOUNDARY B-LINE',\n",
       "   'ExpectedLeaveTime': '4:28pm 2023-11-21',\n",
       "   'ExpectedCountdown': 9,\n",
       "   'ScheduleStatus': '-',\n",
       "   'CancelledTrip': False,\n",
       "   'CancelledStop': False,\n",
       "   'AddedTrip': False,\n",
       "   'AddedStop': False,\n",
       "   'LastUpdate': '04:07:01 pm'}]}"
      ]
     },
     "execution_count": 14,
     "metadata": {},
     "output_type": "execute_result"
    }
   ],
   "source": [
    "res_json = response.json()\n",
    "res_json[0]"
   ]
  },
  {
   "cell_type": "code",
   "execution_count": 15,
   "metadata": {
    "colab": {
     "base_uri": "https://localhost:8080/"
    },
    "executionInfo": {
     "elapsed": 132,
     "status": "ok",
     "timestamp": 1692148033181,
     "user": {
      "displayName": "Alibek Kruglikov",
      "userId": "12107629968185180200"
     },
     "user_tz": 240
    },
    "id": "EPtD0kRjUzFv",
    "outputId": "8ae51347-b87d-4b32-8a34-f2314fb4009a"
   },
   "outputs": [
    {
     "name": "stdout",
     "output_type": "stream",
     "text": [
      "Leaving at 4:17pm 2023-11-21\n",
      "Leaving at 4:18pm 2023-11-21\n",
      "Leaving at 4:19pm 2023-11-21\n",
      "Leaving at 4:25pm 2023-11-21\n",
      "Leaving at 4:28pm 2023-11-21\n",
      "Leaving at 4:28pm 2023-11-21\n"
     ]
    }
   ],
   "source": [
    "for schedule in res_json[0]['Schedules']:\n",
    "    print('Leaving at ' + schedule['ExpectedLeaveTime'])"
   ]
  },
  {
   "cell_type": "code",
   "execution_count": 16,
   "metadata": {
    "colab": {
     "base_uri": "https://localhost:8080/"
    },
    "executionInfo": {
     "elapsed": 525,
     "status": "ok",
     "timestamp": 1692148383982,
     "user": {
      "displayName": "Alibek Kruglikov",
      "userId": "12107629968185180200"
     },
     "user_tz": 240
    },
    "id": "eM2XbYIaUzFv",
    "outputId": "e45b9651-e091-4746-966d-d7b437cd2c4e",
    "scrolled": true
   },
   "outputs": [
    {
     "data": {
      "text/plain": [
       "[{'StopNo': 54997,\n",
       "  'Name': 'SB KING GEORGE BLVD FS 98 AVE',\n",
       "  'BayNo': 'N',\n",
       "  'City': 'SURREY',\n",
       "  'OnStreet': 'KING GEORGE BLVD',\n",
       "  'AtStreet': '98 AVE',\n",
       "  'Latitude': 49.179601,\n",
       "  'Longitude': -122.845814,\n",
       "  'WheelchairAccess': 1,\n",
       "  'Distance': 307,\n",
       "  'Routes': ''},\n",
       " {'StopNo': 54986,\n",
       "  'Name': 'EB 96 AVE FS 134 ST',\n",
       "  'BayNo': 'N',\n",
       "  'City': 'SURREY',\n",
       "  'OnStreet': '96 AVE',\n",
       "  'AtStreet': '134 ST',\n",
       "  'Latitude': 49.176992,\n",
       "  'Longitude': -122.850709,\n",
       "  'WheelchairAccess': 0,\n",
       "  'Distance': 338,\n",
       "  'Routes': '314, 329'},\n",
       " {'StopNo': 54999,\n",
       "  'Name': 'WB 96 AVE FS 134 ST',\n",
       "  'BayNo': 'N',\n",
       "  'City': 'SURREY',\n",
       "  'OnStreet': '96 AVE',\n",
       "  'AtStreet': '134 ST',\n",
       "  'Latitude': 49.177159,\n",
       "  'Longitude': -122.851794,\n",
       "  'WheelchairAccess': 0,\n",
       "  'Distance': 342,\n",
       "  'Routes': '314, 329'},\n",
       " {'StopNo': 54989,\n",
       "  'Name': 'NB KING GEORGE BLVD FS FRASER HWY',\n",
       "  'BayNo': 'N',\n",
       "  'City': 'SURREY',\n",
       "  'OnStreet': 'KING GEORGE BLVD',\n",
       "  'AtStreet': 'FRASER HWY',\n",
       "  'Latitude': 49.181116,\n",
       "  'Longitude': -122.845247,\n",
       "  'WheelchairAccess': 1,\n",
       "  'Distance': 367,\n",
       "  'Routes': '314, 321, 326, 329, 345, 395, 502'},\n",
       " {'StopNo': 54998,\n",
       "  'Name': 'WB 96 AVE FS KING GEORGE BLVD',\n",
       "  'BayNo': 'N',\n",
       "  'City': 'SURREY',\n",
       "  'OnStreet': '96 AVE',\n",
       "  'AtStreet': 'KING GEORGE BLVD',\n",
       "  'Latitude': 49.177135,\n",
       "  'Longitude': -122.847002,\n",
       "  'WheelchairAccess': 1,\n",
       "  'Distance': 386,\n",
       "  'Routes': '314, 329'},\n",
       " {'StopNo': 60654,\n",
       "  'Name': 'KING GEORGE STN BAY 1',\n",
       "  'BayNo': '1',\n",
       "  'City': 'SURREY',\n",
       "  'OnStreet': 'KING GEORGE STN',\n",
       "  'AtStreet': 'BAY 1',\n",
       "  'Latitude': 49.182376,\n",
       "  'Longitude': -122.845722,\n",
       "  'WheelchairAccess': 1,\n",
       "  'Distance': 408,\n",
       "  'Routes': '314, 321, 326, 329, R1'},\n",
       " {'StopNo': 54988,\n",
       "  'Name': 'NB KING GEORGE BLVD FS 96 AVE',\n",
       "  'BayNo': 'N',\n",
       "  'City': 'SURREY',\n",
       "  'OnStreet': 'KING GEORGE BLVD',\n",
       "  'AtStreet': '96 AVE',\n",
       "  'Latitude': 49.177621,\n",
       "  'Longitude': -122.845422,\n",
       "  'WheelchairAccess': 1,\n",
       "  'Distance': 425,\n",
       "  'Routes': '314, 321, 326, 329, 394, R1'},\n",
       " {'StopNo': 59339,\n",
       "  'Name': 'KING GEORGE STN BAY 4',\n",
       "  'BayNo': '4',\n",
       "  'City': 'SURREY',\n",
       "  'OnStreet': 'KING GEORGE STN',\n",
       "  'AtStreet': 'BAY 4',\n",
       "  'Latitude': 49.182677,\n",
       "  'Longitude': -122.845166,\n",
       "  'WheelchairAccess': 1,\n",
       "  'Distance': 460,\n",
       "  'Routes': '314, 321, 326, 329, 502, 503, R1'},\n",
       " {'StopNo': 54996,\n",
       "  'Name': 'KING GEORGE STN BAY 1',\n",
       "  'BayNo': '1',\n",
       "  'City': 'SURREY',\n",
       "  'OnStreet': 'KING GEORGE STN',\n",
       "  'AtStreet': 'BAY 1',\n",
       "  'Latitude': 49.183201,\n",
       "  'Longitude': -122.845706,\n",
       "  'WheelchairAccess': 1,\n",
       "  'Distance': 473,\n",
       "  'Routes': ''},\n",
       " {'StopNo': 57983,\n",
       "  'Name': 'KING GEORGE STATION PLATFORM 2',\n",
       "  'BayNo': 'N',\n",
       "  'City': 'SURREY',\n",
       "  'OnStreet': 'KING GEORGE STATION',\n",
       "  'AtStreet': 'PLATFORM 2',\n",
       "  'Latitude': 49.182755,\n",
       "  'Longitude': -122.844744,\n",
       "  'WheelchairAccess': 0,\n",
       "  'Distance': 490,\n",
       "  'Routes': ''},\n",
       " {'StopNo': 55665,\n",
       "  'Name': 'NB 132 ST NS 98 AVE',\n",
       "  'BayNo': 'N',\n",
       "  'City': 'SURREY',\n",
       "  'OnStreet': '132 ST',\n",
       "  'AtStreet': '98 AVE',\n",
       "  'Latitude': 49.181077,\n",
       "  'Longitude': -122.856552,\n",
       "  'WheelchairAccess': 1,\n",
       "  'Distance': 491,\n",
       "  'Routes': '324'},\n",
       " {'StopNo': 55669,\n",
       "  'Name': 'SB 132 ST FS 98 AVE',\n",
       "  'BayNo': 'N',\n",
       "  'City': 'SURREY',\n",
       "  'OnStreet': '132 ST',\n",
       "  'AtStreet': '98 AVE',\n",
       "  'Latitude': 49.180401,\n",
       "  'Longitude': -122.856803,\n",
       "  'WheelchairAccess': 0,\n",
       "  'Distance': 496,\n",
       "  'Routes': '324'},\n",
       " {'StopNo': 54990,\n",
       "  'Name': 'KING GEORGE STN BAY 2',\n",
       "  'BayNo': '2',\n",
       "  'City': 'SURREY',\n",
       "  'OnStreet': 'KING GEORGE STN',\n",
       "  'AtStreet': 'BAY 2',\n",
       "  'Latitude': 49.183124,\n",
       "  'Longitude': -122.845136,\n",
       "  'WheelchairAccess': 1,\n",
       "  'Distance': 496,\n",
       "  'Routes': '345, 394, 395'},\n",
       " {'StopNo': 57984,\n",
       "  'Name': 'KING GEORGE STATION PLATFORM 1',\n",
       "  'BayNo': 'N',\n",
       "  'City': 'SURREY',\n",
       "  'OnStreet': 'KING GEORGE STATION',\n",
       "  'AtStreet': 'PLATFORM 1',\n",
       "  'Latitude': 49.182812,\n",
       "  'Longitude': -122.844691,\n",
       "  'WheelchairAccess': 0,\n",
       "  'Distance': 497,\n",
       "  'Routes': ''},\n",
       " {'StopNo': 58273,\n",
       "  'Name': 'EB OLD YALE RD AT 13500 BLOCK',\n",
       "  'BayNo': 'N',\n",
       "  'City': 'SURREY',\n",
       "  'OnStreet': 'OLD YALE RD',\n",
       "  'AtStreet': '13500 BLOCK',\n",
       "  'Latitude': 49.184316,\n",
       "  'Longitude': -122.847504,\n",
       "  'WheelchairAccess': 1,\n",
       "  'Distance': 513,\n",
       "  'Routes': ''},\n",
       " {'StopNo': 60480,\n",
       "  'Name': 'KING GEORGE STN BAY 5',\n",
       "  'BayNo': '5',\n",
       "  'City': 'SURREY',\n",
       "  'OnStreet': 'KING GEORGE STN',\n",
       "  'AtStreet': 'BAY 5',\n",
       "  'Latitude': 49.183693,\n",
       "  'Longitude': -122.845706,\n",
       "  'WheelchairAccess': 1,\n",
       "  'Distance': 516,\n",
       "  'Routes': '502, 503'},\n",
       " {'StopNo': 54987,\n",
       "  'Name': 'SB KING GEORGE BLVD FS 96 AVE',\n",
       "  'BayNo': 'N',\n",
       "  'City': 'SURREY',\n",
       "  'OnStreet': 'KING GEORGE BLVD',\n",
       "  'AtStreet': '96 AVE',\n",
       "  'Latitude': 49.176019,\n",
       "  'Longitude': -122.846016,\n",
       "  'WheelchairAccess': 1,\n",
       "  'Distance': 529,\n",
       "  'Routes': '321, 394, R1'},\n",
       " {'StopNo': 51939,\n",
       "  'Name': 'KING GEORGE STN BAY 4',\n",
       "  'BayNo': '4',\n",
       "  'City': 'SURREY',\n",
       "  'OnStreet': 'KING GEORGE STN',\n",
       "  'AtStreet': 'BAY 4',\n",
       "  'Latitude': 49.18365,\n",
       "  'Longitude': -122.84519,\n",
       "  'WheelchairAccess': 1,\n",
       "  'Distance': 536,\n",
       "  'Routes': ''},\n",
       " {'StopNo': 54985,\n",
       "  'Name': 'EB 96 AVE FS 132 ST',\n",
       "  'BayNo': 'N',\n",
       "  'City': 'SURREY',\n",
       "  'OnStreet': '96 AVE',\n",
       "  'AtStreet': '132 ST',\n",
       "  'Latitude': 49.177019,\n",
       "  'Longitude': -122.855987,\n",
       "  'WheelchairAccess': 1,\n",
       "  'Distance': 547,\n",
       "  'Routes': '314, 329'},\n",
       " {'StopNo': 55664,\n",
       "  'Name': 'NB 132 ST FS 96 AVE',\n",
       "  'BayNo': 'N',\n",
       "  'City': 'SURREY',\n",
       "  'OnStreet': '132 ST',\n",
       "  'AtStreet': '96 AVE',\n",
       "  'Latitude': 49.177725,\n",
       "  'Longitude': -122.856698,\n",
       "  'WheelchairAccess': 1,\n",
       "  'Distance': 549,\n",
       "  'Routes': '324'},\n",
       " {'StopNo': 56420,\n",
       "  'Name': 'WB FRASER HWY FS WHALLEY BLVD',\n",
       "  'BayNo': 'N',\n",
       "  'City': 'SURREY',\n",
       "  'OnStreet': 'FRASER HWY',\n",
       "  'AtStreet': 'WHALLEY BLVD',\n",
       "  'Latitude': 49.180787,\n",
       "  'Longitude': -122.842303,\n",
       "  'WheelchairAccess': 1,\n",
       "  'Distance': 566,\n",
       "  'Routes': ''}]"
      ]
     },
     "execution_count": 16,
     "metadata": {},
     "output_type": "execute_result"
    }
   ],
   "source": [
    "# Example 3: get all bus stops near a (latitude, longitude) coordinate (more parameters)\n",
    "request_url = f'https://api.translink.ca/rttiapi/v1/stops?apikey={apikey}&lat=49.18&long=-122.85&radius=600'\n",
    "response = requests.get(request_url, headers={'accept': 'application/JSON'})\n",
    "response.json()"
   ]
  },
  {
   "cell_type": "markdown",
   "metadata": {
    "id": "WUURUVEFUzFv"
   },
   "source": [
    "## Using the requests.get() 'params' parameter"
   ]
  },
  {
   "cell_type": "code",
   "execution_count": 17,
   "metadata": {
    "colab": {
     "base_uri": "https://localhost:8080/"
    },
    "executionInfo": {
     "elapsed": 547,
     "status": "ok",
     "timestamp": 1692148496595,
     "user": {
      "displayName": "Alibek Kruglikov",
      "userId": "12107629968185180200"
     },
     "user_tz": 240
    },
    "id": "tlaj3n6WUzFv",
    "outputId": "cacd50fe-55b6-47ea-999d-2405bb723ff8",
    "scrolled": true
   },
   "outputs": [
    {
     "data": {
      "text/plain": [
       "[{'StopNo': 54997,\n",
       "  'Name': 'SB KING GEORGE BLVD FS 98 AVE',\n",
       "  'BayNo': 'N',\n",
       "  'City': 'SURREY',\n",
       "  'OnStreet': 'KING GEORGE BLVD',\n",
       "  'AtStreet': '98 AVE',\n",
       "  'Latitude': 49.179601,\n",
       "  'Longitude': -122.845814,\n",
       "  'WheelchairAccess': 1,\n",
       "  'Distance': 307,\n",
       "  'Routes': ''},\n",
       " {'StopNo': 54986,\n",
       "  'Name': 'EB 96 AVE FS 134 ST',\n",
       "  'BayNo': 'N',\n",
       "  'City': 'SURREY',\n",
       "  'OnStreet': '96 AVE',\n",
       "  'AtStreet': '134 ST',\n",
       "  'Latitude': 49.176992,\n",
       "  'Longitude': -122.850709,\n",
       "  'WheelchairAccess': 0,\n",
       "  'Distance': 338,\n",
       "  'Routes': '314, 329'},\n",
       " {'StopNo': 54999,\n",
       "  'Name': 'WB 96 AVE FS 134 ST',\n",
       "  'BayNo': 'N',\n",
       "  'City': 'SURREY',\n",
       "  'OnStreet': '96 AVE',\n",
       "  'AtStreet': '134 ST',\n",
       "  'Latitude': 49.177159,\n",
       "  'Longitude': -122.851794,\n",
       "  'WheelchairAccess': 0,\n",
       "  'Distance': 342,\n",
       "  'Routes': '314, 329'},\n",
       " {'StopNo': 54989,\n",
       "  'Name': 'NB KING GEORGE BLVD FS FRASER HWY',\n",
       "  'BayNo': 'N',\n",
       "  'City': 'SURREY',\n",
       "  'OnStreet': 'KING GEORGE BLVD',\n",
       "  'AtStreet': 'FRASER HWY',\n",
       "  'Latitude': 49.181116,\n",
       "  'Longitude': -122.845247,\n",
       "  'WheelchairAccess': 1,\n",
       "  'Distance': 367,\n",
       "  'Routes': '314, 321, 326, 329, 345, 395, 502'},\n",
       " {'StopNo': 54998,\n",
       "  'Name': 'WB 96 AVE FS KING GEORGE BLVD',\n",
       "  'BayNo': 'N',\n",
       "  'City': 'SURREY',\n",
       "  'OnStreet': '96 AVE',\n",
       "  'AtStreet': 'KING GEORGE BLVD',\n",
       "  'Latitude': 49.177135,\n",
       "  'Longitude': -122.847002,\n",
       "  'WheelchairAccess': 1,\n",
       "  'Distance': 386,\n",
       "  'Routes': '314, 329'},\n",
       " {'StopNo': 60654,\n",
       "  'Name': 'KING GEORGE STN BAY 1',\n",
       "  'BayNo': '1',\n",
       "  'City': 'SURREY',\n",
       "  'OnStreet': 'KING GEORGE STN',\n",
       "  'AtStreet': 'BAY 1',\n",
       "  'Latitude': 49.182376,\n",
       "  'Longitude': -122.845722,\n",
       "  'WheelchairAccess': 1,\n",
       "  'Distance': 408,\n",
       "  'Routes': '314, 321, 326, 329, R1'},\n",
       " {'StopNo': 54988,\n",
       "  'Name': 'NB KING GEORGE BLVD FS 96 AVE',\n",
       "  'BayNo': 'N',\n",
       "  'City': 'SURREY',\n",
       "  'OnStreet': 'KING GEORGE BLVD',\n",
       "  'AtStreet': '96 AVE',\n",
       "  'Latitude': 49.177621,\n",
       "  'Longitude': -122.845422,\n",
       "  'WheelchairAccess': 1,\n",
       "  'Distance': 425,\n",
       "  'Routes': '314, 321, 326, 329, 394, R1'},\n",
       " {'StopNo': 59339,\n",
       "  'Name': 'KING GEORGE STN BAY 4',\n",
       "  'BayNo': '4',\n",
       "  'City': 'SURREY',\n",
       "  'OnStreet': 'KING GEORGE STN',\n",
       "  'AtStreet': 'BAY 4',\n",
       "  'Latitude': 49.182677,\n",
       "  'Longitude': -122.845166,\n",
       "  'WheelchairAccess': 1,\n",
       "  'Distance': 460,\n",
       "  'Routes': '314, 321, 326, 329, 502, 503, R1'},\n",
       " {'StopNo': 54996,\n",
       "  'Name': 'KING GEORGE STN BAY 1',\n",
       "  'BayNo': '1',\n",
       "  'City': 'SURREY',\n",
       "  'OnStreet': 'KING GEORGE STN',\n",
       "  'AtStreet': 'BAY 1',\n",
       "  'Latitude': 49.183201,\n",
       "  'Longitude': -122.845706,\n",
       "  'WheelchairAccess': 1,\n",
       "  'Distance': 473,\n",
       "  'Routes': ''},\n",
       " {'StopNo': 57983,\n",
       "  'Name': 'KING GEORGE STATION PLATFORM 2',\n",
       "  'BayNo': 'N',\n",
       "  'City': 'SURREY',\n",
       "  'OnStreet': 'KING GEORGE STATION',\n",
       "  'AtStreet': 'PLATFORM 2',\n",
       "  'Latitude': 49.182755,\n",
       "  'Longitude': -122.844744,\n",
       "  'WheelchairAccess': 0,\n",
       "  'Distance': 490,\n",
       "  'Routes': ''},\n",
       " {'StopNo': 55665,\n",
       "  'Name': 'NB 132 ST NS 98 AVE',\n",
       "  'BayNo': 'N',\n",
       "  'City': 'SURREY',\n",
       "  'OnStreet': '132 ST',\n",
       "  'AtStreet': '98 AVE',\n",
       "  'Latitude': 49.181077,\n",
       "  'Longitude': -122.856552,\n",
       "  'WheelchairAccess': 1,\n",
       "  'Distance': 491,\n",
       "  'Routes': '324'},\n",
       " {'StopNo': 55669,\n",
       "  'Name': 'SB 132 ST FS 98 AVE',\n",
       "  'BayNo': 'N',\n",
       "  'City': 'SURREY',\n",
       "  'OnStreet': '132 ST',\n",
       "  'AtStreet': '98 AVE',\n",
       "  'Latitude': 49.180401,\n",
       "  'Longitude': -122.856803,\n",
       "  'WheelchairAccess': 0,\n",
       "  'Distance': 496,\n",
       "  'Routes': '324'},\n",
       " {'StopNo': 54990,\n",
       "  'Name': 'KING GEORGE STN BAY 2',\n",
       "  'BayNo': '2',\n",
       "  'City': 'SURREY',\n",
       "  'OnStreet': 'KING GEORGE STN',\n",
       "  'AtStreet': 'BAY 2',\n",
       "  'Latitude': 49.183124,\n",
       "  'Longitude': -122.845136,\n",
       "  'WheelchairAccess': 1,\n",
       "  'Distance': 496,\n",
       "  'Routes': '345, 394, 395'},\n",
       " {'StopNo': 57984,\n",
       "  'Name': 'KING GEORGE STATION PLATFORM 1',\n",
       "  'BayNo': 'N',\n",
       "  'City': 'SURREY',\n",
       "  'OnStreet': 'KING GEORGE STATION',\n",
       "  'AtStreet': 'PLATFORM 1',\n",
       "  'Latitude': 49.182812,\n",
       "  'Longitude': -122.844691,\n",
       "  'WheelchairAccess': 0,\n",
       "  'Distance': 497,\n",
       "  'Routes': ''},\n",
       " {'StopNo': 58273,\n",
       "  'Name': 'EB OLD YALE RD AT 13500 BLOCK',\n",
       "  'BayNo': 'N',\n",
       "  'City': 'SURREY',\n",
       "  'OnStreet': 'OLD YALE RD',\n",
       "  'AtStreet': '13500 BLOCK',\n",
       "  'Latitude': 49.184316,\n",
       "  'Longitude': -122.847504,\n",
       "  'WheelchairAccess': 1,\n",
       "  'Distance': 513,\n",
       "  'Routes': ''},\n",
       " {'StopNo': 60480,\n",
       "  'Name': 'KING GEORGE STN BAY 5',\n",
       "  'BayNo': '5',\n",
       "  'City': 'SURREY',\n",
       "  'OnStreet': 'KING GEORGE STN',\n",
       "  'AtStreet': 'BAY 5',\n",
       "  'Latitude': 49.183693,\n",
       "  'Longitude': -122.845706,\n",
       "  'WheelchairAccess': 1,\n",
       "  'Distance': 516,\n",
       "  'Routes': '502, 503'},\n",
       " {'StopNo': 54987,\n",
       "  'Name': 'SB KING GEORGE BLVD FS 96 AVE',\n",
       "  'BayNo': 'N',\n",
       "  'City': 'SURREY',\n",
       "  'OnStreet': 'KING GEORGE BLVD',\n",
       "  'AtStreet': '96 AVE',\n",
       "  'Latitude': 49.176019,\n",
       "  'Longitude': -122.846016,\n",
       "  'WheelchairAccess': 1,\n",
       "  'Distance': 529,\n",
       "  'Routes': '321, 394, R1'},\n",
       " {'StopNo': 51939,\n",
       "  'Name': 'KING GEORGE STN BAY 4',\n",
       "  'BayNo': '4',\n",
       "  'City': 'SURREY',\n",
       "  'OnStreet': 'KING GEORGE STN',\n",
       "  'AtStreet': 'BAY 4',\n",
       "  'Latitude': 49.18365,\n",
       "  'Longitude': -122.84519,\n",
       "  'WheelchairAccess': 1,\n",
       "  'Distance': 536,\n",
       "  'Routes': ''},\n",
       " {'StopNo': 54985,\n",
       "  'Name': 'EB 96 AVE FS 132 ST',\n",
       "  'BayNo': 'N',\n",
       "  'City': 'SURREY',\n",
       "  'OnStreet': '96 AVE',\n",
       "  'AtStreet': '132 ST',\n",
       "  'Latitude': 49.177019,\n",
       "  'Longitude': -122.855987,\n",
       "  'WheelchairAccess': 1,\n",
       "  'Distance': 547,\n",
       "  'Routes': '314, 329'},\n",
       " {'StopNo': 55664,\n",
       "  'Name': 'NB 132 ST FS 96 AVE',\n",
       "  'BayNo': 'N',\n",
       "  'City': 'SURREY',\n",
       "  'OnStreet': '132 ST',\n",
       "  'AtStreet': '96 AVE',\n",
       "  'Latitude': 49.177725,\n",
       "  'Longitude': -122.856698,\n",
       "  'WheelchairAccess': 1,\n",
       "  'Distance': 549,\n",
       "  'Routes': '324'},\n",
       " {'StopNo': 56420,\n",
       "  'Name': 'WB FRASER HWY FS WHALLEY BLVD',\n",
       "  'BayNo': 'N',\n",
       "  'City': 'SURREY',\n",
       "  'OnStreet': 'FRASER HWY',\n",
       "  'AtStreet': 'WHALLEY BLVD',\n",
       "  'Latitude': 49.180787,\n",
       "  'Longitude': -122.842303,\n",
       "  'WheelchairAccess': 1,\n",
       "  'Distance': 566,\n",
       "  'Routes': ''}]"
      ]
     },
     "execution_count": 17,
     "metadata": {},
     "output_type": "execute_result"
    }
   ],
   "source": [
    "URL = 'https://api.translink.ca/rttiapi/v1/stops'\n",
    "params_dict = {\n",
    "    'lat' : '49.18',\n",
    "    'long' : '-122.85',\n",
    "    'radius' : '600',\n",
    "    'apikey' : apikey\n",
    "}\n",
    "headers_dict = {'accept': 'application/JSON'}\n",
    "response = requests.get(URL, params=params_dict, headers=headers_dict)\n",
    "res_json = response.json()\n",
    "res_json"
   ]
  },
  {
   "cell_type": "code",
   "execution_count": 18,
   "metadata": {
    "id": "uibgAbHmUzFv"
   },
   "outputs": [
    {
     "name": "stdout",
     "output_type": "stream",
     "text": [
      "1\n",
      "0\n",
      "0\n",
      "1\n",
      "1\n",
      "1\n",
      "1\n",
      "1\n",
      "1\n",
      "0\n",
      "1\n",
      "0\n",
      "1\n",
      "0\n",
      "1\n",
      "1\n",
      "1\n",
      "1\n",
      "1\n",
      "1\n",
      "1\n"
     ]
    }
   ],
   "source": [
    "for stop in res_json:\n",
    "    print(stop['WheelchairAccess'])"
   ]
  },
  {
   "cell_type": "code",
   "execution_count": 19,
   "metadata": {
    "colab": {
     "base_uri": "https://localhost:8080/"
    },
    "executionInfo": {
     "elapsed": 143,
     "status": "ok",
     "timestamp": 1692148600167,
     "user": {
      "displayName": "Alibek Kruglikov",
      "userId": "12107629968185180200"
     },
     "user_tz": 240
    },
    "id": "wWajlWBNUzFw",
    "outputId": "3ace2294-02f2-4bc6-d078-8f366fdefeca",
    "scrolled": true
   },
   "outputs": [
    {
     "data": {
      "text/plain": [
       "{'SB KING GEORGE BLVD FS 98 AVE': True,\n",
       " 'EB 96 AVE FS 134 ST': False,\n",
       " 'WB 96 AVE FS 134 ST': False,\n",
       " 'NB KING GEORGE BLVD FS FRASER HWY': True,\n",
       " 'WB 96 AVE FS KING GEORGE BLVD': True,\n",
       " 'KING GEORGE STN BAY 1': True,\n",
       " 'NB KING GEORGE BLVD FS 96 AVE': True,\n",
       " 'KING GEORGE STN BAY 4': True,\n",
       " 'KING GEORGE STATION PLATFORM 2': False,\n",
       " 'NB 132 ST NS 98 AVE': True,\n",
       " 'SB 132 ST FS 98 AVE': False,\n",
       " 'KING GEORGE STN BAY 2': True,\n",
       " 'KING GEORGE STATION PLATFORM 1': False,\n",
       " 'EB OLD YALE RD AT 13500 BLOCK': True,\n",
       " 'KING GEORGE STN BAY 5': True,\n",
       " 'SB KING GEORGE BLVD FS 96 AVE': True,\n",
       " 'EB 96 AVE FS 132 ST': True,\n",
       " 'NB 132 ST FS 96 AVE': True,\n",
       " 'WB FRASER HWY FS WHALLEY BLVD': True}"
      ]
     },
     "execution_count": 19,
     "metadata": {},
     "output_type": "execute_result"
    }
   ],
   "source": [
    "wheelchair_access = {}\n",
    "for stop in res_json:\n",
    "    access = stop['WheelchairAccess']\n",
    "    name = stop['Name']\n",
    "    if access == 1:\n",
    "        wheelchair_access[name] = True\n",
    "#         print(name, 'Yes')\n",
    "    else:\n",
    "        wheelchair_access[name] = False\n",
    "#         print(name, 'No')\n",
    "\n",
    "wheelchair_access"
   ]
  },
  {
   "cell_type": "markdown",
   "metadata": {
    "id": "-hxj37X_UzFw"
   },
   "source": [
    "## Now with XML"
   ]
  },
  {
   "cell_type": "code",
   "execution_count": 20,
   "metadata": {
    "colab": {
     "base_uri": "https://localhost:8080/",
     "height": 162
    },
    "executionInfo": {
     "elapsed": 597,
     "status": "ok",
     "timestamp": 1692148655399,
     "user": {
      "displayName": "Alibek Kruglikov",
      "userId": "12107629968185180200"
     },
     "user_tz": 240
    },
    "id": "oN1cBmMSUzFw",
    "outputId": "fa0bf4b2-d57d-4d7b-a294-010455f307f2"
   },
   "outputs": [
    {
     "data": {
      "text/plain": [
       "'<Stops xmlns:i=\"http://www.w3.org/2001/XMLSchema-instance\"><Stop><StopNo>54997</StopNo><Name>SB KING GEORGE BLVD FS 98 AVE</Name><BayNo>N</BayNo><City>SURREY</City><OnStreet>KING GEORGE BLVD</OnStreet><AtStreet>98 AVE</AtStreet><Latitude>49.179601</Latitude><Longitude>-122.845814</Longitude><WheelchairAccess>1</WheelchairAccess><Distance>307</Distance><Routes/></Stop><Stop><StopNo>54986</StopNo><Name>EB 96 AVE FS 134 ST</Name><BayNo>N</BayNo><City>SURREY</City><OnStreet>96 AVE</OnStreet><AtStreet>134 ST</AtStreet><Latitude>49.176992</Latitude><Longitude>-122.850709</Longitude><WheelchairAccess>0</WheelchairAccess><Distance>338</Distance><Routes>314, 329</Routes></Stop><Stop><StopNo>54999</StopNo><Name>WB 96 AVE FS 134 ST</Name><BayNo>N</BayNo><City>SURREY</City><OnStreet>96 AVE</OnStreet><AtStreet>134 ST</AtStreet><Latitude>49.177159</Latitude><Longitude>-122.851794</Longitude><WheelchairAccess>0</WheelchairAccess><Distance>342</Distance><Routes>314, 329</Routes></Stop><Stop><StopNo>54989</StopNo><Name>NB KING GEORGE BLVD FS FRASER HWY</Name><BayNo>N</BayNo><City>SURREY</City><OnStreet>KING GEORGE BLVD</OnStreet><AtStreet>FRASER HWY</AtStreet><Latitude>49.181116</Latitude><Longitude>-122.845247</Longitude><WheelchairAccess>1</WheelchairAccess><Distance>367</Distance><Routes>314, 321, 326, 329, 345, 395, 502</Routes></Stop><Stop><StopNo>54998</StopNo><Name>WB 96 AVE FS KING GEORGE BLVD</Name><BayNo>N</BayNo><City>SURREY</City><OnStreet>96 AVE</OnStreet><AtStreet>KING GEORGE BLVD</AtStreet><Latitude>49.177135</Latitude><Longitude>-122.847002</Longitude><WheelchairAccess>1</WheelchairAccess><Distance>386</Distance><Routes>314, 329</Routes></Stop><Stop><StopNo>60654</StopNo><Name>KING GEORGE STN BAY 1</Name><BayNo>1</BayNo><City>SURREY</City><OnStreet>KING GEORGE STN</OnStreet><AtStreet>BAY 1</AtStreet><Latitude>49.182376</Latitude><Longitude>-122.845722</Longitude><WheelchairAccess>1</WheelchairAccess><Distance>408</Distance><Routes>314, 321, 326, 329, R1</Routes></Stop><Stop><StopNo>54988</StopNo><Name>NB KING GEORGE BLVD FS 96 AVE</Name><BayNo>N</BayNo><City>SURREY</City><OnStreet>KING GEORGE BLVD</OnStreet><AtStreet>96 AVE</AtStreet><Latitude>49.177621</Latitude><Longitude>-122.845422</Longitude><WheelchairAccess>1</WheelchairAccess><Distance>425</Distance><Routes>314, 321, 326, 329, 394, R1</Routes></Stop><Stop><StopNo>59339</StopNo><Name>KING GEORGE STN BAY 4</Name><BayNo>4</BayNo><City>SURREY</City><OnStreet>KING GEORGE STN</OnStreet><AtStreet>BAY 4</AtStreet><Latitude>49.182677</Latitude><Longitude>-122.845166</Longitude><WheelchairAccess>1</WheelchairAccess><Distance>460</Distance><Routes>314, 321, 326, 329, 502, 503, R1</Routes></Stop><Stop><StopNo>54996</StopNo><Name>KING GEORGE STN BAY 1</Name><BayNo>1</BayNo><City>SURREY</City><OnStreet>KING GEORGE STN</OnStreet><AtStreet>BAY 1</AtStreet><Latitude>49.183201</Latitude><Longitude>-122.845706</Longitude><WheelchairAccess>1</WheelchairAccess><Distance>473</Distance><Routes/></Stop><Stop><StopNo>57983</StopNo><Name>KING GEORGE STATION PLATFORM 2</Name><BayNo>N</BayNo><City>SURREY</City><OnStreet>KING GEORGE STATION</OnStreet><AtStreet>PLATFORM 2</AtStreet><Latitude>49.182755</Latitude><Longitude>-122.844744</Longitude><WheelchairAccess>0</WheelchairAccess><Distance>490</Distance><Routes/></Stop><Stop><StopNo>55665</StopNo><Name>NB 132 ST NS 98 AVE</Name><BayNo>N</BayNo><City>SURREY</City><OnStreet>132 ST</OnStreet><AtStreet>98 AVE</AtStreet><Latitude>49.181077</Latitude><Longitude>-122.856552</Longitude><WheelchairAccess>1</WheelchairAccess><Distance>491</Distance><Routes>324</Routes></Stop><Stop><StopNo>55669</StopNo><Name>SB 132 ST FS 98 AVE</Name><BayNo>N</BayNo><City>SURREY</City><OnStreet>132 ST</OnStreet><AtStreet>98 AVE</AtStreet><Latitude>49.180401</Latitude><Longitude>-122.856803</Longitude><WheelchairAccess>0</WheelchairAccess><Distance>496</Distance><Routes>324</Routes></Stop><Stop><StopNo>54990</StopNo><Name>KING GEORGE STN BAY 2</Name><BayNo>2</BayNo><City>SURREY</City><OnStreet>KING GEORGE STN</OnStreet><AtStreet>BAY 2</AtStreet><Latitude>49.183124</Latitude><Longitude>-122.845136</Longitude><WheelchairAccess>1</WheelchairAccess><Distance>496</Distance><Routes>345, 394, 395</Routes></Stop><Stop><StopNo>57984</StopNo><Name>KING GEORGE STATION PLATFORM 1</Name><BayNo>N</BayNo><City>SURREY</City><OnStreet>KING GEORGE STATION</OnStreet><AtStreet>PLATFORM 1</AtStreet><Latitude>49.182812</Latitude><Longitude>-122.844691</Longitude><WheelchairAccess>0</WheelchairAccess><Distance>497</Distance><Routes/></Stop><Stop><StopNo>58273</StopNo><Name>EB OLD YALE RD AT 13500 BLOCK</Name><BayNo>N</BayNo><City>SURREY</City><OnStreet>OLD YALE RD</OnStreet><AtStreet>13500 BLOCK</AtStreet><Latitude>49.184316</Latitude><Longitude>-122.847504</Longitude><WheelchairAccess>1</WheelchairAccess><Distance>513</Distance><Routes/></Stop><Stop><StopNo>60480</StopNo><Name>KING GEORGE STN BAY 5</Name><BayNo>5</BayNo><City>SURREY</City><OnStreet>KING GEORGE STN</OnStreet><AtStreet>BAY 5</AtStreet><Latitude>49.183693</Latitude><Longitude>-122.845706</Longitude><WheelchairAccess>1</WheelchairAccess><Distance>516</Distance><Routes>502, 503</Routes></Stop><Stop><StopNo>54987</StopNo><Name>SB KING GEORGE BLVD FS 96 AVE</Name><BayNo>N</BayNo><City>SURREY</City><OnStreet>KING GEORGE BLVD</OnStreet><AtStreet>96 AVE</AtStreet><Latitude>49.176019</Latitude><Longitude>-122.846016</Longitude><WheelchairAccess>1</WheelchairAccess><Distance>529</Distance><Routes>321, 394, R1</Routes></Stop><Stop><StopNo>51939</StopNo><Name>KING GEORGE STN BAY 4</Name><BayNo>4</BayNo><City>SURREY</City><OnStreet>KING GEORGE STN</OnStreet><AtStreet>BAY 4</AtStreet><Latitude>49.183650</Latitude><Longitude>-122.845190</Longitude><WheelchairAccess>1</WheelchairAccess><Distance>536</Distance><Routes/></Stop><Stop><StopNo>54985</StopNo><Name>EB 96 AVE FS 132 ST</Name><BayNo>N</BayNo><City>SURREY</City><OnStreet>96 AVE</OnStreet><AtStreet>132 ST</AtStreet><Latitude>49.177019</Latitude><Longitude>-122.855987</Longitude><WheelchairAccess>1</WheelchairAccess><Distance>547</Distance><Routes>314, 329</Routes></Stop><Stop><StopNo>55664</StopNo><Name>NB 132 ST FS 96 AVE</Name><BayNo>N</BayNo><City>SURREY</City><OnStreet>132 ST</OnStreet><AtStreet>96 AVE</AtStreet><Latitude>49.177725</Latitude><Longitude>-122.856698</Longitude><WheelchairAccess>1</WheelchairAccess><Distance>549</Distance><Routes>324</Routes></Stop><Stop><StopNo>56420</StopNo><Name>WB FRASER HWY FS WHALLEY BLVD</Name><BayNo>N</BayNo><City>SURREY</City><OnStreet>FRASER HWY</OnStreet><AtStreet>WHALLEY BLVD</AtStreet><Latitude>49.180787</Latitude><Longitude>-122.842303</Longitude><WheelchairAccess>1</WheelchairAccess><Distance>566</Distance><Routes/></Stop></Stops>'"
      ]
     },
     "execution_count": 20,
     "metadata": {},
     "output_type": "execute_result"
    }
   ],
   "source": [
    "URL = 'https://api.translink.ca/rttiapi/v1/stops'\n",
    "\n",
    "params_dict = {\n",
    "    'lat' : '49.18',\n",
    "    'long' : '-122.85',\n",
    "    'radius' : '600',\n",
    "    'apikey' : apikey\n",
    "}\n",
    "response = requests.get(URL, params=params_dict)\n",
    "response.text"
   ]
  },
  {
   "cell_type": "code",
   "execution_count": 21,
   "metadata": {
    "id": "RhjtbgKRUzFw"
   },
   "outputs": [
    {
     "name": "stdout",
     "output_type": "stream",
     "text": [
      "<html>\n",
      " <body>\n",
      "  <stops xmlns:i=\"http://www.w3.org/2001/XMLSchema-instance\">\n",
      "   <stop>\n",
      "    <stopno>\n",
      "     54997\n",
      "    </stopno>\n",
      "    <name>\n",
      "     SB KING GEORGE BLVD FS 98 AVE\n",
      "    </name>\n",
      "    <bayno>\n",
      "     N\n",
      "    </bayno>\n",
      "    <city>\n",
      "     SURREY\n",
      "    </city>\n",
      "    <onstreet>\n",
      "     KING GEORGE BLVD\n",
      "    </onstreet>\n",
      "    <atstreet>\n",
      "     98 AVE\n",
      "    </atstreet>\n",
      "    <latitude>\n",
      "     49.179601\n",
      "    </latitude>\n",
      "    <longitude>\n",
      "     -122.845814\n",
      "    </longitude>\n",
      "    <wheelchairaccess>\n",
      "     1\n",
      "    </wheelchairaccess>\n",
      "    <distance>\n",
      "     307\n",
      "    </distance>\n",
      "    <routes>\n",
      "    </routes>\n",
      "   </stop>\n",
      "   <stop>\n",
      "    <stopno>\n",
      "     54986\n",
      "    </stopno>\n",
      "    <name>\n",
      "     EB 96 AVE FS 134 ST\n",
      "    </name>\n",
      "    <bayno>\n",
      "     N\n",
      "    </bayno>\n",
      "    <city>\n",
      "     SURREY\n",
      "    </city>\n",
      "    <onstreet>\n",
      "     96 AVE\n",
      "    </onstreet>\n",
      "    <atstreet>\n",
      "     134 ST\n",
      "    </atstreet>\n",
      "    <latitude>\n",
      "     49.176992\n",
      "    </latitude>\n",
      "    <longitude>\n",
      "     -122.850709\n",
      "    </longitude>\n",
      "    <wheelchairaccess>\n",
      "     0\n",
      "    </wheelchairaccess>\n",
      "    <distance>\n",
      "     338\n",
      "    </distance>\n",
      "    <routes>\n",
      "     314, 329\n",
      "    </routes>\n",
      "   </stop>\n",
      "   <stop>\n",
      "    <stopno>\n",
      "     54999\n",
      "    </stopno>\n",
      "    <name>\n",
      "     WB 96 AVE FS 134 ST\n",
      "    </name>\n",
      "    <bayno>\n",
      "     N\n",
      "    </bayno>\n",
      "    <city>\n",
      "     SURREY\n",
      "    </city>\n",
      "    <onstreet>\n",
      "     96 AVE\n",
      "    </onstreet>\n",
      "    <atstreet>\n",
      "     134 ST\n",
      "    </atstreet>\n",
      "    <latitude>\n",
      "     49.177159\n",
      "    </latitude>\n",
      "    <longitude>\n",
      "     -122.851794\n",
      "    </longitude>\n",
      "    <wheelchairaccess>\n",
      "     0\n",
      "    </wheelchairaccess>\n",
      "    <distance>\n",
      "     342\n",
      "    </distance>\n",
      "    <routes>\n",
      "     314, 329\n",
      "    </routes>\n",
      "   </stop>\n",
      "   <stop>\n",
      "    <stopno>\n",
      "     54989\n",
      "    </stopno>\n",
      "    <name>\n",
      "     NB KING GEORGE BLVD FS FRASER HWY\n",
      "    </name>\n",
      "    <bayno>\n",
      "     N\n",
      "    </bayno>\n",
      "    <city>\n",
      "     SURREY\n",
      "    </city>\n",
      "    <onstreet>\n",
      "     KING GEORGE BLVD\n",
      "    </onstreet>\n",
      "    <atstreet>\n",
      "     FRASER HWY\n",
      "    </atstreet>\n",
      "    <latitude>\n",
      "     49.181116\n",
      "    </latitude>\n",
      "    <longitude>\n",
      "     -122.845247\n",
      "    </longitude>\n",
      "    <wheelchairaccess>\n",
      "     1\n",
      "    </wheelchairaccess>\n",
      "    <distance>\n",
      "     367\n",
      "    </distance>\n",
      "    <routes>\n",
      "     314, 321, 326, 329, 345, 395, 502\n",
      "    </routes>\n",
      "   </stop>\n",
      "   <stop>\n",
      "    <stopno>\n",
      "     54998\n",
      "    </stopno>\n",
      "    <name>\n",
      "     WB 96 AVE FS KING GEORGE BLVD\n",
      "    </name>\n",
      "    <bayno>\n",
      "     N\n",
      "    </bayno>\n",
      "    <city>\n",
      "     SURREY\n",
      "    </city>\n",
      "    <onstreet>\n",
      "     96 AVE\n",
      "    </onstreet>\n",
      "    <atstreet>\n",
      "     KING GEORGE BLVD\n",
      "    </atstreet>\n",
      "    <latitude>\n",
      "     49.177135\n",
      "    </latitude>\n",
      "    <longitude>\n",
      "     -122.847002\n",
      "    </longitude>\n",
      "    <wheelchairaccess>\n",
      "     1\n",
      "    </wheelchairaccess>\n",
      "    <distance>\n",
      "     386\n",
      "    </distance>\n",
      "    <routes>\n",
      "     314, 329\n",
      "    </routes>\n",
      "   </stop>\n",
      "   <stop>\n",
      "    <stopno>\n",
      "     60654\n",
      "    </stopno>\n",
      "    <name>\n",
      "     KING GEORGE STN BAY 1\n",
      "    </name>\n",
      "    <bayno>\n",
      "     1\n",
      "    </bayno>\n",
      "    <city>\n",
      "     SURREY\n",
      "    </city>\n",
      "    <onstreet>\n",
      "     KING GEORGE STN\n",
      "    </onstreet>\n",
      "    <atstreet>\n",
      "     BAY 1\n",
      "    </atstreet>\n",
      "    <latitude>\n",
      "     49.182376\n",
      "    </latitude>\n",
      "    <longitude>\n",
      "     -122.845722\n",
      "    </longitude>\n",
      "    <wheelchairaccess>\n",
      "     1\n",
      "    </wheelchairaccess>\n",
      "    <distance>\n",
      "     408\n",
      "    </distance>\n",
      "    <routes>\n",
      "     314, 321, 326, 329, R1\n",
      "    </routes>\n",
      "   </stop>\n",
      "   <stop>\n",
      "    <stopno>\n",
      "     54988\n",
      "    </stopno>\n",
      "    <name>\n",
      "     NB KING GEORGE BLVD FS 96 AVE\n",
      "    </name>\n",
      "    <bayno>\n",
      "     N\n",
      "    </bayno>\n",
      "    <city>\n",
      "     SURREY\n",
      "    </city>\n",
      "    <onstreet>\n",
      "     KING GEORGE BLVD\n",
      "    </onstreet>\n",
      "    <atstreet>\n",
      "     96 AVE\n",
      "    </atstreet>\n",
      "    <latitude>\n",
      "     49.177621\n",
      "    </latitude>\n",
      "    <longitude>\n",
      "     -122.845422\n",
      "    </longitude>\n",
      "    <wheelchairaccess>\n",
      "     1\n",
      "    </wheelchairaccess>\n",
      "    <distance>\n",
      "     425\n",
      "    </distance>\n",
      "    <routes>\n",
      "     314, 321, 326, 329, 394, R1\n",
      "    </routes>\n",
      "   </stop>\n",
      "   <stop>\n",
      "    <stopno>\n",
      "     59339\n",
      "    </stopno>\n",
      "    <name>\n",
      "     KING GEORGE STN BAY 4\n",
      "    </name>\n",
      "    <bayno>\n",
      "     4\n",
      "    </bayno>\n",
      "    <city>\n",
      "     SURREY\n",
      "    </city>\n",
      "    <onstreet>\n",
      "     KING GEORGE STN\n",
      "    </onstreet>\n",
      "    <atstreet>\n",
      "     BAY 4\n",
      "    </atstreet>\n",
      "    <latitude>\n",
      "     49.182677\n",
      "    </latitude>\n",
      "    <longitude>\n",
      "     -122.845166\n",
      "    </longitude>\n",
      "    <wheelchairaccess>\n",
      "     1\n",
      "    </wheelchairaccess>\n",
      "    <distance>\n",
      "     460\n",
      "    </distance>\n",
      "    <routes>\n",
      "     314, 321, 326, 329, 502, 503, R1\n",
      "    </routes>\n",
      "   </stop>\n",
      "   <stop>\n",
      "    <stopno>\n",
      "     54996\n",
      "    </stopno>\n",
      "    <name>\n",
      "     KING GEORGE STN BAY 1\n",
      "    </name>\n",
      "    <bayno>\n",
      "     1\n",
      "    </bayno>\n",
      "    <city>\n",
      "     SURREY\n",
      "    </city>\n",
      "    <onstreet>\n",
      "     KING GEORGE STN\n",
      "    </onstreet>\n",
      "    <atstreet>\n",
      "     BAY 1\n",
      "    </atstreet>\n",
      "    <latitude>\n",
      "     49.183201\n",
      "    </latitude>\n",
      "    <longitude>\n",
      "     -122.845706\n",
      "    </longitude>\n",
      "    <wheelchairaccess>\n",
      "     1\n",
      "    </wheelchairaccess>\n",
      "    <distance>\n",
      "     473\n",
      "    </distance>\n",
      "    <routes>\n",
      "    </routes>\n",
      "   </stop>\n",
      "   <stop>\n",
      "    <stopno>\n",
      "     57983\n",
      "    </stopno>\n",
      "    <name>\n",
      "     KING GEORGE STATION PLATFORM 2\n",
      "    </name>\n",
      "    <bayno>\n",
      "     N\n",
      "    </bayno>\n",
      "    <city>\n",
      "     SURREY\n",
      "    </city>\n",
      "    <onstreet>\n",
      "     KING GEORGE STATION\n",
      "    </onstreet>\n",
      "    <atstreet>\n",
      "     PLATFORM 2\n",
      "    </atstreet>\n",
      "    <latitude>\n",
      "     49.182755\n",
      "    </latitude>\n",
      "    <longitude>\n",
      "     -122.844744\n",
      "    </longitude>\n",
      "    <wheelchairaccess>\n",
      "     0\n",
      "    </wheelchairaccess>\n",
      "    <distance>\n",
      "     490\n",
      "    </distance>\n",
      "    <routes>\n",
      "    </routes>\n",
      "   </stop>\n",
      "   <stop>\n",
      "    <stopno>\n",
      "     55665\n",
      "    </stopno>\n",
      "    <name>\n",
      "     NB 132 ST NS 98 AVE\n",
      "    </name>\n",
      "    <bayno>\n",
      "     N\n",
      "    </bayno>\n",
      "    <city>\n",
      "     SURREY\n",
      "    </city>\n",
      "    <onstreet>\n",
      "     132 ST\n",
      "    </onstreet>\n",
      "    <atstreet>\n",
      "     98 AVE\n",
      "    </atstreet>\n",
      "    <latitude>\n",
      "     49.181077\n",
      "    </latitude>\n",
      "    <longitude>\n",
      "     -122.856552\n",
      "    </longitude>\n",
      "    <wheelchairaccess>\n",
      "     1\n",
      "    </wheelchairaccess>\n",
      "    <distance>\n",
      "     491\n",
      "    </distance>\n",
      "    <routes>\n",
      "     324\n",
      "    </routes>\n",
      "   </stop>\n",
      "   <stop>\n",
      "    <stopno>\n",
      "     55669\n",
      "    </stopno>\n",
      "    <name>\n",
      "     SB 132 ST FS 98 AVE\n",
      "    </name>\n",
      "    <bayno>\n",
      "     N\n",
      "    </bayno>\n",
      "    <city>\n",
      "     SURREY\n",
      "    </city>\n",
      "    <onstreet>\n",
      "     132 ST\n",
      "    </onstreet>\n",
      "    <atstreet>\n",
      "     98 AVE\n",
      "    </atstreet>\n",
      "    <latitude>\n",
      "     49.180401\n",
      "    </latitude>\n",
      "    <longitude>\n",
      "     -122.856803\n",
      "    </longitude>\n",
      "    <wheelchairaccess>\n",
      "     0\n",
      "    </wheelchairaccess>\n",
      "    <distance>\n",
      "     496\n",
      "    </distance>\n",
      "    <routes>\n",
      "     324\n",
      "    </routes>\n",
      "   </stop>\n",
      "   <stop>\n",
      "    <stopno>\n",
      "     54990\n",
      "    </stopno>\n",
      "    <name>\n",
      "     KING GEORGE STN BAY 2\n",
      "    </name>\n",
      "    <bayno>\n",
      "     2\n",
      "    </bayno>\n",
      "    <city>\n",
      "     SURREY\n",
      "    </city>\n",
      "    <onstreet>\n",
      "     KING GEORGE STN\n",
      "    </onstreet>\n",
      "    <atstreet>\n",
      "     BAY 2\n",
      "    </atstreet>\n",
      "    <latitude>\n",
      "     49.183124\n",
      "    </latitude>\n",
      "    <longitude>\n",
      "     -122.845136\n",
      "    </longitude>\n",
      "    <wheelchairaccess>\n",
      "     1\n",
      "    </wheelchairaccess>\n",
      "    <distance>\n",
      "     496\n",
      "    </distance>\n",
      "    <routes>\n",
      "     345, 394, 395\n",
      "    </routes>\n",
      "   </stop>\n",
      "   <stop>\n",
      "    <stopno>\n",
      "     57984\n",
      "    </stopno>\n",
      "    <name>\n",
      "     KING GEORGE STATION PLATFORM 1\n",
      "    </name>\n",
      "    <bayno>\n",
      "     N\n",
      "    </bayno>\n",
      "    <city>\n",
      "     SURREY\n",
      "    </city>\n",
      "    <onstreet>\n",
      "     KING GEORGE STATION\n",
      "    </onstreet>\n",
      "    <atstreet>\n",
      "     PLATFORM 1\n",
      "    </atstreet>\n",
      "    <latitude>\n",
      "     49.182812\n",
      "    </latitude>\n",
      "    <longitude>\n",
      "     -122.844691\n",
      "    </longitude>\n",
      "    <wheelchairaccess>\n",
      "     0\n",
      "    </wheelchairaccess>\n",
      "    <distance>\n",
      "     497\n",
      "    </distance>\n",
      "    <routes>\n",
      "    </routes>\n",
      "   </stop>\n",
      "   <stop>\n",
      "    <stopno>\n",
      "     58273\n",
      "    </stopno>\n",
      "    <name>\n",
      "     EB OLD YALE RD AT 13500 BLOCK\n",
      "    </name>\n",
      "    <bayno>\n",
      "     N\n",
      "    </bayno>\n",
      "    <city>\n",
      "     SURREY\n",
      "    </city>\n",
      "    <onstreet>\n",
      "     OLD YALE RD\n",
      "    </onstreet>\n",
      "    <atstreet>\n",
      "     13500 BLOCK\n",
      "    </atstreet>\n",
      "    <latitude>\n",
      "     49.184316\n",
      "    </latitude>\n",
      "    <longitude>\n",
      "     -122.847504\n",
      "    </longitude>\n",
      "    <wheelchairaccess>\n",
      "     1\n",
      "    </wheelchairaccess>\n",
      "    <distance>\n",
      "     513\n",
      "    </distance>\n",
      "    <routes>\n",
      "    </routes>\n",
      "   </stop>\n",
      "   <stop>\n",
      "    <stopno>\n",
      "     60480\n",
      "    </stopno>\n",
      "    <name>\n",
      "     KING GEORGE STN BAY 5\n",
      "    </name>\n",
      "    <bayno>\n",
      "     5\n",
      "    </bayno>\n",
      "    <city>\n",
      "     SURREY\n",
      "    </city>\n",
      "    <onstreet>\n",
      "     KING GEORGE STN\n",
      "    </onstreet>\n",
      "    <atstreet>\n",
      "     BAY 5\n",
      "    </atstreet>\n",
      "    <latitude>\n",
      "     49.183693\n",
      "    </latitude>\n",
      "    <longitude>\n",
      "     -122.845706\n",
      "    </longitude>\n",
      "    <wheelchairaccess>\n",
      "     1\n",
      "    </wheelchairaccess>\n",
      "    <distance>\n",
      "     516\n",
      "    </distance>\n",
      "    <routes>\n",
      "     502, 503\n",
      "    </routes>\n",
      "   </stop>\n",
      "   <stop>\n",
      "    <stopno>\n",
      "     54987\n",
      "    </stopno>\n",
      "    <name>\n",
      "     SB KING GEORGE BLVD FS 96 AVE\n",
      "    </name>\n",
      "    <bayno>\n",
      "     N\n",
      "    </bayno>\n",
      "    <city>\n",
      "     SURREY\n",
      "    </city>\n",
      "    <onstreet>\n",
      "     KING GEORGE BLVD\n",
      "    </onstreet>\n",
      "    <atstreet>\n",
      "     96 AVE\n",
      "    </atstreet>\n",
      "    <latitude>\n",
      "     49.176019\n",
      "    </latitude>\n",
      "    <longitude>\n",
      "     -122.846016\n",
      "    </longitude>\n",
      "    <wheelchairaccess>\n",
      "     1\n",
      "    </wheelchairaccess>\n",
      "    <distance>\n",
      "     529\n",
      "    </distance>\n",
      "    <routes>\n",
      "     321, 394, R1\n",
      "    </routes>\n",
      "   </stop>\n",
      "   <stop>\n",
      "    <stopno>\n",
      "     51939\n",
      "    </stopno>\n",
      "    <name>\n",
      "     KING GEORGE STN BAY 4\n",
      "    </name>\n",
      "    <bayno>\n",
      "     4\n",
      "    </bayno>\n",
      "    <city>\n",
      "     SURREY\n",
      "    </city>\n",
      "    <onstreet>\n",
      "     KING GEORGE STN\n",
      "    </onstreet>\n",
      "    <atstreet>\n",
      "     BAY 4\n",
      "    </atstreet>\n",
      "    <latitude>\n",
      "     49.183650\n",
      "    </latitude>\n",
      "    <longitude>\n",
      "     -122.845190\n",
      "    </longitude>\n",
      "    <wheelchairaccess>\n",
      "     1\n",
      "    </wheelchairaccess>\n",
      "    <distance>\n",
      "     536\n",
      "    </distance>\n",
      "    <routes>\n",
      "    </routes>\n",
      "   </stop>\n",
      "   <stop>\n",
      "    <stopno>\n",
      "     54985\n",
      "    </stopno>\n",
      "    <name>\n",
      "     EB 96 AVE FS 132 ST\n",
      "    </name>\n",
      "    <bayno>\n",
      "     N\n",
      "    </bayno>\n",
      "    <city>\n",
      "     SURREY\n",
      "    </city>\n",
      "    <onstreet>\n",
      "     96 AVE\n",
      "    </onstreet>\n",
      "    <atstreet>\n",
      "     132 ST\n",
      "    </atstreet>\n",
      "    <latitude>\n",
      "     49.177019\n",
      "    </latitude>\n",
      "    <longitude>\n",
      "     -122.855987\n",
      "    </longitude>\n",
      "    <wheelchairaccess>\n",
      "     1\n",
      "    </wheelchairaccess>\n",
      "    <distance>\n",
      "     547\n",
      "    </distance>\n",
      "    <routes>\n",
      "     314, 329\n",
      "    </routes>\n",
      "   </stop>\n",
      "   <stop>\n",
      "    <stopno>\n",
      "     55664\n",
      "    </stopno>\n",
      "    <name>\n",
      "     NB 132 ST FS 96 AVE\n",
      "    </name>\n",
      "    <bayno>\n",
      "     N\n",
      "    </bayno>\n",
      "    <city>\n",
      "     SURREY\n",
      "    </city>\n",
      "    <onstreet>\n",
      "     132 ST\n",
      "    </onstreet>\n",
      "    <atstreet>\n",
      "     96 AVE\n",
      "    </atstreet>\n",
      "    <latitude>\n",
      "     49.177725\n",
      "    </latitude>\n",
      "    <longitude>\n",
      "     -122.856698\n",
      "    </longitude>\n",
      "    <wheelchairaccess>\n",
      "     1\n",
      "    </wheelchairaccess>\n",
      "    <distance>\n",
      "     549\n",
      "    </distance>\n",
      "    <routes>\n",
      "     324\n",
      "    </routes>\n",
      "   </stop>\n",
      "   <stop>\n",
      "    <stopno>\n",
      "     56420\n",
      "    </stopno>\n",
      "    <name>\n",
      "     WB FRASER HWY FS WHALLEY BLVD\n",
      "    </name>\n",
      "    <bayno>\n",
      "     N\n",
      "    </bayno>\n",
      "    <city>\n",
      "     SURREY\n",
      "    </city>\n",
      "    <onstreet>\n",
      "     FRASER HWY\n",
      "    </onstreet>\n",
      "    <atstreet>\n",
      "     WHALLEY BLVD\n",
      "    </atstreet>\n",
      "    <latitude>\n",
      "     49.180787\n",
      "    </latitude>\n",
      "    <longitude>\n",
      "     -122.842303\n",
      "    </longitude>\n",
      "    <wheelchairaccess>\n",
      "     1\n",
      "    </wheelchairaccess>\n",
      "    <distance>\n",
      "     566\n",
      "    </distance>\n",
      "    <routes>\n",
      "    </routes>\n",
      "   </stop>\n",
      "  </stops>\n",
      " </body>\n",
      "</html>\n",
      "\n"
     ]
    }
   ],
   "source": [
    "soup = BeautifulSoup(response.text, 'lxml')\n",
    "print(soup.prettify())"
   ]
  },
  {
   "cell_type": "code",
   "execution_count": 22,
   "metadata": {
    "colab": {
     "base_uri": "https://localhost:8080/"
    },
    "executionInfo": {
     "elapsed": 160,
     "status": "ok",
     "timestamp": 1692148742390,
     "user": {
      "displayName": "Alibek Kruglikov",
      "userId": "12107629968185180200"
     },
     "user_tz": 240
    },
    "id": "vCtPLc18UzFw",
    "outputId": "f8ed6bbf-45a3-47b1-e1cd-29adbcc0d776"
   },
   "outputs": [
    {
     "data": {
      "text/plain": [
       "[<stop><stopno>54997</stopno><name>SB KING GEORGE BLVD FS 98 AVE</name><bayno>N</bayno><city>SURREY</city><onstreet>KING GEORGE BLVD</onstreet><atstreet>98 AVE</atstreet><latitude>49.179601</latitude><longitude>-122.845814</longitude><wheelchairaccess>1</wheelchairaccess><distance>307</distance><routes></routes></stop>,\n",
       " <stop><stopno>54986</stopno><name>EB 96 AVE FS 134 ST</name><bayno>N</bayno><city>SURREY</city><onstreet>96 AVE</onstreet><atstreet>134 ST</atstreet><latitude>49.176992</latitude><longitude>-122.850709</longitude><wheelchairaccess>0</wheelchairaccess><distance>338</distance><routes>314, 329</routes></stop>]"
      ]
     },
     "execution_count": 22,
     "metadata": {},
     "output_type": "execute_result"
    }
   ],
   "source": [
    "stops = soup.find_all('stop')\n",
    "stops[:2]"
   ]
  },
  {
   "cell_type": "code",
   "execution_count": 23,
   "metadata": {
    "colab": {
     "base_uri": "https://localhost:8080/"
    },
    "executionInfo": {
     "elapsed": 139,
     "status": "ok",
     "timestamp": 1692148760385,
     "user": {
      "displayName": "Alibek Kruglikov",
      "userId": "12107629968185180200"
     },
     "user_tz": 240
    },
    "id": "-Ue_Br6RUzFw",
    "outputId": "8636f3a5-7cf5-4cb6-bc72-fe9dac4afff3"
   },
   "outputs": [
    {
     "name": "stdout",
     "output_type": "stream",
     "text": [
      "1\n",
      "0\n",
      "0\n",
      "1\n",
      "1\n",
      "1\n",
      "1\n",
      "1\n",
      "1\n",
      "0\n",
      "1\n",
      "0\n",
      "1\n",
      "0\n",
      "1\n",
      "1\n",
      "1\n",
      "1\n",
      "1\n",
      "1\n",
      "1\n"
     ]
    }
   ],
   "source": [
    "for stop in stops:\n",
    "    print(stop.find('wheelchairaccess').text)"
   ]
  },
  {
   "cell_type": "code",
   "execution_count": 24,
   "metadata": {
    "colab": {
     "base_uri": "https://localhost:8080/"
    },
    "executionInfo": {
     "elapsed": 152,
     "status": "ok",
     "timestamp": 1692148860538,
     "user": {
      "displayName": "Alibek Kruglikov",
      "userId": "12107629968185180200"
     },
     "user_tz": 240
    },
    "id": "5TJ29WfXUzFw",
    "outputId": "cf3013b0-34d5-4028-e5d8-36250c12c700"
   },
   "outputs": [
    {
     "data": {
      "text/plain": [
       "{'SB KING GEORGE BLVD FS 98 AVE': True,\n",
       " 'EB 96 AVE FS 134 ST': False,\n",
       " 'WB 96 AVE FS 134 ST': False,\n",
       " 'NB KING GEORGE BLVD FS FRASER HWY': True,\n",
       " 'WB 96 AVE FS KING GEORGE BLVD': True,\n",
       " 'KING GEORGE STN BAY 1': True,\n",
       " 'NB KING GEORGE BLVD FS 96 AVE': True,\n",
       " 'KING GEORGE STN BAY 4': True,\n",
       " 'KING GEORGE STATION PLATFORM 2': False,\n",
       " 'NB 132 ST NS 98 AVE': True,\n",
       " 'SB 132 ST FS 98 AVE': False,\n",
       " 'KING GEORGE STN BAY 2': True,\n",
       " 'KING GEORGE STATION PLATFORM 1': False,\n",
       " 'EB OLD YALE RD AT 13500 BLOCK': True,\n",
       " 'KING GEORGE STN BAY 5': True,\n",
       " 'SB KING GEORGE BLVD FS 96 AVE': True,\n",
       " 'EB 96 AVE FS 132 ST': True,\n",
       " 'NB 132 ST FS 96 AVE': True,\n",
       " 'WB FRASER HWY FS WHALLEY BLVD': True}"
      ]
     },
     "execution_count": 24,
     "metadata": {},
     "output_type": "execute_result"
    }
   ],
   "source": [
    "wheelchair_access = {}\n",
    "for stop in stops:\n",
    "    access = stop.find('wheelchairaccess').text\n",
    "    # use element.text attribute\n",
    "    name = stop.find('name').text\n",
    "    if access == '1':\n",
    "        wheelchair_access[name] = True\n",
    "#         print(name, 'Yes')\n",
    "    else:\n",
    "        wheelchair_access[name] = False\n",
    "#         print(name, 'No')\n",
    "\n",
    "wheelchair_access"
   ]
  },
  {
   "cell_type": "code",
   "execution_count": null,
   "metadata": {
    "id": "B72adPfslZbo"
   },
   "outputs": [],
   "source": []
  }
 ],
 "metadata": {
  "colab": {
   "provenance": []
  },
  "kernelspec": {
   "display_name": "LHL",
   "language": "python",
   "name": "lhl"
  },
  "language_info": {
   "codemirror_mode": {
    "name": "ipython",
    "version": 3
   },
   "file_extension": ".py",
   "mimetype": "text/x-python",
   "name": "python",
   "nbconvert_exporter": "python",
   "pygments_lexer": "ipython3",
   "version": "3.11.5"
  }
 },
 "nbformat": 4,
 "nbformat_minor": 4
}
