{
 "cells": [
  {
   "cell_type": "code",
   "execution_count": 4,
   "id": "6ee7cc04-e6e9-47f9-bd2c-8ef5ff71dd09",
   "metadata": {},
   "outputs": [
    {
     "name": "stdout",
     "output_type": "stream",
     "text": [
      "2023-11-08 18:53:06.673332\n",
      "Type: - <class 'datetime.datetime'>\n"
     ]
    }
   ],
   "source": [
    "from datetime import datetime\n",
    "\n",
    "datetime_object = datetime.now()\n",
    "print(datetime_object)\n",
    "print('Type: -', type(datetime_object))"
   ]
  },
  {
   "cell_type": "code",
   "execution_count": 18,
   "id": "2790544d-31d6-4557-9c88-56e6e12ed832",
   "metadata": {},
   "outputs": [
    {
     "name": "stdout",
     "output_type": "stream",
     "text": [
      "1989-09-02 00:00:00\n",
      "Type: - <class 'datetime.datetime'>\n"
     ]
    }
   ],
   "source": [
    "my_string = \"1989-09-02\"\n",
    "\n",
    "my_date = datetime.strptime(my_string, \"%Y-%m-%d\")\n",
    "\n",
    "print(my_date)\n",
    "print(\"Type: -\", type(my_date))"
   ]
  },
  {
   "cell_type": "code",
   "execution_count": 19,
   "id": "90242cfd-60ad-478a-95f3-a3f28b3697b3",
   "metadata": {},
   "outputs": [
    {
     "name": "stdout",
     "output_type": "stream",
     "text": [
      "Month: 9\n",
      "Year: 1989\n"
     ]
    }
   ],
   "source": [
    "print('Month:', my_date.month)\n",
    "print('Year:', my_date.year)"
   ]
  },
  {
   "cell_type": "code",
   "execution_count": 26,
   "id": "e9e237c2-4c49-4971-9565-07973e5c36b9",
   "metadata": {},
   "outputs": [
    {
     "name": "stdout",
     "output_type": "stream",
     "text": [
      "Day of Month: 2\n",
      "Day of Week (number): 5\n",
      "Day of week (name): Saturday\n"
     ]
    }
   ],
   "source": [
    "import calendar\n",
    "\n",
    "my_date = datetime.strptime('1989-09-02', '%Y-%m-%d')\n",
    "\n",
    "print('Day of Month:', my_date.day)\n",
    "\n",
    "print('Day of Week (number):', my_date.weekday())\n",
    "\n",
    "print('Day of week (name):', calendar.day_name[my_date.weekday()])"
   ]
  },
  {
   "cell_type": "code",
   "execution_count": 27,
   "id": "710658f6-b612-4012-88d3-607f5c85295d",
   "metadata": {},
   "outputs": [
    {
     "name": "stdout",
     "output_type": "stream",
     "text": [
      "0 - Monday\n",
      "1 - Tuesday\n",
      "2 - Wednesday\n",
      "3 - Thursday\n",
      "4 - Friday\n",
      "5 - Saturday\n",
      "6 - Sunday\n"
     ]
    }
   ],
   "source": [
    "j = 0\n",
    "for i in calendar.day_name:\n",
    "    print(j,'-',i)\n",
    "    j+=1"
   ]
  },
  {
   "cell_type": "code",
   "execution_count": 29,
   "id": "c5e55ebd-8816-48be-aa8b-35e7950d49f5",
   "metadata": {},
   "outputs": [
    {
     "data": {
      "text/plain": [
       "datetime.IsoCalendarDate(year=2023, week=45, weekday=3)"
      ]
     },
     "execution_count": 29,
     "metadata": {},
     "output_type": "execute_result"
    }
   ],
   "source": [
    "todays_date = datetime.now()\n",
    "todays_date.isocalendar()"
   ]
  },
  {
   "cell_type": "code",
   "execution_count": 32,
   "id": "530cc891-26cb-4486-b441-45ab207026a9",
   "metadata": {},
   "outputs": [
    {
     "data": {
      "text/plain": [
       "45"
      ]
     },
     "execution_count": 32,
     "metadata": {},
     "output_type": "execute_result"
    }
   ],
   "source": [
    "todays_date.isocalendar()[1]"
   ]
  },
  {
   "cell_type": "code",
   "execution_count": 33,
   "id": "3da03530-7fe8-407d-a9e6-97d2136d84b6",
   "metadata": {},
   "outputs": [],
   "source": [
    "from datetime import datetime\n",
    "\n",
    "now = datetime.now()\n",
    "\n",
    "timestamp = datetime.timestamp(now)"
   ]
  },
  {
   "cell_type": "code",
   "execution_count": 34,
   "id": "d30aa417-57ce-440a-9a21-e0c163868532",
   "metadata": {},
   "outputs": [
    {
     "name": "stdout",
     "output_type": "stream",
     "text": [
      "Date and Time: 2023-11-08 19:14:29.456615\n",
      "Timestamp: 1699488869.456615\n"
     ]
    }
   ],
   "source": [
    "print(\"Date and Time:\", now)\n",
    "print(\"Timestamp:\", timestamp)"
   ]
  },
  {
   "cell_type": "code",
   "execution_count": 35,
   "id": "807b43fd-4584-409d-bcbc-a843331a89ec",
   "metadata": {},
   "outputs": [
    {
     "name": "stdout",
     "output_type": "stream",
     "text": [
      "dt_object: 2023-11-08 19:14:29.456615\n",
      "type(dt_object): <class 'datetime.datetime'>\n"
     ]
    }
   ],
   "source": [
    "timestamp = 1699488869.456615\n",
    "\n",
    "dt_object = datetime.fromtimestamp(timestamp)\n",
    "\n",
    "print(\"dt_object:\", dt_object)\n",
    "print(\"type(dt_object):\", type(dt_object))"
   ]
  },
  {
   "cell_type": "code",
   "execution_count": 36,
   "id": "0bf67f81-bd8d-4cc1-b32c-11c079f898af",
   "metadata": {},
   "outputs": [],
   "source": [
    "from datetime import timedelta\n",
    "\n",
    "d= timedelta(weeks=2)"
   ]
  },
  {
   "cell_type": "code",
   "execution_count": 37,
   "id": "c5f4cf0d-fef6-4b26-b287-9ae18b4d4fe0",
   "metadata": {},
   "outputs": [
    {
     "name": "stdout",
     "output_type": "stream",
     "text": [
      "14 days, 0:00:00\n",
      "<class 'datetime.timedelta'>\n",
      "14\n"
     ]
    }
   ],
   "source": [
    "print(d)\n",
    "print(type(d))\n",
    "print(d.days)"
   ]
  },
  {
   "cell_type": "code",
   "execution_count": 38,
   "id": "46877920-be84-4968-8a5c-07de6d0a2902",
   "metadata": {},
   "outputs": [
    {
     "name": "stdout",
     "output_type": "stream",
     "text": [
      "365 days, 0:00:00\n"
     ]
    }
   ],
   "source": [
    "year = timedelta(days=365)\n",
    "print(year)"
   ]
  },
  {
   "cell_type": "code",
   "execution_count": 44,
   "id": "5b97d9d6-38fd-4b57-810f-d8b7c0f4a18a",
   "metadata": {},
   "outputs": [
    {
     "name": "stdout",
     "output_type": "stream",
     "text": [
      "Today's date: 2023-11-08 19:33:16.195273\n",
      "Date after 15 days: 2023-11-23 19:33:16.195273\n",
      "Date from two weeks ago: 2023-10-25 19:33:16.195273\n"
     ]
    }
   ],
   "source": [
    "from datetime import datetime\n",
    "\n",
    "#Get current time\n",
    "now = datetime.now()\n",
    "print(\"Today's date:\", str(now))\n",
    "\n",
    "#add 15 days to the current date\n",
    "future_date_after_15days = now + timedelta(days=15)\n",
    "print(\"Date after 15 days:\", future_date_after_15days)\n",
    "\n",
    "#substract 2 weeks from the current date\n",
    "two_weeks_ago = now - timedelta(weeks=2)\n",
    "print(\"Date from two weeks ago:\", two_weeks_ago)"
   ]
  },
  {
   "cell_type": "code",
   "execution_count": 45,
   "id": "ed424826-70e8-4e60-84dd-7a2921715a10",
   "metadata": {},
   "outputs": [
    {
     "name": "stdout",
     "output_type": "stream",
     "text": [
      "Difference: 127\n"
     ]
    }
   ],
   "source": [
    "from datetime import date\n",
    "\n",
    "#create two dates\n",
    "date1 = date(2008, 8, 18)\n",
    "date2 = date(2008, 12, 23)\n",
    "\n",
    "#difference between the two dates\n",
    "delta = date2 - date1\n",
    "print(\"Difference:\", delta.days)"
   ]
  },
  {
   "cell_type": "code",
   "execution_count": 46,
   "id": "a8163d0a-e07d-4872-8f48-afb7aed5493b",
   "metadata": {},
   "outputs": [
    {
     "name": "stdout",
     "output_type": "stream",
     "text": [
      "Difference:  36 days, 10:04:20\n"
     ]
    }
   ],
   "source": [
    "# import datetime\n",
    "from datetime import datetime\n",
    "# create two dates with year, month, day, hour, minute, and second\n",
    "date1 = datetime(2017, 6, 21, 18, 25, 30)\n",
    "date2 = datetime(2017, 5, 16, 8, 21, 10)\n",
    "\n",
    "# Difference between two dates\n",
    "diff = date1-date2\n",
    "print(\"Difference: \", diff)"
   ]
  },
  {
   "cell_type": "code",
   "execution_count": 47,
   "id": "4ca0c76d-f4a2-4768-9ce2-94295a9be547",
   "metadata": {},
   "outputs": [
    {
     "name": "stdout",
     "output_type": "stream",
     "text": [
      "date_object:  2019-08-01 00:00:00\n"
     ]
    }
   ],
   "source": [
    "# import datetime\n",
    "from datetime import datetime\n",
    "date_string = \"1 August, 2019\"\n",
    "\n",
    "# format date\n",
    "date_object = datetime.strptime(date_string, \"%d %B, %Y\")\n",
    "\n",
    "print(\"date_object: \", date_object)"
   ]
  },
  {
   "cell_type": "code",
   "execution_count": 52,
   "id": "13db2800-1097-4757-b296-986ff3bc4886",
   "metadata": {},
   "outputs": [
    {
     "name": "stdout",
     "output_type": "stream",
     "text": [
      "2011-11-02 07:27:00-04:00\n",
      "2011-11-02 16:57:00+05:30\n",
      "2011-11-02 22:27:00+11:00\n"
     ]
    }
   ],
   "source": [
    "# import timezone from pytz module\n",
    "from pytz import timezone\n",
    "# Create timezone US/Eastern\n",
    "east = timezone('US/Eastern')\n",
    "# Localize date\n",
    "loc_dt = east.localize(datetime(2011, 11, 2, 7, 27, 0))\n",
    "print(loc_dt)\n",
    "\n",
    "# Convert localized date into Asia/Kolkata timezone\n",
    "kolkata = timezone(\"Asia/Kolkata\")\n",
    "print(loc_dt.astimezone(kolkata))\n",
    "\n",
    "# Convert localized date into Australia/Sydney timezone\n",
    "au_tz = timezone('Australia/Sydney')\n",
    "print(loc_dt.astimezone(au_tz))"
   ]
  },
  {
   "cell_type": "code",
   "execution_count": 56,
   "id": "be882860-31e0-4893-bd9a-607a1674b2c0",
   "metadata": {},
   "outputs": [
    {
     "name": "stdout",
     "output_type": "stream",
     "text": [
      "1989-09-02 08:30:00\n"
     ]
    }
   ],
   "source": [
    "import pandas as pd\n",
    "\n",
    "date = pd.to_datetime(\"2nd of Sep, 1989, 8:30am\")\n",
    "print(date)"
   ]
  },
  {
   "cell_type": "code",
   "execution_count": 62,
   "id": "64cfb25c-4b8b-4a3f-83c0-f82be52333e7",
   "metadata": {},
   "outputs": [
    {
     "ename": "NameError",
     "evalue": "name 'np' is not defined",
     "output_type": "error",
     "traceback": [
      "\u001b[0;31m---------------------------------------------------------------------------\u001b[0m",
      "\u001b[0;31mNameError\u001b[0m                                 Traceback (most recent call last)",
      "Cell \u001b[0;32mIn[62], line 2\u001b[0m\n\u001b[1;32m      1\u001b[0m \u001b[38;5;66;03m# Create date series using numpy and to_timedelta() function\u001b[39;00m\n\u001b[0;32m----> 2\u001b[0m date_series \u001b[38;5;241m=\u001b[39m date \u001b[38;5;241m+\u001b[39m pd\u001b[38;5;241m.\u001b[39mto_timedelta(\u001b[43mnp\u001b[49m\u001b[38;5;241m.\u001b[39marange(\u001b[38;5;241m12\u001b[39m), \u001b[38;5;124m'\u001b[39m\u001b[38;5;124mD\u001b[39m\u001b[38;5;124m'\u001b[39m)\n\u001b[1;32m      3\u001b[0m \u001b[38;5;28mprint\u001b[39m(date_series)\n\u001b[1;32m      5\u001b[0m \u001b[38;5;66;03m# Create date series using date_range() function\u001b[39;00m\n",
      "\u001b[0;31mNameError\u001b[0m: name 'np' is not defined"
     ]
    }
   ],
   "source": [
    "# Create date series using numpy and to_timedelta() function\n",
    "date_series = date + pd.to_timedelta(np.arange(12), 'D')\n",
    "print(date_series)\n",
    "\n",
    "# Create date series using date_range() function\n",
    "date_series = pd.date_range('08/10/2019', periods = 12, freq ='D')\n",
    "print(date_series)"
   ]
  },
  {
   "cell_type": "code",
   "execution_count": 63,
   "id": "d32d3114-2970-4b8c-ba3c-e5c30d182cd2",
   "metadata": {},
   "outputs": [
    {
     "name": "stdout",
     "output_type": "stream",
     "text": [
      "2023-11-08 19:58:51.269841\n"
     ]
    }
   ],
   "source": [
    "#Get current datetime\n",
    "\n",
    "import datetime\n",
    "\n",
    "now = datetime.datetime.now()\n",
    "\n",
    "print(now)"
   ]
  },
  {
   "cell_type": "code",
   "execution_count": 66,
   "id": "81c756f8-2096-45a5-a415-c6a9525e8b4d",
   "metadata": {},
   "outputs": [
    {
     "name": "stdout",
     "output_type": "stream",
     "text": [
      "2023-11-09\n"
     ]
    }
   ],
   "source": [
    "# Get current date\n",
    "\n",
    "import datetime\n",
    "\n",
    "today = datetime.date.today()\n",
    "\n",
    "print(today)"
   ]
  },
  {
   "cell_type": "code",
   "execution_count": 67,
   "id": "5d245839-d7b9-4f8c-81ec-1d90ec77f6f8",
   "metadata": {},
   "outputs": [
    {
     "name": "stdout",
     "output_type": "stream",
     "text": [
      "['MAXYEAR', 'MINYEAR', '__all__', '__builtins__', '__cached__', '__doc__', '__file__', '__loader__', '__name__', '__package__', '__spec__', 'date', 'datetime', 'datetime_CAPI', 'sys', 'time', 'timedelta', 'timezone', 'tzinfo']\n"
     ]
    }
   ],
   "source": [
    "#get attributes from module\n",
    "\n",
    "import datetime\n",
    "\n",
    "print(dir(datetime))"
   ]
  },
  {
   "cell_type": "code",
   "execution_count": 69,
   "id": "fd2bde43-cca7-4b5f-957d-f83932e1f479",
   "metadata": {},
   "outputs": [
    {
     "name": "stdout",
     "output_type": "stream",
     "text": [
      "1980-09-02\n"
     ]
    }
   ],
   "source": [
    "import datetime\n",
    "\n",
    "date = datetime.date(1980, 9, 2)\n",
    "\n",
    "print(date)"
   ]
  },
  {
   "cell_type": "code",
   "execution_count": 70,
   "id": "01aa5899-86ca-47f1-b10b-fad3db80e234",
   "metadata": {},
   "outputs": [
    {
     "name": "stdout",
     "output_type": "stream",
     "text": [
      "2023-11-09\n"
     ]
    }
   ],
   "source": [
    "from datetime import date\n",
    "\n",
    "today = date.today()\n",
    "\n",
    "print(today)"
   ]
  },
  {
   "cell_type": "code",
   "execution_count": 74,
   "id": "c30ddc46-d8ef-40e8-8ab2-80f96a8683de",
   "metadata": {},
   "outputs": [
    {
     "name": "stdout",
     "output_type": "stream",
     "text": [
      "Current Year: 2023\n",
      "Current Month: 11\n",
      "Current day: 9\n"
     ]
    }
   ],
   "source": [
    "from datetime import date\n",
    "\n",
    "today = date.today()\n",
    "\n",
    "print('Current Year:', today.year)\n",
    "print('Current Month:', today.month)\n",
    "print('Current day:', today.day)"
   ]
  },
  {
   "cell_type": "code",
   "execution_count": 76,
   "id": "2a271444-40e1-4005-9312-26fc4b9a2812",
   "metadata": {},
   "outputs": [
    {
     "name": "stdout",
     "output_type": "stream",
     "text": [
      "00:00:00\n",
      "05:19:30\n",
      "10:34:56\n"
     ]
    }
   ],
   "source": [
    "from datetime import time\n",
    "\n",
    "a = time()\n",
    "print(a)\n",
    "\n",
    "b = time(5, 19, 30)\n",
    "print(b)\n",
    "\n",
    "c = time(hour = 10, minute = 34, second = 56)\n",
    "print(c)"
   ]
  },
  {
   "cell_type": "code",
   "execution_count": 78,
   "id": "513a7123-f167-46cc-be25-886533d37c66",
   "metadata": {},
   "outputs": [
    {
     "name": "stdout",
     "output_type": "stream",
     "text": [
      "2023-11-09 17:21:30\n"
     ]
    }
   ],
   "source": [
    "from datetime import datetime\n",
    "\n",
    "a = datetime(2023, 11, 9, 17, 21, 30)\n",
    "\n",
    "print(a)"
   ]
  },
  {
   "cell_type": "code",
   "execution_count": null,
   "id": "f7ed669b-c4ec-4f0e-b902-84d080a4ff73",
   "metadata": {},
   "outputs": [],
   "source": []
  }
 ],
 "metadata": {
  "kernelspec": {
   "display_name": "lighthouse_env",
   "language": "python",
   "name": "lighthouse_env"
  },
  "language_info": {
   "codemirror_mode": {
    "name": "ipython",
    "version": 3
   },
   "file_extension": ".py",
   "mimetype": "text/x-python",
   "name": "python",
   "nbconvert_exporter": "python",
   "pygments_lexer": "ipython3",
   "version": "3.9.18"
  }
 },
 "nbformat": 4,
 "nbformat_minor": 5
}
