{
 "cells": [
  {
   "cell_type": "code",
   "execution_count": 5,
   "id": "a1007c6d-809c-49ee-ab18-9f836a6d7d3c",
   "metadata": {},
   "outputs": [
    {
     "name": "stdout",
     "output_type": "stream",
     "text": [
      "Hello Alice, it's great to see you!\n",
      "How have you been doing, Alice?\n",
      "We should catch up soon, Alice!\n",
      "\n",
      "Hello Bob, it's great to see you!\n",
      "How have you been doing, Bob?\n",
      "We should catch up soon, Bob!\n",
      "\n",
      "Hello Charlie, it's great to see you!\n",
      "How have you been doing, Charlie?\n",
      "We should catch up soon, Charlie!\n",
      "\n"
     ]
    }
   ],
   "source": [
    "def greet(name):\n",
    "    print(f\"Hello {name}, it's great to see you!\")\n",
    "    print(f\"How have you been doing, {name}?\")\n",
    "    print(f\"We should catch up soon, {name}!\\n\")\n",
    "\n",
    "people = [\"Alice\", \"Bob\", \"Charlie\"]\n",
    "\n",
    "for person in people:\n",
    "    greet(person)"
   ]
  },
  {
   "cell_type": "code",
   "execution_count": null,
   "id": "53f14546-ef8e-4f47-99e5-21777644965a",
   "metadata": {},
   "outputs": [],
   "source": []
  }
 ],
 "metadata": {
  "kernelspec": {
   "display_name": "Python 3 (ipykernel)",
   "language": "python",
   "name": "python3"
  },
  "language_info": {
   "codemirror_mode": {
    "name": "ipython",
    "version": 3
   },
   "file_extension": ".py",
   "mimetype": "text/x-python",
   "name": "python",
   "nbconvert_exporter": "python",
   "pygments_lexer": "ipython3",
   "version": "3.8.18"
  }
 },
 "nbformat": 4,
 "nbformat_minor": 5
}
