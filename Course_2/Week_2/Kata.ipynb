{
 "cells": [
  {
   "cell_type": "markdown",
   "id": "7de63c3a-7626-4613-be8b-72e959a9ff2a",
   "metadata": {},
   "source": [
    "# Katas"
   ]
  },
  {
   "cell_type": "markdown",
   "id": "0b6a90c5-45ec-4a43-b7df-99bde8852a01",
   "metadata": {},
   "source": [
    "## Kata 1 - Sum the Largest Numbers"
   ]
  },
  {
   "cell_type": "code",
   "execution_count": 26,
   "id": "cba7f419-1930-4df0-a66e-02d3bc191fd0",
   "metadata": {},
   "outputs": [],
   "source": [
    "def sumLargestNumbers(numbers):\n",
    "    two_largest = sorted(numbers)[-2:]\n",
    "    sum_two_largest = sum(two_largest)\n",
    "    return sum_two_largest\n"
   ]
  },
  {
   "cell_type": "code",
   "execution_count": 27,
   "id": "fbe8f88b-1c2b-4a65-92d8-e4139637105b",
   "metadata": {},
   "outputs": [
    {
     "name": "stdout",
     "output_type": "stream",
     "text": [
      "11\n",
      "5\n",
      "126\n"
     ]
    }
   ],
   "source": [
    "print(sumLargestNumbers([1, 10]))\n",
    "print(sumLargestNumbers([1, 2, 3]))\n",
    "print(sumLargestNumbers([10, 4, 34, 6, 92, 2]))"
   ]
  },
  {
   "cell_type": "code",
   "execution_count": 28,
   "id": "ab695fc0-3ec8-4a00-972b-2a4e53c4d251",
   "metadata": {},
   "outputs": [
    {
     "data": {
      "text/plain": [
       "int"
      ]
     },
     "execution_count": 28,
     "metadata": {},
     "output_type": "execute_result"
    }
   ],
   "source": [
    "type(sumLargestNumbers([1, 10]))"
   ]
  },
  {
   "cell_type": "markdown",
   "id": "60fc35ed-bd43-4512-903d-dc2eaff4dcfc",
   "metadata": {},
   "source": [
    "## Kata 2 - Conditional SUMs"
   ]
  },
  {
   "cell_type": "code",
   "execution_count": 29,
   "id": "200191e3-0414-40b7-9d9c-0c242f13aa1a",
   "metadata": {},
   "outputs": [],
   "source": [
    "def conditionalSum(values, condition):\n",
    "    \"\"\"\n",
    "    Calculate the sum of the numbers in a list depending on the condition \"even\" or \"odd\".\n",
    "    If \"even\", it only calculates the even numbers to the sum and if \"odd\", it only adds\n",
    "    the odd numbers to the sum.\n",
    "    \n",
    "    Args:\n",
    "        - numbers (list): A list of numbers.\n",
    "        - string: \"even\" or \"odd\"\n",
    "    \n",
    "    Returns:\n",
    "        int: The SUM of the numbers.\n",
    "    \"\"\"\n",
    "    sum_ = 0 #set the sum to 0\n",
    "    for value in values: #loop that checks the condition\n",
    "        if condition == \"even\" and value % 2 == 0:\n",
    "            sum_ += value #if true, add value to sum\n",
    "        elif condition == \"odd\" and value % 2 != 0:\n",
    "            sum_ += value #if true, add value to sum\n",
    "    return sum_\n",
    "        "
   ]
  },
  {
   "cell_type": "code",
   "execution_count": 30,
   "id": "367027fe-a0ea-43d0-b5a4-33dba67df59e",
   "metadata": {},
   "outputs": [
    {
     "name": "stdout",
     "output_type": "stream",
     "text": [
      "6\n",
      "9\n",
      "144\n",
      "0\n"
     ]
    }
   ],
   "source": [
    "print(conditionalSum([1, 2, 3, 4, 5], \"even\"))\n",
    "print(conditionalSum([1, 2, 3, 4, 5], \"odd\"))\n",
    "print(conditionalSum([13, 88, 12, 44, 99], \"even\"))\n",
    "print(conditionalSum([], \"odd\"))"
   ]
  },
  {
   "cell_type": "markdown",
   "id": "61335c0a-bbb3-4357-831b-5cdfd99682df",
   "metadata": {},
   "source": [
    "## Kata 3 - Vowels"
   ]
  },
  {
   "cell_type": "code",
   "execution_count": 48,
   "id": "ee2de48d-caa3-4af9-8a42-f7ba085c1f8f",
   "metadata": {},
   "outputs": [],
   "source": [
    "def numberOfVowels(data):\n",
    "    \"\"\"\n",
    "    Receives a string and return the number of vowels in that string.\n",
    "    \n",
    "    Args:\n",
    "        - string: Any word or phrase.\n",
    "    \n",
    "    Returns:\n",
    "        int: The total number of vowels in the string.\n",
    "    \"\"\"\n",
    "    sum_ = 0 #set the sum to start at 0\n",
    "    vowels = ['a', 'e', 'i', 'o', 'u', 'y'] #delcare all of our vowels.\n",
    "    for char in data: #checks every character in the string to see if it matches any of our vowels.\n",
    "        if char in vowels:\n",
    "            sum_ += 1 #if true, id adds 1 to our sum.\n",
    "    return sum_ #returns the total number of vowels that were identified"
   ]
  },
  {
   "cell_type": "code",
   "execution_count": 49,
   "id": "5eefa4b0-d1c1-4f89-8154-5fb86ac28c3c",
   "metadata": {},
   "outputs": [
    {
     "name": "stdout",
     "output_type": "stream",
     "text": [
      "3\n",
      "5\n",
      "5\n"
     ]
    }
   ],
   "source": [
    "print(numberOfVowels(\"orange\"))\n",
    "print(numberOfVowels(\"lighthouse labs\"))\n",
    "print(numberOfVowels(\"aeiou\"))"
   ]
  },
  {
   "cell_type": "markdown",
   "id": "d9bd2fdf-a0ad-43f0-b191-5cbd012efe12",
   "metadata": {},
   "source": [
    "## Kata 4 - Instructors Names"
   ]
  },
  {
   "cell_type": "code",
   "execution_count": null,
   "id": "4caf8306-6620-4b79-b7c0-e11227830d3c",
   "metadata": {},
   "outputs": [],
   "source": []
  }
 ],
 "metadata": {
  "kernelspec": {
   "display_name": "lighthouse_env",
   "language": "python",
   "name": "lighthouse_env"
  },
  "language_info": {
   "codemirror_mode": {
    "name": "ipython",
    "version": 3
   },
   "file_extension": ".py",
   "mimetype": "text/x-python",
   "name": "python",
   "nbconvert_exporter": "python",
   "pygments_lexer": "ipython3",
   "version": "3.9.18"
  }
 },
 "nbformat": 4,
 "nbformat_minor": 5
}
