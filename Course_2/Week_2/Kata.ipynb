{
 "cells": [
  {
   "cell_type": "markdown",
   "id": "7de63c3a-7626-4613-be8b-72e959a9ff2a",
   "metadata": {},
   "source": [
    "# Katas"
   ]
  },
  {
   "cell_type": "markdown",
   "id": "0b6a90c5-45ec-4a43-b7df-99bde8852a01",
   "metadata": {},
   "source": [
    "## Kata 1 - Sum the Largest Numbers\n"
   ]
  },
  {
   "cell_type": "code",
   "execution_count": 63,
   "id": "cba7f419-1930-4df0-a66e-02d3bc191fd0",
   "metadata": {},
   "outputs": [],
   "source": [
    "def sumLargestNumbers(numbers):\n",
    "    two_largest = sorted(numbers)[-2:]\n",
    "    sum_two_largest = sum(two_largest)\n",
    "    return sum_two_largest\n"
   ]
  },
  {
   "cell_type": "code",
   "execution_count": 27,
   "id": "fbe8f88b-1c2b-4a65-92d8-e4139637105b",
   "metadata": {},
   "outputs": [
    {
     "name": "stdout",
     "output_type": "stream",
     "text": [
      "11\n",
      "5\n",
      "126\n"
     ]
    }
   ],
   "source": [
    "print(sumLargestNumbers([1, 10]))\n",
    "print(sumLargestNumbers([1, 2, 3]))\n",
    "print(sumLargestNumbers([10, 4, 34, 6, 92, 2]))"
   ]
  },
  {
   "cell_type": "code",
   "execution_count": 28,
   "id": "ab695fc0-3ec8-4a00-972b-2a4e53c4d251",
   "metadata": {},
   "outputs": [
    {
     "data": {
      "text/plain": [
       "int"
      ]
     },
     "execution_count": 28,
     "metadata": {},
     "output_type": "execute_result"
    }
   ],
   "source": [
    "type(sumLargestNumbers([1, 10]))"
   ]
  },
  {
   "cell_type": "markdown",
   "id": "60fc35ed-bd43-4512-903d-dc2eaff4dcfc",
   "metadata": {
    "jp-MarkdownHeadingCollapsed": true
   },
   "source": [
    "## Kata 2 - Conditional SUMs"
   ]
  },
  {
   "cell_type": "code",
   "execution_count": 29,
   "id": "200191e3-0414-40b7-9d9c-0c242f13aa1a",
   "metadata": {},
   "outputs": [],
   "source": [
    "def conditionalSum(values, condition):\n",
    "    \"\"\"\n",
    "    Calculate the sum of the numbers in a list depending on the condition \"even\" or \"odd\".\n",
    "    If \"even\", it only calculates the even numbers to the sum and if \"odd\", it only adds\n",
    "    the odd numbers to the sum.\n",
    "    \n",
    "    Args:\n",
    "        - numbers (list): A list of numbers.\n",
    "        - string: \"even\" or \"odd\"\n",
    "    \n",
    "    Returns:\n",
    "        int: The SUM of the numbers.\n",
    "    \"\"\"\n",
    "    sum_ = 0 #set the sum to 0\n",
    "    for value in values: #loop that checks the condition\n",
    "        if condition == \"even\" and value % 2 == 0:\n",
    "            sum_ += value #if true, add value to sum\n",
    "        elif condition == \"odd\" and value % 2 != 0:\n",
    "            sum_ += value #if true, add value to sum\n",
    "    return sum_\n",
    "        "
   ]
  },
  {
   "cell_type": "code",
   "execution_count": 30,
   "id": "367027fe-a0ea-43d0-b5a4-33dba67df59e",
   "metadata": {},
   "outputs": [
    {
     "name": "stdout",
     "output_type": "stream",
     "text": [
      "6\n",
      "9\n",
      "144\n",
      "0\n"
     ]
    }
   ],
   "source": [
    "print(conditionalSum([1, 2, 3, 4, 5], \"even\"))\n",
    "print(conditionalSum([1, 2, 3, 4, 5], \"odd\"))\n",
    "print(conditionalSum([13, 88, 12, 44, 99], \"even\"))\n",
    "print(conditionalSum([], \"odd\"))"
   ]
  },
  {
   "cell_type": "markdown",
   "id": "61335c0a-bbb3-4357-831b-5cdfd99682df",
   "metadata": {},
   "source": [
    "## Kata 3 - Vowels"
   ]
  },
  {
   "cell_type": "code",
   "execution_count": 48,
   "id": "ee2de48d-caa3-4af9-8a42-f7ba085c1f8f",
   "metadata": {},
   "outputs": [],
   "source": [
    "def numberOfVowels(data):\n",
    "    \"\"\"\n",
    "    Receives a string and return the number of vowels in that string.\n",
    "    \n",
    "    Args:\n",
    "        - string: Any word or phrase.\n",
    "    \n",
    "    Returns:\n",
    "        int: The total number of vowels in the string.\n",
    "    \"\"\"\n",
    "    sum_ = 0 #set the sum to start at 0\n",
    "    vowels = ['a', 'e', 'i', 'o', 'u', 'y'] #delcare all of our vowels.\n",
    "    for char in data: #checks every character in the string to see if it matches any of our vowels.\n",
    "        if char in vowels:\n",
    "            sum_ += 1 #if true, id adds 1 to our sum.\n",
    "    return sum_ #returns the total number of vowels that were identified"
   ]
  },
  {
   "cell_type": "code",
   "execution_count": 49,
   "id": "5eefa4b0-d1c1-4f89-8154-5fb86ac28c3c",
   "metadata": {},
   "outputs": [
    {
     "name": "stdout",
     "output_type": "stream",
     "text": [
      "3\n",
      "5\n",
      "5\n"
     ]
    }
   ],
   "source": [
    "print(numberOfVowels(\"orange\"))\n",
    "print(numberOfVowels(\"lighthouse labs\"))\n",
    "print(numberOfVowels(\"aeiou\"))"
   ]
  },
  {
   "cell_type": "markdown",
   "id": "d9bd2fdf-a0ad-43f0-b191-5cbd012efe12",
   "metadata": {},
   "source": [
    "## Kata 4 - Instructors Names"
   ]
  },
  {
   "cell_type": "code",
   "execution_count": 64,
   "id": "4caf8306-6620-4b79-b7c0-e11227830d3c",
   "metadata": {},
   "outputs": [],
   "source": [
    "def instructorWithLongestName(instructors):\n",
    "    \"\"\"\n",
    "    Receives a dictionary of instructor names and the courses they teach, then returns\n",
    "    the dictionary item of the instructor with the longest name.\n",
    "    \n",
    "    Args:\n",
    "        - dictionary: a dictionary of instructor names and the courses they teach.\n",
    "    \n",
    "    Returns:\n",
    "        dictionary item: The name and course of the instructor with the longest name.\n",
    "    \"\"\"\n",
    "    longest_name = \"\" #Set an empty string to hold the instructor name.\n",
    "    instructor_with_longest_name = {} #set an empty dictionary to hold the dict item.\n",
    "\n",
    "    for instructor in instructors:\n",
    "        if len(instructor[\"name\"]) > len(longest_name): #loops and checks if the length of the name is longer than the previous longest name.\n",
    "            longest_name = instructor[\"name\"] # if larger, updates the string with the new longest name.\n",
    "            instructor_with_longest_name = instructor # if larger, updates the dict with the new item with longest name.\n",
    "\n",
    "    return instructor_with_longest_name"
   ]
  },
  {
   "cell_type": "code",
   "execution_count": 65,
   "id": "cda33af1-fe7a-4abb-8a0b-37537af3e32a",
   "metadata": {},
   "outputs": [
    {
     "name": "stdout",
     "output_type": "stream",
     "text": [
      "{'name': 'Jeremiah', 'course': 'Data'}\n",
      "{'name': 'Domascus', 'course': 'Web'}\n"
     ]
    }
   ],
   "source": [
    "print(instructorWithLongestName([\n",
    "  {\"name\": \"Samuel\", \"course\": \"iOS\"},\n",
    "  {\"name\": \"Jeremiah\", \"course\": \"Data\"},\n",
    "  {\"name\": \"Ophilia\", \"course\": \"Web\"},\n",
    "  {\"name\": \"Donald\", \"course\": \"Web\"}\n",
    "]))\n",
    "print(instructorWithLongestName([\n",
    "  {\"name\": \"Matthew\", \"course\": \"Data\"},\n",
    "  {\"name\": \"David\", \"course\": \"iOS\"},\n",
    "  {\"name\": \"Domascus\", \"course\": \"Web\"}\n",
    "]))"
   ]
  },
  {
   "cell_type": "markdown",
   "id": "5530327d-ccdc-4c91-ad73-7215028b323c",
   "metadata": {},
   "source": [
    "## Kata 5 - Percent Encoding"
   ]
  },
  {
   "cell_type": "code",
   "execution_count": 108,
   "id": "d268a83f-49c2-4d1b-81a4-f73f88a847a4",
   "metadata": {},
   "outputs": [],
   "source": [
    "def url_encode(text):\n",
    "    \"\"\"\n",
    "    Receives a phrase in the form of a string and replaces the whitespaces with \"%20\" in order\n",
    "    to turn the string into a url.\n",
    "    \n",
    "    Args:\n",
    "        string: Any phrase.\n",
    "    \n",
    "    Returns:\n",
    "        string: The modified string without any whitepsace and with \"%20\".\n",
    "    \"\"\"\n",
    "    text2 = text.strip() # This removes all the leading and tailing whitespaces.\n",
    "    for char in text2:\n",
    "        new_url = text2.replace(\" \", \"%20\",) # Replaces the remaining whitespaces with \"%20\".\n",
    "        return new_url"
   ]
  },
  {
   "cell_type": "code",
   "execution_count": 109,
   "id": "9fa76cfa-a3a3-4925-a8c4-cd8944cae057",
   "metadata": {},
   "outputs": [
    {
     "name": "stdout",
     "output_type": "stream",
     "text": [
      "Lighthouse%20Labs\n",
      "Lighthouse%20Labs\n",
      "blue%20is%20greener%20than%20purple%20for%20sure\n"
     ]
    }
   ],
   "source": [
    "print(url_encode(\"Lighthouse Labs\"))\n",
    "print(url_encode(\" Lighthouse Labs  \"))\n",
    "print(url_encode(\"blue is greener than purple for sure\"))"
   ]
  },
  {
   "cell_type": "markdown",
   "id": "d09f4650-e2e0-433a-ab91-99a4f546407f",
   "metadata": {},
   "source": [
    "## Kata 5 - SmartParking"
   ]
  },
  {
   "cell_type": "code",
   "execution_count": 115,
   "id": "73724cf2-8711-4cfa-8a44-1888c0f81c70",
   "metadata": {},
   "outputs": [],
   "source": [
    "def whereCanIPark(spots, vehicle):\n",
    "    \"\"\"\n",
    "    Receives a list of parking spots and a vehicle type and then returns the first available spot in the parking matrix.\n",
    "    \n",
    "    Args:\n",
    "        - List: List of parking spots.\n",
    "        - string: vehicle type.\n",
    "    \n",
    "    Returns:\n",
    "        list: Returns a list with the coordinates of the spot as an [X, Y] pair.\n",
    "    \"\"\"\n",
    "\n",
    "    # Which spots are available for each vehicle type.\n",
    "    available_spots = {\n",
    "        'regular': ['R'],\n",
    "        'small': ['R', 'S'],\n",
    "        'motorcycle': ['R', 'S', 'M']\n",
    "    }\n",
    "\n",
    "    # Get list of avaialable spots and makes sure to only check for lowercase spots, which means they are available.\n",
    "    vehicle_spots = available_spots[vehicle.lower()]\n",
    "\n",
    "    for y in range(len(spots)):\n",
    "        # Iterate through each spot in the row (X coordinate)\n",
    "        for x in range(len(spots[y])):\n",
    "            # If the spot is available for the vehicle, return its coordinates\n",
    "            if spots[y][x] in vehicle_spots:\n",
    "                return [x, y]\n",
    "\n",
    "    # If no spots are available, return False\n",
    "    return False\n",
    "\n",
    "\n",
    "    "
   ]
  },
  {
   "cell_type": "code",
   "execution_count": 116,
   "id": "f5eb4b6f-3fdc-4f8b-b301-76b98572f490",
   "metadata": {},
   "outputs": [
    {
     "name": "stdout",
     "output_type": "stream",
     "text": [
      "[4, 0]\n",
      "False\n",
      "[3, 1]\n"
     ]
    }
   ],
   "source": [
    "print(whereCanIPark(\n",
    "  [\n",
    "    # COLUMNS ARE X\n",
    "    # 0    1    2    3    4    5\n",
    "    ['s', 's', 's', 'S', 'R', 'M'], # 0 ROWS ARE Y\n",
    "    ['s', 'M', 's', 'S', 'r', 'M'], # 1\n",
    "    ['s', 'M', 's', 'S', 'r', 'm'], # 2\n",
    "    ['S', 'r', 's', 'm', 'r', 'M'], # 3\n",
    "    ['S', 'r', 's', 'm', 'r', 'M'], # 4\n",
    "    ['S', 'r', 'S', 'M', 'M', 'S']  # 5\n",
    "  ],\n",
    "  'regular'\n",
    "))\n",
    "\n",
    "print(whereCanIPark(\n",
    "  [\n",
    "    ['M', 'M', 'M', 'M'],\n",
    "    ['M', 's', 'M', 'M'],\n",
    "    ['M', 'M', 'M', 'M'],\n",
    "    ['M', 'M', 'r', 'M']\n",
    "  ],\n",
    "  'small'\n",
    "))\n",
    "\n",
    "print(whereCanIPark(\n",
    "  [\n",
    "    ['s', 's', 's', 's', 's', 's'],\n",
    "    ['s', 'm', 's', 'S', 'r', 's'],\n",
    "    ['s', 'm', 's', 'S', 'r', 's'],\n",
    "    ['S', 'r', 's', 'm', 'r', 's'],\n",
    "    ['S', 'r', 's', 'm', 'R', 's'],\n",
    "    ['S', 'r', 'S', 'M', 'm', 'S']\n",
    "  ],\n",
    "  'motorcycle'\n",
    "))"
   ]
  },
  {
   "cell_type": "code",
   "execution_count": null,
   "id": "060756b8-54e2-4e8b-955e-6daa961c3b40",
   "metadata": {},
   "outputs": [],
   "source": []
  }
 ],
 "metadata": {
  "kernelspec": {
   "display_name": "lighthouse_env",
   "language": "python",
   "name": "lighthouse_env"
  },
  "language_info": {
   "codemirror_mode": {
    "name": "ipython",
    "version": 3
   },
   "file_extension": ".py",
   "mimetype": "text/x-python",
   "name": "python",
   "nbconvert_exporter": "python",
   "pygments_lexer": "ipython3",
   "version": "3.9.18"
  }
 },
 "nbformat": 4,
 "nbformat_minor": 5
}
