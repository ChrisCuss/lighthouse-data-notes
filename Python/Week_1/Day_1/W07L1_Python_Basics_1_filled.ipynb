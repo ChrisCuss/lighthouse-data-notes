{
 "cells": [
  {
   "cell_type": "markdown",
   "id": "721e8e09",
   "metadata": {
    "id": "721e8e09"
   },
   "source": [
    "# Lighthouse Labs\n",
    "## W07L1 Python Basics 1\n"
   ]
  },
  {
   "cell_type": "markdown",
   "id": "f3b9ef84",
   "metadata": {
    "id": "f3b9ef84"
   },
   "source": [
    "## Agenda\n",
    "\n",
    "In this notebook we will cover some of the basics of python. The topics we will cover listed below.\n",
    "- Syntax\n",
    "- Data Types\n",
    "- For Loops\n",
    "- While Loops\n",
    "- Control Flow (If and Else Statements)\n",
    "\n",
    "We're mainly going to focus on the core operations, the ones that you will use most often. There is much, much more that you can do with all of the different data types in Python.\n",
    "\n",
    "There's a lot here so it may seem pretty dry, but it will be useful for you going forward as a quick Python cheatsheet.\n"
   ]
  },
  {
   "cell_type": "markdown",
   "id": "c8d5f940",
   "metadata": {
    "id": "c8d5f940"
   },
   "source": [
    "### Whitespace\n",
    "- Python programs are organized with one statement per line.\n",
    "- Each statement occupies one line, and is separated by a line break\n",
    "- Some code blocks (loops, functions, etc) are created with indents\n"
   ]
  },
  {
   "cell_type": "markdown",
   "id": "d0076afb",
   "metadata": {
    "id": "d0076afb"
   },
   "source": [
    "#### Separating statements\n",
    "\n",
    "rust uses semicolons:\n",
    "```rust\n",
    "// addition\n",
    "add = 5 + 6;\n",
    "// subtraction\n",
    "sub = 1 - 2;\n",
    "```\n",
    "\n",
    "lisp uses parentheses:\n",
    "```lisp\n",
    ";addition\n",
    "(setq add (+ 5 6))\n",
    ";subtraction\n",
    "(setq sub (- 1 2))\n",
    "```\n",
    "\n",
    "python uses **line breaks**:\n",
    "```python\n",
    "# addition\n",
    "add = 5 + 6\n",
    "# subtraction\n",
    "sub = 1 - 2\n",
    "```\n",
    "\n",
    "```MySQL\n",
    "SELECT *\n",
    "FROM order_details\n",
    "```"
   ]
  },
  {
   "cell_type": "markdown",
   "id": "f7476cc8",
   "metadata": {
    "id": "f7476cc8",
    "jp-MarkdownHeadingCollapsed": true
   },
   "source": [
    "#### Code blocks/functions\n",
    "javascript uses braces (curly brackets):\n",
    "```javascript\n",
    "function mult(num1, num2) {\n",
    "  return num1 * num2;\n",
    "}\n",
    "```\n",
    "\n",
    "python uses **indents**:\n",
    "```python\n",
    "def mult(num1, num2):\n",
    "    return num1 * num2\n",
    "```"
   ]
  },
  {
   "cell_type": "markdown",
   "id": "55f2aa64",
   "metadata": {
    "id": "55f2aa64"
   },
   "source": [
    "### Variables\n",
    "\n",
    "- Variables are names that we give to objects.\n",
    "\n",
    "**Why use Variables?**\n",
    "- Helps organize our code\n",
    "- Store Data\n",
    "- Reuse data again and again"
   ]
  },
  {
   "cell_type": "code",
   "execution_count": null,
   "id": "b6f98cf0",
   "metadata": {
    "id": "b6f98cf0"
   },
   "outputs": [],
   "source": [
    "var_info = 'variables hold data. assign them with the = sign'"
   ]
  },
  {
   "cell_type": "markdown",
   "id": "c30a22ad",
   "metadata": {
    "id": "c30a22ad"
   },
   "source": [
    "### Built in Data Types - Values and Objects\n",
    "\n",
    "We will been working with values, which are pieces of data that a computer program works with, such as a number or text.\n",
    "We will assign a lot of these values to objects (variables) with the assignment operator `=`.\n",
    "These values will always belong to a data type\n",
    "\n",
    "\n",
    "Here are some data types built-in to the Python language:\n",
    "\n",
    "* Integers - `int`\n",
    "* Floating-point numbers - `float`\n",
    "* Strings - `str`\n",
    "* Booleans - `bool` - two values: True and False.\n",
    "* Lists - `list`\n",
    "* Tuples - `tuple`\n",
    "* Sets - `set`\n",
    "* Dictionaries - `dict`\n",
    "\n",
    "\n",
    "\n"
   ]
  },
  {
   "cell_type": "markdown",
   "id": "7863f294",
   "metadata": {
    "id": "7863f294"
   },
   "source": [
    "### Integers & Floats"
   ]
  },
  {
   "cell_type": "code",
   "execution_count": null,
   "id": "56fe21d7",
   "metadata": {
    "id": "56fe21d7"
   },
   "outputs": [],
   "source": [
    "a = 4"
   ]
  },
  {
   "cell_type": "code",
   "execution_count": null,
   "id": "dc736a8f",
   "metadata": {
    "id": "dc736a8f"
   },
   "outputs": [],
   "source": [
    "b = 4.0"
   ]
  },
  {
   "cell_type": "code",
   "execution_count": null,
   "id": "b3c89d8a",
   "metadata": {
    "id": "b3c89d8a"
   },
   "outputs": [],
   "source": [
    "# usethe type() function to check the type of an object\n",
    "type(5.765)"
   ]
  },
  {
   "cell_type": "markdown",
   "id": "0b0c5b2c",
   "metadata": {
    "id": "0b0c5b2c"
   },
   "source": [
    "### Arithmetic with variables"
   ]
  },
  {
   "cell_type": "code",
   "execution_count": null,
   "id": "0f7087ff",
   "metadata": {
    "editable": true,
    "id": "0f7087ff",
    "slideshow": {
     "slide_type": ""
    },
    "tags": []
   },
   "outputs": [],
   "source": [
    "a = -2\n",
    "b = 12.9\n",
    "\n",
    "# Arithmetic\n",
    "c = a + 1    # Arithmetic with literals and variables\n",
    "c = a + b    # Arithmetic with just variables\n",
    "c = c + a    # c becomes its old value + a\n",
    "c = a - b    # Subtraction\n",
    "c = a * b    # Multiplication\n",
    "c = b / a    # Division\n",
    "c = (a + b) * 2 - a    # Compound calculations - PEMDAS\n",
    "c = b // a   # floor division\n",
    "c = a ** b   # exponents\n",
    "\n",
    "# Functions on numbers\n",
    "c = round(8.187, 2)    # Round up to the second decimal point"
   ]
  },
  {
   "cell_type": "code",
   "execution_count": null,
   "id": "a66dec2c",
   "metadata": {},
   "outputs": [],
   "source": [
    "c"
   ]
  },
  {
   "cell_type": "code",
   "execution_count": null,
   "id": "52f10852",
   "metadata": {},
   "outputs": [],
   "source": [
    "13//2"
   ]
  },
  {
   "cell_type": "markdown",
   "id": "996dd237",
   "metadata": {
    "id": "996dd237"
   },
   "source": [
    "#### Type Casting ints and floats"
   ]
  },
  {
   "cell_type": "code",
   "execution_count": 1,
   "id": "63d07b45",
   "metadata": {
    "id": "63d07b45"
   },
   "outputs": [
    {
     "data": {
      "text/plain": [
       "float"
      ]
     },
     "execution_count": 1,
     "metadata": {},
     "output_type": "execute_result"
    }
   ],
   "source": [
    "# cast int to float\n",
    "type(float(4))"
   ]
  },
  {
   "cell_type": "code",
   "execution_count": 3,
   "id": "2815a057-5b4e-48cf-b08f-ff88ab9801dd",
   "metadata": {},
   "outputs": [
    {
     "data": {
      "text/plain": [
       "4.0"
      ]
     },
     "execution_count": 3,
     "metadata": {},
     "output_type": "execute_result"
    }
   ],
   "source": [
    "float(4)"
   ]
  },
  {
   "cell_type": "code",
   "execution_count": 4,
   "id": "c2041e61",
   "metadata": {},
   "outputs": [],
   "source": [
    "# cast float to int\n",
    "a = int(8.9)"
   ]
  },
  {
   "cell_type": "code",
   "execution_count": 5,
   "id": "04de0989-0160-4219-87c5-484e60344158",
   "metadata": {},
   "outputs": [
    {
     "data": {
      "text/plain": [
       "8"
      ]
     },
     "execution_count": 5,
     "metadata": {},
     "output_type": "execute_result"
    }
   ],
   "source": [
    "a"
   ]
  },
  {
   "cell_type": "markdown",
   "id": "8085d0da",
   "metadata": {
    "id": "8085d0da"
   },
   "source": [
    "### Strings"
   ]
  },
  {
   "cell_type": "code",
   "execution_count": null,
   "id": "282e99ef",
   "metadata": {},
   "outputs": [],
   "source": [
    "text = 'he said \"hello\"'"
   ]
  },
  {
   "cell_type": "code",
   "execution_count": null,
   "id": "6ca99dbf",
   "metadata": {},
   "outputs": [],
   "source": [
    "print(text)"
   ]
  },
  {
   "cell_type": "code",
   "execution_count": null,
   "id": "2532327b",
   "metadata": {},
   "outputs": [],
   "source": [
    "text = \"\"\"\n",
    "he\n",
    "said\n",
    "'hello'\n",
    "\"\"\""
   ]
  },
  {
   "cell_type": "code",
   "execution_count": null,
   "id": "f78f4c37",
   "metadata": {},
   "outputs": [],
   "source": [
    "print(text)"
   ]
  },
  {
   "cell_type": "code",
   "execution_count": 15,
   "id": "3f5d27bb",
   "metadata": {
    "colab": {
     "base_uri": "https://localhost:8080/"
    },
    "executionInfo": {
     "elapsed": 243,
     "status": "ok",
     "timestamp": 1690331022676,
     "user": {
      "displayName": "Alibek Kruglikov",
      "userId": "12107629968185180200"
     },
     "user_tz": 240
    },
    "id": "3f5d27bb",
    "outputId": "02c19a83-f722-4a97-c371-46733993630a"
   },
   "outputs": [
    {
     "name": "stdout",
     "output_type": "stream",
     "text": [
      "IMAGINATION is more important than knowledge, but not as important as learning to code\n"
     ]
    }
   ],
   "source": [
    "# Strings are a sequence of symbols in quotes\n",
    "# Without the quotes, Python tries to interpret text as variable names\n",
    "a = \"IMAGINATION is more important than knowledge\"\n",
    "\n",
    "\n",
    "# Strings can contain any symbols, not just letters\n",
    "b = 'The Meaning of Life is 42.'\n",
    "\n",
    "c = '''this\n",
    "is a\n",
    "multiline'''\n",
    "\n",
    "# single, double, triple single, and triple double quotes\n",
    "\n",
    "# Concatenation (combining)\n",
    "d = a + \", but not as important as learning to code\"\n",
    "\n",
    "\n",
    "# Functions on strings\n",
    "# Note: these functions don't change the original variables.\n",
    "# They return copies with the function applied\n",
    "e = b.upper()\n",
    "f = b.lower()\n",
    "g = c.capitalize()\n",
    "\n",
    "\n",
    "print(d)"
   ]
  },
  {
   "cell_type": "code",
   "execution_count": 6,
   "id": "3b1f25f1",
   "metadata": {},
   "outputs": [
    {
     "name": "stdout",
     "output_type": "stream",
     "text": [
      "Hello, my name is alibek. i am a data scientist\n"
     ]
    }
   ],
   "source": [
    "print('Hello, my name is Alibek. I am a Data Scientist'.capitalize())"
   ]
  },
  {
   "cell_type": "code",
   "execution_count": null,
   "id": "4bc52b56",
   "metadata": {},
   "outputs": [],
   "source": [
    "'Hello, my name is ' + 'Alibek' + '!'"
   ]
  },
  {
   "cell_type": "markdown",
   "id": "318f5756",
   "metadata": {
    "id": "318f5756"
   },
   "source": [
    "#### Type casting with strings"
   ]
  },
  {
   "cell_type": "code",
   "execution_count": 16,
   "id": "d88d0075",
   "metadata": {
    "id": "d88d0075"
   },
   "outputs": [
    {
     "data": {
      "text/plain": [
       "str"
      ]
     },
     "execution_count": 16,
     "metadata": {},
     "output_type": "execute_result"
    }
   ],
   "source": [
    "# anything can be cast TO a string, but not the other way around\n",
    "# cast a numeric type to a string\n",
    "type(str(9.45))"
   ]
  },
  {
   "cell_type": "code",
   "execution_count": 17,
   "id": "5d704ed7",
   "metadata": {},
   "outputs": [
    {
     "ename": "ValueError",
     "evalue": "invalid literal for int() with base 10: 'he is 90 year old'",
     "output_type": "error",
     "traceback": [
      "\u001b[0;31m---------------------------------------------------------------------------\u001b[0m",
      "\u001b[0;31mValueError\u001b[0m                                Traceback (most recent call last)",
      "Cell \u001b[0;32mIn[17], line 2\u001b[0m\n\u001b[1;32m      1\u001b[0m \u001b[38;5;66;03m# cast a string to a numeric type\u001b[39;00m\n\u001b[0;32m----> 2\u001b[0m \u001b[38;5;28;43mint\u001b[39;49m\u001b[43m(\u001b[49m\u001b[38;5;124;43m'\u001b[39;49m\u001b[38;5;124;43mhe is 90 year old\u001b[39;49m\u001b[38;5;124;43m'\u001b[39;49m\u001b[43m)\u001b[49m\n",
      "\u001b[0;31mValueError\u001b[0m: invalid literal for int() with base 10: 'he is 90 year old'"
     ]
    }
   ],
   "source": [
    "# cast a string to a numeric type\n",
    "int('he is 90 year old')"
   ]
  },
  {
   "cell_type": "markdown",
   "id": "3141cab4",
   "metadata": {
    "id": "3141cab4"
   },
   "source": [
    "***"
   ]
  },
  {
   "cell_type": "code",
   "execution_count": null,
   "id": "42aaa494",
   "metadata": {},
   "outputs": [],
   "source": [
    "len('he is 90 year old')"
   ]
  },
  {
   "cell_type": "markdown",
   "id": "d43abbee",
   "metadata": {
    "id": "d43abbee"
   },
   "source": [
    "## Advanced Data Types\n"
   ]
  },
  {
   "cell_type": "markdown",
   "id": "5bb9ec4f",
   "metadata": {
    "id": "5bb9ec4f"
   },
   "source": [
    "### Lists\n",
    "\n",
    "- **Mutable** and **ordered** sequence of objects\n",
    "- Can be indexed, sliced, and changed\n",
    "- Lists can be used for any type of object, from numbers and strings to more lists."
   ]
  },
  {
   "cell_type": "code",
   "execution_count": 19,
   "id": "8cf4cf8b",
   "metadata": {
    "id": "8cf4cf8b"
   },
   "outputs": [],
   "source": [
    "# Without lists, individual and unrelated variables\n",
    "# (imagine if you had hundreds of names)\n",
    "person1 = 'Mal'\n",
    "person2 = 'Zoe'\n",
    "person3 = 'Wash'\n",
    "person4 = 'Jayne'\n",
    "person5 = 'Kaylee'\n",
    "\n",
    "# Using lists, a data structure that contains many values\n",
    "people = ['Mal', 'Zoe', 'Wash', 'Jayne', 'Kaylee']\n",
    "\n",
    "# List creation\n",
    "empty_list = [] # brackets (square brackets)\n",
    "small_list = [2.3, 1.0] # List elements separated by commas\n"
   ]
  },
  {
   "cell_type": "code",
   "execution_count": 22,
   "id": "bc692232-75d5-44dd-9ac9-aed71d5e2aef",
   "metadata": {},
   "outputs": [
    {
     "data": {
      "text/plain": [
       "[2.3, 1.0]"
      ]
     },
     "execution_count": 22,
     "metadata": {},
     "output_type": "execute_result"
    }
   ],
   "source": [
    "small_list"
   ]
  },
  {
   "cell_type": "code",
   "execution_count": 24,
   "id": "feee18ba",
   "metadata": {
    "executionInfo": {
     "elapsed": 191,
     "status": "ok",
     "timestamp": 1694102247364,
     "user": {
      "displayName": "Alibek Kruglikov",
      "userId": "12107629968185180200"
     },
     "user_tz": 240
    },
    "id": "feee18ba"
   },
   "outputs": [],
   "source": [
    "large_animals = ['African Elephant', 'Asian Elephant', 'White Rhinoceros',\n",
    "                 'Hippopotamus', 'Gaur', 'Giraffe', 'Walrus', 'Black Rhinoceros',\n",
    "                 'Saltwater Crocodile', 'Water Buffalo']"
   ]
  },
  {
   "cell_type": "code",
   "execution_count": 30,
   "id": "f5ce53fe",
   "metadata": {
    "colab": {
     "base_uri": "https://localhost:8080/",
     "height": 35
    },
    "executionInfo": {
     "elapsed": 6,
     "status": "ok",
     "timestamp": 1690331594897,
     "user": {
      "displayName": "Alibek Kruglikov",
      "userId": "12107629968185180200"
     },
     "user_tz": 240
    },
    "id": "f5ce53fe",
    "outputId": "a187c206-0baa-4d43-9049-55104a07e473"
   },
   "outputs": [
    {
     "data": {
      "text/plain": [
       "'Saltwater Crocodile'"
      ]
     },
     "execution_count": 30,
     "metadata": {},
     "output_type": "execute_result"
    }
   ],
   "source": [
    "# Access elements in a list using index\n",
    "large_animals[8]"
   ]
  },
  {
   "cell_type": "code",
   "execution_count": 26,
   "id": "f-U_-f4xnyXg",
   "metadata": {
    "colab": {
     "base_uri": "https://localhost:8080/"
    },
    "executionInfo": {
     "elapsed": 135,
     "status": "ok",
     "timestamp": 1690331748959,
     "user": {
      "displayName": "Alibek Kruglikov",
      "userId": "12107629968185180200"
     },
     "user_tz": 240
    },
    "id": "f-U_-f4xnyXg",
    "outputId": "a8aade6a-0c62-43f6-ac06-8a20066f0cbd"
   },
   "outputs": [
    {
     "data": {
      "text/plain": [
       "4"
      ]
     },
     "execution_count": 26,
     "metadata": {},
     "output_type": "execute_result"
    }
   ],
   "source": [
    "# Finding index of an item in a list\n",
    "large_animals.index('Gaur')"
   ]
  },
  {
   "cell_type": "code",
   "execution_count": 28,
   "id": "d40a70d8-609e-4576-bbd7-5c6569179e92",
   "metadata": {},
   "outputs": [
    {
     "data": {
      "text/plain": [
       "10"
      ]
     },
     "execution_count": 28,
     "metadata": {},
     "output_type": "execute_result"
    }
   ],
   "source": [
    "len(large_animals)"
   ]
  },
  {
   "cell_type": "code",
   "execution_count": 27,
   "id": "60d3ccdf",
   "metadata": {
    "colab": {
     "base_uri": "https://localhost:8080/"
    },
    "executionInfo": {
     "elapsed": 4,
     "status": "ok",
     "timestamp": 1690331699248,
     "user": {
      "displayName": "Alibek Kruglikov",
      "userId": "12107629968185180200"
     },
     "user_tz": 240
    },
    "id": "60d3ccdf",
    "outputId": "604d38dc-d23c-43dd-c01f-cf2597661b58"
   },
   "outputs": [
    {
     "data": {
      "text/plain": [
       "['Saltwater Crocodile',\n",
       " 'Black Rhinoceros',\n",
       " 'Walrus',\n",
       " 'Giraffe',\n",
       " 'Gaur',\n",
       " 'Hippopotamus']"
      ]
     },
     "execution_count": 27,
     "metadata": {},
     "output_type": "execute_result"
    }
   ],
   "source": [
    "# Slicing [start:stop:step]\n",
    "large_animals[8:2:-1]"
   ]
  },
  {
   "cell_type": "code",
   "execution_count": 31,
   "id": "f7b7c16e",
   "metadata": {
    "id": "f7b7c16e"
   },
   "outputs": [],
   "source": [
    "# changing values\n",
    "large_animals[4] = 'Zebra'"
   ]
  },
  {
   "cell_type": "code",
   "execution_count": 32,
   "id": "fab0f2f9",
   "metadata": {},
   "outputs": [
    {
     "data": {
      "text/plain": [
       "['African Elephant',\n",
       " 'Asian Elephant',\n",
       " 'White Rhinoceros',\n",
       " 'Hippopotamus',\n",
       " 'Zebra',\n",
       " 'Giraffe',\n",
       " 'Walrus',\n",
       " 'Black Rhinoceros',\n",
       " 'Saltwater Crocodile',\n",
       " 'Water Buffalo']"
      ]
     },
     "execution_count": 32,
     "metadata": {},
     "output_type": "execute_result"
    }
   ],
   "source": [
    "large_animals"
   ]
  },
  {
   "cell_type": "code",
   "execution_count": 33,
   "id": "doz1IIYicrJ_",
   "metadata": {
    "executionInfo": {
     "elapsed": 163,
     "status": "ok",
     "timestamp": 1694103736948,
     "user": {
      "displayName": "Alibek Kruglikov",
      "userId": "12107629968185180200"
     },
     "user_tz": 240
    },
    "id": "doz1IIYicrJ_"
   },
   "outputs": [],
   "source": [
    "# changing values - be careful with slices\n",
    "large_animals[:3] = ['Emu', 'Emu', 'Emu']"
   ]
  },
  {
   "cell_type": "code",
   "execution_count": 34,
   "id": "14f10f4b",
   "metadata": {},
   "outputs": [],
   "source": [
    "large_animals = large_animals[::-1]"
   ]
  },
  {
   "cell_type": "code",
   "execution_count": 35,
   "id": "ba8a6f4b",
   "metadata": {},
   "outputs": [
    {
     "data": {
      "text/plain": [
       "['Water Buffalo',\n",
       " 'Saltwater Crocodile',\n",
       " 'Black Rhinoceros',\n",
       " 'Walrus',\n",
       " 'Giraffe',\n",
       " 'Zebra',\n",
       " 'Hippopotamus',\n",
       " 'Emu',\n",
       " 'Emu',\n",
       " 'Emu']"
      ]
     },
     "execution_count": 35,
     "metadata": {},
     "output_type": "execute_result"
    }
   ],
   "source": [
    "large_animals"
   ]
  },
  {
   "cell_type": "code",
   "execution_count": 36,
   "id": "e9c689a9",
   "metadata": {
    "id": "e9c689a9"
   },
   "outputs": [],
   "source": [
    "# deleting\n",
    "del large_animals[4]"
   ]
  },
  {
   "cell_type": "code",
   "execution_count": 37,
   "id": "1147db6a",
   "metadata": {},
   "outputs": [
    {
     "data": {
      "text/plain": [
       "['Water Buffalo',\n",
       " 'Saltwater Crocodile',\n",
       " 'Black Rhinoceros',\n",
       " 'Walrus',\n",
       " 'Zebra',\n",
       " 'Hippopotamus',\n",
       " 'Emu',\n",
       " 'Emu',\n",
       " 'Emu']"
      ]
     },
     "execution_count": 37,
     "metadata": {},
     "output_type": "execute_result"
    }
   ],
   "source": [
    "large_animals"
   ]
  },
  {
   "cell_type": "code",
   "execution_count": 38,
   "id": "b9d4cb27",
   "metadata": {
    "id": "b9d4cb27"
   },
   "outputs": [],
   "source": [
    "# extending via .append()\n",
    "large_animals.append('Zebra')"
   ]
  },
  {
   "cell_type": "code",
   "execution_count": 39,
   "id": "3416604d",
   "metadata": {},
   "outputs": [
    {
     "data": {
      "text/plain": [
       "['Water Buffalo',\n",
       " 'Saltwater Crocodile',\n",
       " 'Black Rhinoceros',\n",
       " 'Walrus',\n",
       " 'Zebra',\n",
       " 'Hippopotamus',\n",
       " 'Emu',\n",
       " 'Emu',\n",
       " 'Emu',\n",
       " 'Zebra']"
      ]
     },
     "execution_count": 39,
     "metadata": {},
     "output_type": "execute_result"
    }
   ],
   "source": [
    "large_animals"
   ]
  },
  {
   "cell_type": "code",
   "execution_count": 40,
   "id": "c14337da",
   "metadata": {
    "id": "c14337da"
   },
   "outputs": [],
   "source": [
    "# extending via concatenation\n",
    "large_animals = large_animals + ['Gaur', 'Gaur']"
   ]
  },
  {
   "cell_type": "code",
   "execution_count": 41,
   "id": "ecd0ff2b",
   "metadata": {},
   "outputs": [
    {
     "data": {
      "text/plain": [
       "['Water Buffalo',\n",
       " 'Saltwater Crocodile',\n",
       " 'Black Rhinoceros',\n",
       " 'Walrus',\n",
       " 'Zebra',\n",
       " 'Hippopotamus',\n",
       " 'Emu',\n",
       " 'Emu',\n",
       " 'Emu',\n",
       " 'Zebra',\n",
       " 'Gaur',\n",
       " 'Gaur']"
      ]
     },
     "execution_count": 41,
     "metadata": {},
     "output_type": "execute_result"
    }
   ],
   "source": [
    "large_animals"
   ]
  },
  {
   "cell_type": "code",
   "execution_count": 42,
   "id": "780a9cb8",
   "metadata": {
    "id": "780a9cb8"
   },
   "outputs": [],
   "source": [
    "# Lists within lists\n",
    "animal_kingdom = [\n",
    "  ['Elephant', 'Tiger', 'Dog', ['Cat', 'Big Cat']],\n",
    "  ['Whale', 'Dolphin', 'Shark', 'Eel'],\n",
    "  ['Eagle', 'Robin']\n",
    "]\n",
    "\n",
    "# indexing practice\n"
   ]
  },
  {
   "cell_type": "code",
   "execution_count": 44,
   "id": "7b616a1f",
   "metadata": {},
   "outputs": [],
   "source": [
    "animal_kingdom[0][-1].append('Small Cat')"
   ]
  },
  {
   "cell_type": "code",
   "execution_count": 45,
   "id": "c6cdbb5c",
   "metadata": {},
   "outputs": [
    {
     "data": {
      "text/plain": [
       "[['Elephant', 'Tiger', 'Dog', ['Cat', 'Big Cat', 'Small Cat']],\n",
       " ['Whale', 'Dolphin', 'Shark', 'Eel'],\n",
       " ['Eagle', 'Robin']]"
      ]
     },
     "execution_count": 45,
     "metadata": {},
     "output_type": "execute_result"
    }
   ],
   "source": [
    "animal_kingdom"
   ]
  },
  {
   "cell_type": "code",
   "execution_count": 54,
   "id": "ee6f3777-5c7b-4067-8276-6f60330c7881",
   "metadata": {},
   "outputs": [
    {
     "data": {
      "text/plain": [
       "'Whale'"
      ]
     },
     "execution_count": 54,
     "metadata": {},
     "output_type": "execute_result"
    }
   ],
   "source": [
    "animal_kingdom[1][0]"
   ]
  },
  {
   "cell_type": "markdown",
   "id": "b8e5061a",
   "metadata": {
    "id": "b8e5061a"
   },
   "source": [
    "#### String and List similarities"
   ]
  },
  {
   "cell_type": "code",
   "execution_count": 55,
   "id": "0d6000e9",
   "metadata": {
    "colab": {
     "base_uri": "https://localhost:8080/",
     "height": 36
    },
    "executionInfo": {
     "elapsed": 120,
     "status": "ok",
     "timestamp": 1694102026664,
     "user": {
      "displayName": "Alibek Kruglikov",
      "userId": "12107629968185180200"
     },
     "user_tz": 240
    },
    "id": "0d6000e9",
    "outputId": "11aad8df-be68-4232-c695-45cad6f07918"
   },
   "outputs": [
    {
     "data": {
      "text/plain": [
       "['thi', 'i', 'really symbol', 'just a list of symbol', 'called characters']"
      ]
     },
     "execution_count": 55,
     "metadata": {},
     "output_type": "execute_result"
    }
   ],
   "source": [
    "# slices can be returned from strings the same as lists\n",
    "a = 'this is really symbols just a list of symbols called characters'\n",
    "\n",
    "# access a character\n",
    "a[4]\n",
    "# access a slice\n",
    "a[::-3]\n",
    "# Splitting strings into lists\n",
    "a.split()\n",
    "# Splitting by a substring\n",
    "a.split('s ')"
   ]
  },
  {
   "cell_type": "code",
   "execution_count": 56,
   "id": "a1c8ea12-c72a-4076-a105-f490db35ee3d",
   "metadata": {},
   "outputs": [
    {
     "data": {
      "text/plain": [
       "'this is really symbols just a list of symbols called characters'"
      ]
     },
     "execution_count": 56,
     "metadata": {},
     "output_type": "execute_result"
    }
   ],
   "source": [
    "a"
   ]
  },
  {
   "cell_type": "code",
   "execution_count": 59,
   "id": "5aff1a35-1d3a-4cc2-b9a3-c1b8c91d4c3c",
   "metadata": {},
   "outputs": [
    {
     "data": {
      "text/plain": [
       "'s'"
      ]
     },
     "execution_count": 59,
     "metadata": {},
     "output_type": "execute_result"
    }
   ],
   "source": [
    "a[3]"
   ]
  },
  {
   "cell_type": "code",
   "execution_count": 64,
   "id": "06cf5a88-6b32-49b3-b059-efefa07df2b1",
   "metadata": {},
   "outputs": [
    {
     "data": {
      "text/plain": [
       "'strceasbsos tjlm lrii'"
      ]
     },
     "execution_count": 64,
     "metadata": {},
     "output_type": "execute_result"
    }
   ],
   "source": [
    "a[::-3]"
   ]
  },
  {
   "cell_type": "markdown",
   "id": "fd0d5ea9",
   "metadata": {
    "id": "fd0d5ea9"
   },
   "source": [
    "***"
   ]
  },
  {
   "cell_type": "markdown",
   "id": "cb2a2ca0",
   "metadata": {
    "id": "cb2a2ca0"
   },
   "source": [
    "## Tuple\n",
    "- **immutable** and **ordered** objects\n",
    "- Similar to a list, but without some funcitonalities.\n",
    "- indexing and splitting similar to lists\n",
    "- More efficient"
   ]
  },
  {
   "cell_type": "code",
   "execution_count": null,
   "id": "f8939ab8",
   "metadata": {
    "id": "f8939ab8"
   },
   "outputs": [],
   "source": [
    "# Definition - parentheses (round brackets) and elements separated by commas\n",
    "x = ('Alibek', 'python', 'Canada')\n",
    "\n",
    "# Getting the size of a tuple (or list)\n",
    "len(x)\n",
    "\n",
    "# Accessing one element\n",
    "y = x[0]\n",
    "# >>> 'Alibek'\n",
    "x[1]\n",
    "# >>> 'python'\n",
    "\n",
    "# Accessing a sequence of entries\n",
    "y = x[1:3]\n",
    "# >>> ('python', 'Canada')\n",
    "\n",
    "# \"Unpacking\" tuples (or lists)\n",
    "name, language, country = x\n",
    "# name = 'Alibek', language = 'python', and country = 'Canada'\n",
    "\n",
    "# Combining tuples\n",
    "y = (8, 2) + x\n",
    "# (8, 2, 'Alibek', 'python', 'Canada')\n",
    "\n",
    "# Checking membership - this is faster with tuples\n",
    "y = 12 in x    # False (x does not contain the value 12)\n",
    "print(y)\n",
    "\n",
    "# You cannot modify tuple objects\n",
    "# They are 'immutable' (this is the essential difference from lists)"
   ]
  },
  {
   "cell_type": "code",
   "execution_count": null,
   "id": "6f397584",
   "metadata": {},
   "outputs": [],
   "source": [
    "y = (8, 2) + x"
   ]
  },
  {
   "cell_type": "code",
   "execution_count": null,
   "id": "t38utf8qrnTD",
   "metadata": {
    "id": "t38utf8qrnTD"
   },
   "outputs": [],
   "source": [
    "# unpacking example\n",
    "name, language, country = x"
   ]
  },
  {
   "cell_type": "code",
   "execution_count": null,
   "id": "5j9woY9LYZny",
   "metadata": {
    "id": "5j9woY9LYZny"
   },
   "outputs": [],
   "source": [
    "country"
   ]
  },
  {
   "cell_type": "markdown",
   "id": "997d7a83",
   "metadata": {
    "id": "997d7a83"
   },
   "source": [
    "\n",
    "\n",
    "It might seem weird that tuples are essentially just lists that can't be modified. What are they good for?  When performance isn't an issue (small amounts of data), it's all about code readability.\n",
    "\n",
    "When you use a tuple, you're telling the people who read your code \"this variable will not change\".\n",
    "In practice, people use lists for \"homogeneous\" data (i.e. a list of strings), whereas the elements in tuples are often \"heterogeneous\" and might include different data types and/or concepts.\n",
    "\n",
    "In the example above, the first entry represents my name, the second entry represents the programming language I'm using, and the third entry represents the country I live in. It would be **conceptually** strange to define these different concepts in the same list - since lists are usually homogeneous data. Tuples can be used as \"keys\" in dictionary data structures (which we'll see below), whereas lists cannot.\n",
    "\n",
    "These differences communicate the objects's function, and helps make your code more understandable.\n"
   ]
  },
  {
   "cell_type": "markdown",
   "id": "aaeab8d7",
   "metadata": {
    "id": "aaeab8d7"
   },
   "source": [
    "***"
   ]
  },
  {
   "cell_type": "markdown",
   "id": "140ee287",
   "metadata": {
    "id": "140ee287"
   },
   "source": [
    "## Dictionary (dict)\n",
    "\n",
    "- Similar to lists, but elements are accessed using 'keys' rather than order.\n",
    "- 'keys' can take on numerous data types (str, int, floats, tuples)\n",
    "    - as long as the data type is ['hashable'](https://towardsdatascience.com/iterable-ordered-mutable-and-hashable-python-objects-explained-1254c9b9e421#:~:text=In%20particular%2C%20all%20the%20primitive,sets%2C%20and%20bytearrays%20are%20unhashable.)"
   ]
  },
  {
   "cell_type": "code",
   "execution_count": 74,
   "id": "25c88531",
   "metadata": {
    "id": "25c88531"
   },
   "outputs": [],
   "source": [
    "# definition - braces, keys and values separated by colons,\n",
    "# commas between key and value pairs\n",
    "x = {'Student_ID': [1,2,3],\n",
    "    'Student_Name': 42,\n",
    "    'degree': ['marketing', 'computer science', 'snake studies']}"
   ]
  },
  {
   "cell_type": "code",
   "execution_count": 75,
   "id": "Fm2z_LaNYvd0",
   "metadata": {
    "id": "Fm2z_LaNYvd0"
   },
   "outputs": [
    {
     "data": {
      "text/plain": [
       "42"
      ]
     },
     "execution_count": 75,
     "metadata": {},
     "output_type": "execute_result"
    }
   ],
   "source": [
    "# access a value\n",
    "x['Student_Name']"
   ]
  },
  {
   "cell_type": "code",
   "execution_count": 76,
   "id": "0537aba9",
   "metadata": {
    "id": "0537aba9"
   },
   "outputs": [],
   "source": [
    "# modifying values\n",
    "x['Student_Name'] = 'Alibek'"
   ]
  },
  {
   "cell_type": "code",
   "execution_count": 77,
   "id": "9dWElYMFtiCl",
   "metadata": {
    "id": "9dWElYMFtiCl"
   },
   "outputs": [],
   "source": [
    "# adding keys and values\n",
    "x['Age'] = 42"
   ]
  },
  {
   "cell_type": "code",
   "execution_count": 78,
   "id": "540afc60",
   "metadata": {
    "scrolled": true
   },
   "outputs": [
    {
     "data": {
      "text/plain": [
       "{'Student_ID': [1, 2, 3],\n",
       " 'Student_Name': 'Alibek',\n",
       " 'degree': ['marketing', 'computer science', 'snake studies'],\n",
       " 'Age': 42}"
      ]
     },
     "execution_count": 78,
     "metadata": {},
     "output_type": "execute_result"
    }
   ],
   "source": [
    "x"
   ]
  },
  {
   "cell_type": "code",
   "execution_count": 79,
   "id": "c1f5fa7e",
   "metadata": {
    "colab": {
     "base_uri": "https://localhost:8080/"
    },
    "executionInfo": {
     "elapsed": 8,
     "status": "ok",
     "timestamp": 1690333281238,
     "user": {
      "displayName": "Alibek Kruglikov",
      "userId": "12107629968185180200"
     },
     "user_tz": 240
    },
    "id": "c1f5fa7e",
    "outputId": "e7598f5a-0043-42c7-ddad-f248a847bd0a"
   },
   "outputs": [
    {
     "data": {
      "text/plain": [
       "dict_keys(['Student_ID', 'Student_Name', 'degree', 'Age'])"
      ]
     },
     "execution_count": 79,
     "metadata": {},
     "output_type": "execute_result"
    }
   ],
   "source": [
    "# retrieving keys\n",
    "x.keys()"
   ]
  },
  {
   "cell_type": "code",
   "execution_count": 80,
   "id": "713ab13e",
   "metadata": {},
   "outputs": [
    {
     "data": {
      "text/plain": [
       "[[1, 2, 3], 'Alibek', ['marketing', 'computer science', 'snake studies'], 42]"
      ]
     },
     "execution_count": 80,
     "metadata": {},
     "output_type": "execute_result"
    }
   ],
   "source": [
    "list(x.values())"
   ]
  },
  {
   "cell_type": "code",
   "execution_count": 81,
   "id": "1f423d28",
   "metadata": {
    "colab": {
     "base_uri": "https://localhost:8080/"
    },
    "executionInfo": {
     "elapsed": 142,
     "status": "ok",
     "timestamp": 1690333303928,
     "user": {
      "displayName": "Alibek Kruglikov",
      "userId": "12107629968185180200"
     },
     "user_tz": 240
    },
    "id": "1f423d28",
    "outputId": "153bb478-160a-49d9-ffc4-bd6916c2e87f"
   },
   "outputs": [
    {
     "data": {
      "text/plain": [
       "dict_values([[1, 2, 3], 'Alibek', ['marketing', 'computer science', 'snake studies'], 42])"
      ]
     },
     "execution_count": 81,
     "metadata": {},
     "output_type": "execute_result"
    }
   ],
   "source": [
    "# retrieving values\n",
    "x.values()"
   ]
  },
  {
   "cell_type": "code",
   "execution_count": 82,
   "id": "3f2a4650",
   "metadata": {
    "colab": {
     "base_uri": "https://localhost:8080/"
    },
    "executionInfo": {
     "elapsed": 7,
     "status": "ok",
     "timestamp": 1690333318422,
     "user": {
      "displayName": "Alibek Kruglikov",
      "userId": "12107629968185180200"
     },
     "user_tz": 240
    },
    "id": "3f2a4650",
    "outputId": "478bcf20-a3fc-4eca-8a62-d0623f83aa87"
   },
   "outputs": [
    {
     "data": {
      "text/plain": [
       "dict_items([('Student_ID', [1, 2, 3]), ('Student_Name', 'Alibek'), ('degree', ['marketing', 'computer science', 'snake studies']), ('Age', 42)])"
      ]
     },
     "execution_count": 82,
     "metadata": {},
     "output_type": "execute_result"
    }
   ],
   "source": [
    "# retrieving keys and values (items)\n",
    "x.items()"
   ]
  },
  {
   "cell_type": "markdown",
   "id": "d8ca1111",
   "metadata": {
    "id": "d8ca1111"
   },
   "source": [
    "Note: Dictionaries should not be used as 'ordered' data types like lists, and it is dangerous to write your code in a way that uses the order of a dictionary.\n",
    "\n",
    "It makes no sense to say that the 'student_name'th entry comes before the 'degree'th entry, even though this is how we have written it above."
   ]
  },
  {
   "cell_type": "markdown",
   "id": "95be87ab",
   "metadata": {
    "id": "95be87ab"
   },
   "source": [
    "***"
   ]
  },
  {
   "cell_type": "markdown",
   "id": "882f5149",
   "metadata": {
    "id": "882f5149"
   },
   "source": [
    "### Sets\n",
    "\n",
    "Data structure that:\n",
    "- are unordered, meaning there is no element 0 and element 1, and\n",
    "- The values contained are unique - meaning there are no duplicate entries."
   ]
  },
  {
   "cell_type": "code",
   "execution_count": 83,
   "id": "91fd81ce",
   "metadata": {
    "colab": {
     "base_uri": "https://localhost:8080/"
    },
    "executionInfo": {
     "elapsed": 148,
     "status": "ok",
     "timestamp": 1690333438321,
     "user": {
      "displayName": "Alibek Kruglikov",
      "userId": "12107629968185180200"
     },
     "user_tz": 240
    },
    "id": "91fd81ce",
    "outputId": "1e554c93-7835-4e66-f5bd-19656975034b"
   },
   "outputs": [
    {
     "data": {
      "text/plain": [
       "{1.0, 2, 'apPle', 'apple'}"
      ]
     },
     "execution_count": 83,
     "metadata": {},
     "output_type": "execute_result"
    }
   ],
   "source": [
    "# definition - braces and commas between elements\n",
    "my_set = {2, 1.0, 'apple', 1.0, 'apPle'}\n",
    "\n",
    "my_set"
   ]
  },
  {
   "cell_type": "code",
   "execution_count": 86,
   "id": "aZmxTAPAudCi",
   "metadata": {
    "id": "aZmxTAPAudCi"
   },
   "outputs": [
    {
     "data": {
      "text/plain": [
       "{'Black Rhinoceros',\n",
       " 'Emu',\n",
       " 'Gaur',\n",
       " 'Hippopotamus',\n",
       " 'Saltwater Crocodile',\n",
       " 'Walrus',\n",
       " 'Water Buffalo',\n",
       " 'Zebra'}"
      ]
     },
     "execution_count": 86,
     "metadata": {},
     "output_type": "execute_result"
    }
   ],
   "source": [
    "# delete duplicates from a list using set()\n",
    "set(large_animals)"
   ]
  },
  {
   "cell_type": "markdown",
   "id": "8e27bec4",
   "metadata": {
    "id": "8e27bec4"
   },
   "source": [
    "### Summary\n",
    "\n",
    "|Data Structure\t| Preserves order | Mutable | Symbol| Can contain duplicates | Can be sliced |\n",
    "|---------|------|------|------|------|------|\n",
    "|str\t|✓\t|☓\t|''  , \"\"|\t✓|✓|\n",
    "|list\t|✓\t|✓\t|[] |\t✓|✓|\n",
    "|tuple\t|✓\t|☓\t|() |\t✓|✓|\n",
    "|set\t|☓\t|✓\t|{} |\t☓|☓|\n",
    "|dict  |✓\t|✓\t|{ key : value} | \t☓| ☓|"
   ]
  },
  {
   "cell_type": "markdown",
   "id": "b846ecc8",
   "metadata": {
    "id": "b846ecc8"
   },
   "source": [
    "***"
   ]
  },
  {
   "cell_type": "markdown",
   "id": "8b304718",
   "metadata": {
    "id": "8b304718"
   },
   "source": [
    "### Booleans and Comparison"
   ]
  },
  {
   "cell_type": "code",
   "execution_count": null,
   "id": "85f2d40f",
   "metadata": {
    "colab": {
     "base_uri": "https://localhost:8080/"
    },
    "executionInfo": {
     "elapsed": 137,
     "status": "ok",
     "timestamp": 1694103233634,
     "user": {
      "displayName": "Alibek Kruglikov",
      "userId": "12107629968185180200"
     },
     "user_tz": 240
    },
    "id": "85f2d40f",
    "outputId": "a4f2df1e-1ca5-4720-97f8-9c02966e3dee"
   },
   "outputs": [],
   "source": [
    "a = True\n",
    "b = False\n",
    "\n",
    "# ---------------------------------\n",
    "# Comparison Operators\n",
    "a = 14\n",
    "b = 5\n"
   ]
  },
  {
   "cell_type": "code",
   "execution_count": null,
   "id": "9uITERrAbGfJ",
   "metadata": {
    "id": "9uITERrAbGfJ"
   },
   "outputs": [],
   "source": [
    "# Equal\n",
    "a == b # False"
   ]
  },
  {
   "cell_type": "code",
   "execution_count": null,
   "id": "iE7BSJ0Wa9Uo",
   "metadata": {
    "colab": {
     "base_uri": "https://localhost:8080/"
    },
    "executionInfo": {
     "elapsed": 136,
     "status": "ok",
     "timestamp": 1694103252136,
     "user": {
      "displayName": "Alibek Kruglikov",
      "userId": "12107629968185180200"
     },
     "user_tz": 240
    },
    "id": "iE7BSJ0Wa9Uo",
    "outputId": "160ab4d7-b95d-42c8-a504-f163a17305af"
   },
   "outputs": [],
   "source": [
    "# Not equal\n",
    "a != b"
   ]
  },
  {
   "cell_type": "code",
   "execution_count": null,
   "id": "ctrdTv6LbBhi",
   "metadata": {
    "id": "ctrdTv6LbBhi"
   },
   "outputs": [],
   "source": [
    "# Greater than\n",
    "a > b"
   ]
  },
  {
   "cell_type": "code",
   "execution_count": null,
   "id": "pLxg9olkbETZ",
   "metadata": {
    "id": "pLxg9olkbETZ"
   },
   "outputs": [],
   "source": [
    "# Greater than or equal to\n",
    "a >= b"
   ]
  },
  {
   "cell_type": "code",
   "execution_count": null,
   "id": "YhH4hDq4bMh1",
   "metadata": {
    "id": "YhH4hDq4bMh1"
   },
   "outputs": [],
   "source": [
    "# Less than\n",
    "a < b"
   ]
  },
  {
   "cell_type": "code",
   "execution_count": null,
   "id": "PPkTK9avbN4w",
   "metadata": {
    "id": "PPkTK9avbN4w"
   },
   "outputs": [],
   "source": [
    "# Less than or equal to\n",
    "a <= b"
   ]
  },
  {
   "cell_type": "code",
   "execution_count": null,
   "id": "1an7nCiGbLdZ",
   "metadata": {
    "executionInfo": {
     "elapsed": 131,
     "status": "ok",
     "timestamp": 1694103311127,
     "user": {
      "displayName": "Alibek Kruglikov",
      "userId": "12107629968185180200"
     },
     "user_tz": 240
    },
    "id": "1an7nCiGbLdZ"
   },
   "outputs": [],
   "source": [
    "# Equality with strings\n",
    "a = '1 2 3'\n",
    "b = 'one two 3'"
   ]
  },
  {
   "cell_type": "code",
   "execution_count": null,
   "id": "4yHRGKkXbQf1",
   "metadata": {
    "id": "4yHRGKkXbQf1"
   },
   "outputs": [],
   "source": [
    "a < b"
   ]
  },
  {
   "cell_type": "code",
   "execution_count": null,
   "id": "5daae7a0",
   "metadata": {},
   "outputs": [],
   "source": [
    "min(['abc', '123', 'xyz'])"
   ]
  },
  {
   "cell_type": "code",
   "execution_count": null,
   "id": "Pa5lhz6Va1iS",
   "metadata": {
    "colab": {
     "base_uri": "https://localhost:8080/"
    },
    "executionInfo": {
     "elapsed": 169,
     "status": "ok",
     "timestamp": 1694103391457,
     "user": {
      "displayName": "Alibek Kruglikov",
      "userId": "12107629968185180200"
     },
     "user_tz": 240
    },
    "id": "Pa5lhz6Va1iS",
    "outputId": "894a36e2-800c-4259-a81b-de9f61966de5"
   },
   "outputs": [],
   "source": [
    "# Logic operators (compound boolean expressions)\n",
    "\n",
    "# and - both must be True\n",
    "snow = False\n",
    "temperature = 28\n",
    "camping = temperature > 25 and snow == False\n",
    "print(camping)\n",
    "# >>> True\n",
    "\n",
    "snow = True\n",
    "camping = temperature > 25 and snow == False\n",
    "print(camping)\n",
    "# >>> False"
   ]
  },
  {
   "cell_type": "code",
   "execution_count": null,
   "id": "UiCaA96YbhdY",
   "metadata": {
    "colab": {
     "base_uri": "https://localhost:8080/"
    },
    "executionInfo": {
     "elapsed": 141,
     "status": "ok",
     "timestamp": 1694103396963,
     "user": {
      "displayName": "Alibek Kruglikov",
      "userId": "12107629968185180200"
     },
     "user_tz": 240
    },
    "id": "UiCaA96YbhdY",
    "outputId": "558f7ef1-c0c3-43f0-b9e3-68e70f67c360"
   },
   "outputs": [],
   "source": [
    "# or - either must be True\n",
    "has_coffee = True\n",
    "has_beer = True\n",
    "print(has_coffee or has_beer)\n",
    "# >>> True\n",
    "has_coffee = False\n",
    "print(has_coffee or has_beer)\n",
    "# >>> True"
   ]
  },
  {
   "cell_type": "code",
   "execution_count": null,
   "id": "0400d55f",
   "metadata": {},
   "outputs": [],
   "source": [
    "False or False"
   ]
  },
  {
   "cell_type": "markdown",
   "id": "63c2dd62",
   "metadata": {
    "id": "63c2dd62"
   },
   "source": [
    "### Control structure (also refered to **control flow**): if/elif/else statements\n",
    "\n",
    "**if statements** are one of the most essential concepts in any programming language because they allow the code to execute differently depending on external values. The format of an if statement is as follows:\n",
    "\n",
    "- Essential Programming Concept, in any langauge. Allows the code to 'react' to circumstances.\n",
    "- Executes code only if a certain condition is met\n",
    "\n",
    "```python\n",
    "if [boolean expression]: # starts with if keyword then test condition\n",
    "    [what to do when the boolean expression evaluates to True]\n",
    "else:   # optional\n",
    "    [what to do when the boolean expression evaluates to False]\n",
    "```"
   ]
  },
  {
   "cell_type": "code",
   "execution_count": null,
   "id": "d328d9c2",
   "metadata": {
    "id": "d328d9c2"
   },
   "outputs": [],
   "source": [
    "# Using the data structure above, let's output something different depending on\n",
    "# whether or not someone passed the course\n",
    "course_marks = {'Linda': 84, 'Andrew': 100, 'Jasmine': 12}\n",
    "pass_mark = 80\n",
    "\n",
    "\n",
    "if course_marks['Linda'] >= pass_mark:\n",
    "  print(\"Linda has passed her course\")\n",
    "\n",
    "else:\n",
    "  print(\"Linda has not passed\")"
   ]
  },
  {
   "cell_type": "markdown",
   "id": "b26415b9",
   "metadata": {
    "id": "b26415b9"
   },
   "source": [
    "#### IFs and ELIFS\n",
    "```python\n",
    "if [boolean expression]: #starts with if keyword then test condition\n",
    "    [what to do when the boolean expression evaluates to True]\n",
    "elif: [boolean expression]\n",
    "    [what to do when the boolean expression evaluates to True]\n",
    "else:   # optional\n",
    "    [what to do when the boolean expression evaluates to False]\n",
    "```\n",
    "\n"
   ]
  },
  {
   "cell_type": "code",
   "execution_count": null,
   "id": "13725f32",
   "metadata": {
    "colab": {
     "base_uri": "https://localhost:8080/"
    },
    "executionInfo": {
     "elapsed": 137,
     "status": "ok",
     "timestamp": 1694103499073,
     "user": {
      "displayName": "Alibek Kruglikov",
      "userId": "12107629968185180200"
     },
     "user_tz": 240
    },
    "id": "13725f32",
    "outputId": "c09c099d-5a7b-4fa8-d85d-45102be46885"
   },
   "outputs": [],
   "source": [
    "course_marks = {'Linda': 82, 'Andrew': 100, 'Jasmine': 12}\n",
    "\n",
    "if course_marks['Linda'] >= 90:\n",
    "    print(\"A\")\n",
    "\n",
    "elif course_marks['Linda'] >= 80:\n",
    "    print(\"B\")\n",
    "\n",
    "elif course_marks['Linda'] >= 70:\n",
    "    print(\"C\")\n",
    "\n",
    "else:\n",
    "    print('Fail')\n",
    "\n"
   ]
  },
  {
   "cell_type": "markdown",
   "id": "2977b6a1",
   "metadata": {
    "id": "2977b6a1"
   },
   "source": [
    "### Nested Ifs"
   ]
  },
  {
   "cell_type": "code",
   "execution_count": null,
   "id": "60fbe6e1",
   "metadata": {
    "colab": {
     "base_uri": "https://localhost:8080/"
    },
    "executionInfo": {
     "elapsed": 152,
     "status": "ok",
     "timestamp": 1694103517788,
     "user": {
      "displayName": "Alibek Kruglikov",
      "userId": "12107629968185180200"
     },
     "user_tz": 240
    },
    "id": "60fbe6e1",
    "outputId": "e79b8aa6-a321-4b3f-b6db-4c1a82c4f94d"
   },
   "outputs": [],
   "source": [
    "a = 1\n",
    "if a > 0:\n",
    "    print('positive')\n",
    "elif a == 0:\n",
    "    print('zero')\n",
    "else:\n",
    "    print('negative')"
   ]
  },
  {
   "cell_type": "code",
   "execution_count": null,
   "id": "27237130",
   "metadata": {
    "id": "27237130"
   },
   "outputs": [],
   "source": [
    "a = 1\n",
    "\n",
    "if a >= 0:\n",
    "    if a == 0:\n",
    "        print('zero')\n",
    "    else:\n",
    "        print('Positive Number')\n",
    "\n",
    "else:\n",
    "    print(\"negative Number\")"
   ]
  },
  {
   "cell_type": "markdown",
   "id": "cd0bb7c5",
   "metadata": {
    "id": "cd0bb7c5"
   },
   "source": [
    "## Control Flow: For Loops (definite iterations)\n",
    "\n",
    "If all we were able to do with lists, tuples, and dictionaries was store data in them, they would essentially\n",
    "just be useful for organizing our code and nothing else.\n",
    "Luckily, we can iterate through them using \"for\" loops. The \"for\" loop\n",
    "has the following format:\n",
    "```python\n",
    "for [loop variable] in [iterable object]:\n",
    "    [code to execute using loop variable]\n",
    "```"
   ]
  },
  {
   "cell_type": "code",
   "execution_count": 87,
   "id": "56b0d31c",
   "metadata": {
    "colab": {
     "base_uri": "https://localhost:8080/"
    },
    "executionInfo": {
     "elapsed": 2,
     "status": "ok",
     "timestamp": 1690335321023,
     "user": {
      "displayName": "Alibek Kruglikov",
      "userId": "12107629968185180200"
     },
     "user_tz": 240
    },
    "id": "56b0d31c",
    "outputId": "e81f5af1-0188-4f9f-aa53-36b9686a4466"
   },
   "outputs": [
    {
     "name": "stdout",
     "output_type": "stream",
     "text": [
      "A\n",
      "l\n",
      "i\n",
      "b\n",
      "e\n",
      "k\n"
     ]
    }
   ],
   "source": [
    "# simple for loop\n",
    "\n",
    "my_name = \"Alibek\"\n",
    "\n",
    "for char in my_name:\n",
    "  print(char)"
   ]
  },
  {
   "cell_type": "code",
   "execution_count": 95,
   "id": "7fcd8b66-c582-456a-836b-14cecbc48595",
   "metadata": {},
   "outputs": [
    {
     "name": "stdout",
     "output_type": "stream",
     "text": [
      "dog\n",
      "cat\n"
     ]
    }
   ],
   "source": [
    "animals = ('dog', 'cat')\n",
    "\n",
    "for animal in animals:\n",
    "    print(animal)"
   ]
  },
  {
   "cell_type": "code",
   "execution_count": 88,
   "id": "3R5BrSlA1_b8",
   "metadata": {
    "colab": {
     "base_uri": "https://localhost:8080/"
    },
    "executionInfo": {
     "elapsed": 136,
     "status": "ok",
     "timestamp": 1690335455372,
     "user": {
      "displayName": "Alibek Kruglikov",
      "userId": "12107629968185180200"
     },
     "user_tz": 240
    },
    "id": "3R5BrSlA1_b8",
    "outputId": "fe2df1e6-d14a-4e80-dcad-781066275cd8"
   },
   "outputs": [
    {
     "name": "stdout",
     "output_type": "stream",
     "text": [
      "Linda : 84\n",
      "Andrew : 100\n",
      "Jasmine : 12\n"
     ]
    }
   ],
   "source": [
    "course_marks = {'Linda': 84, 'Andrew': 100, 'Jasmine': 12}\n",
    "\n",
    "students = course_marks.keys()\n",
    "marks = course_marks.values()\n",
    "pass_mark = 85\n",
    "\n",
    "for student in students:\n",
    "    print(student + ' : ' + str(course_marks[student]))"
   ]
  },
  {
   "cell_type": "code",
   "execution_count": 89,
   "id": "75d025b6",
   "metadata": {
    "colab": {
     "base_uri": "https://localhost:8080/"
    },
    "executionInfo": {
     "elapsed": 140,
     "status": "ok",
     "timestamp": 1690335539216,
     "user": {
      "displayName": "Alibek Kruglikov",
      "userId": "12107629968185180200"
     },
     "user_tz": 240
    },
    "id": "75d025b6",
    "outputId": "643ef6a1-01af-4e84-97ae-4d926a3fd0d3"
   },
   "outputs": [
    {
     "name": "stdout",
     "output_type": "stream",
     "text": [
      "Linda has not passed\n",
      "Andrew has passed their course\n",
      "Jasmine has not passed\n"
     ]
    },
    {
     "data": {
      "text/plain": [
       "[84, 100, 12]"
      ]
     },
     "execution_count": 89,
     "metadata": {},
     "output_type": "execute_result"
    }
   ],
   "source": [
    "course_marks = {'Linda': 84, 'Andrew': 100, 'Jasmine': 12}\n",
    "\n",
    "student_names = course_marks.keys()\n",
    "marks = course_marks.values()\n",
    "pass_mark = 85\n",
    "\n",
    "for student in student_names:\n",
    "    if course_marks[student] >= pass_mark:\n",
    "        print(student + \" has passed their course\")\n",
    "\n",
    "    else:\n",
    "        print(student + \" has not passed\")\n",
    "marks_list = list(marks)\n",
    "marks_list"
   ]
  },
  {
   "cell_type": "code",
   "execution_count": 91,
   "id": "2d7efa0a",
   "metadata": {},
   "outputs": [
    {
     "name": "stdout",
     "output_type": "stream",
     "text": [
      "Linda has not passed\n",
      "Andrew has passed\n",
      "Jasmine has not passed\n"
     ]
    }
   ],
   "source": [
    "for student_grade in course_marks.items():\n",
    "    name = student_grade[0]\n",
    "    grade = student_grade[1]\n",
    "    if grade >= pass_mark:\n",
    "        print(name + ' has passed')\n",
    "    else:\n",
    "        print(name + ' has not passed')"
   ]
  },
  {
   "cell_type": "code",
   "execution_count": 92,
   "id": "fd4c44f4",
   "metadata": {},
   "outputs": [
    {
     "data": {
      "text/plain": [
       "'my name is Jasmine'"
      ]
     },
     "execution_count": 92,
     "metadata": {},
     "output_type": "execute_result"
    }
   ],
   "source": [
    "f'my name is {name}'"
   ]
  },
  {
   "cell_type": "code",
   "execution_count": 93,
   "id": "3d61ea3f",
   "metadata": {
    "id": "3d61ea3f"
   },
   "outputs": [
    {
     "name": "stdout",
     "output_type": "stream",
     "text": [
      "Elephant\n",
      "Tiger\n",
      "Dog\n",
      "Cat\n",
      "Big Cat\n",
      "Whale\n",
      "Dolphin\n",
      "Shark\n",
      "Eel\n",
      "Eagle\n",
      "Robin\n"
     ]
    }
   ],
   "source": [
    "animal_kingdom = [\n",
    "  ['Elephant', 'Tiger', 'Dog', ['Cat', 'Big Cat']],\n",
    "  ['Whale', 'Dolphin', 'Shark', 'Eel'],\n",
    "  ['Eagle', 'Robin']\n",
    "]\n",
    "\n",
    "\n",
    "# how can we print all animals one by one?\n",
    "for subkingdom in animal_kingdom:\n",
    "    for animal_or_list in subkingdom:\n",
    "        if type(animal_or_list) == list:\n",
    "            for animal in animal_or_list:\n",
    "                print(animal)\n",
    "        else:\n",
    "            print(animal_or_list)"
   ]
  },
  {
   "cell_type": "code",
   "execution_count": null,
   "id": "8dada10b",
   "metadata": {
    "colab": {
     "base_uri": "https://localhost:8080/"
    },
    "executionInfo": {
     "elapsed": 156,
     "status": "ok",
     "timestamp": 1694103928033,
     "user": {
      "displayName": "Alibek Kruglikov",
      "userId": "12107629968185180200"
     },
     "user_tz": 240
    },
    "id": "8dada10b",
    "outputId": "d7a757d1-b415-420c-f13c-1c1047af8398"
   },
   "outputs": [],
   "source": [
    "# summing lists\n",
    "course_marks = [100, 90, 95, 80, 70]\n",
    "marks_sum = 0 # accumulator\n",
    "\n",
    "# add them all up with a loop\n",
    "for mark in course_marks:\n",
    "    print(marks_sum)\n",
    "    marks_sum += mark"
   ]
  },
  {
   "cell_type": "code",
   "execution_count": null,
   "id": "0b939743",
   "metadata": {},
   "outputs": [],
   "source": [
    "marks_sum"
   ]
  },
  {
   "cell_type": "code",
   "execution_count": null,
   "id": "12593187",
   "metadata": {
    "colab": {
     "base_uri": "https://localhost:8080/"
    },
    "executionInfo": {
     "elapsed": 154,
     "status": "ok",
     "timestamp": 1690336194291,
     "user": {
      "displayName": "Alibek Kruglikov",
      "userId": "12107629968185180200"
     },
     "user_tz": 240
    },
    "id": "12593187",
    "outputId": "a7ec43b5-e4e7-4a6c-8510-4d703f1cad3b"
   },
   "outputs": [],
   "source": [
    "# Iterating through lists (or tuples) by their index\n",
    "# this is necessary to change values in a list\n",
    "course_marks = [82, 100, 12]\n",
    "\n",
    "for index in range(len(course_marks)):\n",
    "  course_marks[index] -= 10\n",
    "\n",
    "print(course_marks)"
   ]
  },
  {
   "cell_type": "code",
   "execution_count": null,
   "id": "126a3a0d",
   "metadata": {
    "id": "126a3a0d"
   },
   "outputs": [],
   "source": [
    "course_marks = {'Linda': 72, 'Andrew': 100, 'Jasmine': 12}\n",
    "\n",
    "# iterating through dictionary keys\n",
    "for k in course_marks.keys():\n",
    "    print(k)"
   ]
  },
  {
   "cell_type": "code",
   "execution_count": null,
   "id": "CSiJZ7mAegKx",
   "metadata": {
    "id": "CSiJZ7mAegKx"
   },
   "outputs": [],
   "source": [
    "# iterating through dictionary values\n",
    "for v in course_marks.values():\n",
    "    print(v)"
   ]
  },
  {
   "cell_type": "code",
   "execution_count": null,
   "id": "R8qbYlFnedF4",
   "metadata": {
    "id": "R8qbYlFnedF4"
   },
   "outputs": [],
   "source": [
    "# what about iterating through a dictionary itself?\n",
    "for d in course_marks:\n",
    "    print(d)"
   ]
  },
  {
   "cell_type": "markdown",
   "id": "3b6d075b",
   "metadata": {
    "id": "3b6d075b"
   },
   "source": [
    "## Control Flow: While Loops (aka. indefinite iterations)\n",
    "\n",
    "Sometimes, we don't want our loop to iteratate through the values of some data structure, but\n",
    "instead want it to execute until some condition is no longer met. For this, we use a \"while\" loop, which has the\n",
    "following format:\n",
    "\n",
    "```python\n",
    "while [boolean expression]: #starts with a while keyword, followed by a test condition, ends with a colon :\n",
    "    [what you want to do each iteration] #loop body contains code that gets repeated. Must be indented 4 spaces.\n",
    "```"
   ]
  },
  {
   "cell_type": "code",
   "execution_count": null,
   "id": "2d8e76d0",
   "metadata": {
    "colab": {
     "base_uri": "https://localhost:8080/"
    },
    "executionInfo": {
     "elapsed": 141,
     "status": "ok",
     "timestamp": 1690336424173,
     "user": {
      "displayName": "Alibek Kruglikov",
      "userId": "12107629968185180200"
     },
     "user_tz": 240
    },
    "id": "2d8e76d0",
    "outputId": "80b1b62d-5c61-4b42-edb5-9871453176a9"
   },
   "outputs": [],
   "source": [
    "# Simple\n",
    "n = 0\n",
    "list_of_numbers = []\n",
    "\n",
    "# print all numbers from n to 0\n",
    "while n < 10:\n",
    "    list_of_numbers.append(n)\n",
    "    n += 1"
   ]
  },
  {
   "cell_type": "code",
   "execution_count": null,
   "id": "c4e78d49",
   "metadata": {},
   "outputs": [],
   "source": [
    "list_of_numbers"
   ]
  },
  {
   "cell_type": "code",
   "execution_count": null,
   "id": "4a10355d",
   "metadata": {
    "id": "4a10355d"
   },
   "outputs": [],
   "source": [
    "# BE CAREFUL with INFINITE LOOPS, you'll break the matrix\n",
    "# Can be useful, for example with code that interacts with hardware\n",
    "# may use an infinite loop to constantly check whether a button or\n",
    "# switch has been activated\n",
    "\n",
    "# CTRL + C forces a command line process to quit"
   ]
  },
  {
   "cell_type": "markdown",
   "id": "642ce2a5",
   "metadata": {
    "id": "642ce2a5"
   },
   "source": [
    "***"
   ]
  },
  {
   "cell_type": "markdown",
   "id": "f0b96613",
   "metadata": {
    "id": "f0b96613"
   },
   "source": [
    "## Cooking Challenge\n",
    "\n",
    "Alberto is making spaghetti tonight and he needs to make sure that if he doesn't have enough of the ingredients in his pantry, he adds them to his shopping list.\n",
    "\n",
    "- For each item in the recipe, check if the ingredient is in Alberto's pantry.\n",
    "\n",
    "- If the recipe ingredient is in the pantry, check if the recipe requires more of the ingredient than what Alberto has in storage. If so, add the name and the quantity he needs to purchase as key-value pairs in the dictionary shopping_list.\n",
    "\n",
    "- If the recipe item is not in the pantry, add the ingredient and the quantity as **key-value pairs in the dictionary** shopping_list."
   ]
  },
  {
   "cell_type": "code",
   "execution_count": null,
   "id": "26551f64",
   "metadata": {
    "id": "26551f64"
   },
   "outputs": [],
   "source": [
    "pantry = {'pasta': 3, 'garlic': 4,'sauce': 2,\n",
    "          'basil': 2, 'salt': 3, 'olive oil': 3,\n",
    "          'rice': 3, 'bread': 3, 'peanut butter': 1,\n",
    "          'flour': 1, 'eggs': 1, 'onions': 1, 'mushrooms': 3,\n",
    "          'broccoli': 2, 'butter': 2,'pickles': 6, 'milk': 2,\n",
    "          'chia seeds': 5}\n",
    "\n",
    "meal_recipe = {'pasta': 2, 'garlic': 2, 'sauce': 3,\n",
    "          'basil': 4, 'salt': 1, 'pepper': 2,\n",
    "          'olive oil': 2, 'onions': 2, 'mushrooms': 6}\n",
    "\n",
    "\n",
    "shopping_list = dict()"
   ]
  },
  {
   "cell_type": "markdown",
   "id": "f30f530f",
   "metadata": {
    "id": "f30f530f"
   },
   "source": [
    "```\n",
    "1. You have a meal recipe and you have a pantry.\n",
    "2. You read item by item in the meal recipe.\n",
    "3. FOR each item, you verify IF you have the item in your pantry.\n",
    "    3a. If you meet the previous condition, you verify IF you have enough of that item.\n",
    "4. ELSE you add the whole ingredient quantity to your shopping list.\n",
    "\n",
    "```"
   ]
  },
  {
   "cell_type": "code",
   "execution_count": null,
   "id": "034b6926",
   "metadata": {},
   "outputs": [],
   "source": [
    "if 'salmon' not in meal_recipe.keys():\n",
    "    print('no')"
   ]
  },
  {
   "cell_type": "code",
   "execution_count": null,
   "id": "550469b1",
   "metadata": {
    "id": "550469b1"
   },
   "outputs": [],
   "source": [
    "### Solution\n",
    "\n",
    "for product in meal_recipe.keys():\n",
    "    needed = meal_recipe[product]\n",
    "    if product not in pantry.keys():\n",
    "        # we don't have this product at all\n",
    "        shopping_list[product] = needed\n",
    "    else:\n",
    "        # we have some of this product\n",
    "        number_in_pantry = pantry[product]\n",
    "        to_buy = needed - number_in_pantry\n",
    "        if to_buy > 0:\n",
    "            shopping_list[product] = to_buy"
   ]
  },
  {
   "cell_type": "code",
   "execution_count": null,
   "id": "B_lx0NeNV3OQ",
   "metadata": {
    "id": "B_lx0NeNV3OQ"
   },
   "outputs": [],
   "source": [
    "shopping_list"
   ]
  }
 ],
 "metadata": {
  "colab": {
   "provenance": []
  },
  "kernelspec": {
   "display_name": "Python 3 (ipykernel)",
   "language": "python",
   "name": "python3"
  },
  "language_info": {
   "codemirror_mode": {
    "name": "ipython",
    "version": 3
   },
   "file_extension": ".py",
   "mimetype": "text/x-python",
   "name": "python",
   "nbconvert_exporter": "python",
   "pygments_lexer": "ipython3",
   "version": "3.8.18"
  }
 },
 "nbformat": 4,
 "nbformat_minor": 5
}
